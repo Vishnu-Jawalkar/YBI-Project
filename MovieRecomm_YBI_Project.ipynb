{
  "nbformat": 4,
  "nbformat_minor": 0,
  "metadata": {
    "colab": {
      "provenance": [],
      "authorship_tag": "ABX9TyMFOfjyC30FtdlhBglVtG6e",
      "include_colab_link": true
    },
    "kernelspec": {
      "name": "python3",
      "display_name": "Python 3"
    },
    "language_info": {
      "name": "python"
    }
  },
  "cells": [
    {
      "cell_type": "markdown",
      "metadata": {
        "id": "view-in-github",
        "colab_type": "text"
      },
      "source": [
        "<a href=\"https://colab.research.google.com/github/Vishnu-Jawalkar/YBI-Project/blob/main/MovieRecomm_YBI_Project.ipynb\" target=\"_parent\"><img src=\"https://colab.research.google.com/assets/colab-badge.svg\" alt=\"Open In Colab\"/></a>"
      ]
    },
    {
      "cell_type": "code",
      "execution_count": 1,
      "metadata": {
        "id": "ypOPOG8XIN1g"
      },
      "outputs": [],
      "source": [
        "import pandas as pd"
      ]
    },
    {
      "cell_type": "code",
      "source": [
        "import numpy as np"
      ],
      "metadata": {
        "id": "uKEBLGP6IgaN"
      },
      "execution_count": 2,
      "outputs": []
    },
    {
      "cell_type": "markdown",
      "source": [
        "Import Dataset"
      ],
      "metadata": {
        "id": "5-xEQWYLIoHc"
      }
    },
    {
      "cell_type": "code",
      "source": [
        "df=pd.read_csv(r'https://raw.githubusercontent.com/YBI-Foundation/Dataset/main/Movies%20Recommendation.csv')"
      ],
      "metadata": {
        "id": "gFrNYjiKI_58"
      },
      "execution_count": 3,
      "outputs": []
    },
    {
      "cell_type": "code",
      "source": [
        "df.head()"
      ],
      "metadata": {
        "colab": {
          "base_uri": "https://localhost:8080/",
          "height": 716
        },
        "id": "AXbQbmv3MA8w",
        "outputId": "c6272355-1751-4adf-a015-ca1aa56dee8d"
      },
      "execution_count": 4,
      "outputs": [
        {
          "output_type": "execute_result",
          "data": {
            "text/plain": [
              "   Movie_ID      Movie_Title                       Movie_Genre Movie_Language  \\\n",
              "0         1       Four Rooms                      Crime Comedy             en   \n",
              "1         2        Star Wars  Adventure Action Science Fiction             en   \n",
              "2         3     Finding Nemo                  Animation Family             en   \n",
              "3         4     Forrest Gump              Comedy Drama Romance             en   \n",
              "4         5  American Beauty                             Drama             en   \n",
              "\n",
              "   Movie_Budget  Movie_Popularity Movie_Release_Date  Movie_Revenue  \\\n",
              "0       4000000         22.876230         09-12-1995        4300000   \n",
              "1      11000000        126.393695         25-05-1977      775398007   \n",
              "2      94000000         85.688789         30-05-2003      940335536   \n",
              "3      55000000        138.133331         06-07-1994      677945399   \n",
              "4      15000000         80.878605         15-09-1999      356296601   \n",
              "\n",
              "   Movie_Runtime  Movie_Vote  ...  \\\n",
              "0           98.0         6.5  ...   \n",
              "1          121.0         8.1  ...   \n",
              "2          100.0         7.6  ...   \n",
              "3          142.0         8.2  ...   \n",
              "4          122.0         7.9  ...   \n",
              "\n",
              "                                      Movie_Homepage  \\\n",
              "0                                                NaN   \n",
              "1  http://www.starwars.com/films/star-wars-episod...   \n",
              "2              http://movies.disney.com/finding-nemo   \n",
              "3                                                NaN   \n",
              "4                      http://www.dreamworks.com/ab/   \n",
              "\n",
              "                                      Movie_Keywords  \\\n",
              "0          hotel new year's eve witch bet hotel room   \n",
              "1        android galaxy hermit death star lightsaber   \n",
              "2  father son relationship harbor underwater fish...   \n",
              "3  vietnam veteran hippie mentally disabled runni...   \n",
              "4  male nudity female nudity adultery midlife cri...   \n",
              "\n",
              "                                      Movie_Overview  \\\n",
              "0  It's Ted the Bellhop's first night on the job....   \n",
              "1  Princess Leia is captured and held hostage by ...   \n",
              "2  Nemo, an adventurous young clownfish, is unexp...   \n",
              "3  A man with a low IQ has accomplished great thi...   \n",
              "4  Lester Burnham, a depressed suburban father in...   \n",
              "\n",
              "                              Movie_Production_House  \\\n",
              "0  [{\"name\": \"Miramax Films\", \"id\": 14}, {\"name\":...   \n",
              "1  [{\"name\": \"Lucasfilm\", \"id\": 1}, {\"name\": \"Twe...   \n",
              "2     [{\"name\": \"Pixar Animation Studios\", \"id\": 3}]   \n",
              "3          [{\"name\": \"Paramount Pictures\", \"id\": 4}]   \n",
              "4  [{\"name\": \"DreamWorks SKG\", \"id\": 27}, {\"name\"...   \n",
              "\n",
              "                            Movie_Production_Country  \\\n",
              "0  [{\"iso_3166_1\": \"US\", \"name\": \"United States o...   \n",
              "1  [{\"iso_3166_1\": \"US\", \"name\": \"United States o...   \n",
              "2  [{\"iso_3166_1\": \"US\", \"name\": \"United States o...   \n",
              "3  [{\"iso_3166_1\": \"US\", \"name\": \"United States o...   \n",
              "4  [{\"iso_3166_1\": \"US\", \"name\": \"United States o...   \n",
              "\n",
              "                      Movie_Spoken_Language  \\\n",
              "0  [{\"iso_639_1\": \"en\", \"name\": \"English\"}]   \n",
              "1  [{\"iso_639_1\": \"en\", \"name\": \"English\"}]   \n",
              "2  [{\"iso_639_1\": \"en\", \"name\": \"English\"}]   \n",
              "3  [{\"iso_639_1\": \"en\", \"name\": \"English\"}]   \n",
              "4  [{\"iso_639_1\": \"en\", \"name\": \"English\"}]   \n",
              "\n",
              "                                       Movie_Tagline  \\\n",
              "0  Twelve outrageous guests. Four scandalous requ...   \n",
              "1       A long time ago in a galaxy far, far away...   \n",
              "2  There are 3.7 trillion fish in the ocean, they...   \n",
              "3  The world will never be the same, once you've ...   \n",
              "4                                       Look closer.   \n",
              "\n",
              "                                          Movie_Cast  \\\n",
              "0  Tim Roth Antonio Banderas Jennifer Beals Madon...   \n",
              "1  Mark Hamill Harrison Ford Carrie Fisher Peter ...   \n",
              "2  Albert Brooks Ellen DeGeneres Alexander Gould ...   \n",
              "3  Tom Hanks Robin Wright Gary Sinise Mykelti Wil...   \n",
              "4  Kevin Spacey Annette Bening Thora Birch Wes Be...   \n",
              "\n",
              "                                          Movie_Crew   Movie_Director  \n",
              "0  [{'name': 'Allison Anders', 'gender': 1, 'depa...   Allison Anders  \n",
              "1  [{'name': 'George Lucas', 'gender': 2, 'depart...     George Lucas  \n",
              "2  [{'name': 'Andrew Stanton', 'gender': 2, 'depa...   Andrew Stanton  \n",
              "3  [{'name': 'Alan Silvestri', 'gender': 2, 'depa...  Robert Zemeckis  \n",
              "4  [{'name': 'Thomas Newman', 'gender': 2, 'depar...       Sam Mendes  \n",
              "\n",
              "[5 rows x 21 columns]"
            ],
            "text/html": [
              "\n",
              "  <div id=\"df-cf6a4c35-dae7-4c98-9bce-51de2cdc1f93\">\n",
              "    <div class=\"colab-df-container\">\n",
              "      <div>\n",
              "<style scoped>\n",
              "    .dataframe tbody tr th:only-of-type {\n",
              "        vertical-align: middle;\n",
              "    }\n",
              "\n",
              "    .dataframe tbody tr th {\n",
              "        vertical-align: top;\n",
              "    }\n",
              "\n",
              "    .dataframe thead th {\n",
              "        text-align: right;\n",
              "    }\n",
              "</style>\n",
              "<table border=\"1\" class=\"dataframe\">\n",
              "  <thead>\n",
              "    <tr style=\"text-align: right;\">\n",
              "      <th></th>\n",
              "      <th>Movie_ID</th>\n",
              "      <th>Movie_Title</th>\n",
              "      <th>Movie_Genre</th>\n",
              "      <th>Movie_Language</th>\n",
              "      <th>Movie_Budget</th>\n",
              "      <th>Movie_Popularity</th>\n",
              "      <th>Movie_Release_Date</th>\n",
              "      <th>Movie_Revenue</th>\n",
              "      <th>Movie_Runtime</th>\n",
              "      <th>Movie_Vote</th>\n",
              "      <th>...</th>\n",
              "      <th>Movie_Homepage</th>\n",
              "      <th>Movie_Keywords</th>\n",
              "      <th>Movie_Overview</th>\n",
              "      <th>Movie_Production_House</th>\n",
              "      <th>Movie_Production_Country</th>\n",
              "      <th>Movie_Spoken_Language</th>\n",
              "      <th>Movie_Tagline</th>\n",
              "      <th>Movie_Cast</th>\n",
              "      <th>Movie_Crew</th>\n",
              "      <th>Movie_Director</th>\n",
              "    </tr>\n",
              "  </thead>\n",
              "  <tbody>\n",
              "    <tr>\n",
              "      <th>0</th>\n",
              "      <td>1</td>\n",
              "      <td>Four Rooms</td>\n",
              "      <td>Crime Comedy</td>\n",
              "      <td>en</td>\n",
              "      <td>4000000</td>\n",
              "      <td>22.876230</td>\n",
              "      <td>09-12-1995</td>\n",
              "      <td>4300000</td>\n",
              "      <td>98.0</td>\n",
              "      <td>6.5</td>\n",
              "      <td>...</td>\n",
              "      <td>NaN</td>\n",
              "      <td>hotel new year's eve witch bet hotel room</td>\n",
              "      <td>It's Ted the Bellhop's first night on the job....</td>\n",
              "      <td>[{\"name\": \"Miramax Films\", \"id\": 14}, {\"name\":...</td>\n",
              "      <td>[{\"iso_3166_1\": \"US\", \"name\": \"United States o...</td>\n",
              "      <td>[{\"iso_639_1\": \"en\", \"name\": \"English\"}]</td>\n",
              "      <td>Twelve outrageous guests. Four scandalous requ...</td>\n",
              "      <td>Tim Roth Antonio Banderas Jennifer Beals Madon...</td>\n",
              "      <td>[{'name': 'Allison Anders', 'gender': 1, 'depa...</td>\n",
              "      <td>Allison Anders</td>\n",
              "    </tr>\n",
              "    <tr>\n",
              "      <th>1</th>\n",
              "      <td>2</td>\n",
              "      <td>Star Wars</td>\n",
              "      <td>Adventure Action Science Fiction</td>\n",
              "      <td>en</td>\n",
              "      <td>11000000</td>\n",
              "      <td>126.393695</td>\n",
              "      <td>25-05-1977</td>\n",
              "      <td>775398007</td>\n",
              "      <td>121.0</td>\n",
              "      <td>8.1</td>\n",
              "      <td>...</td>\n",
              "      <td>http://www.starwars.com/films/star-wars-episod...</td>\n",
              "      <td>android galaxy hermit death star lightsaber</td>\n",
              "      <td>Princess Leia is captured and held hostage by ...</td>\n",
              "      <td>[{\"name\": \"Lucasfilm\", \"id\": 1}, {\"name\": \"Twe...</td>\n",
              "      <td>[{\"iso_3166_1\": \"US\", \"name\": \"United States o...</td>\n",
              "      <td>[{\"iso_639_1\": \"en\", \"name\": \"English\"}]</td>\n",
              "      <td>A long time ago in a galaxy far, far away...</td>\n",
              "      <td>Mark Hamill Harrison Ford Carrie Fisher Peter ...</td>\n",
              "      <td>[{'name': 'George Lucas', 'gender': 2, 'depart...</td>\n",
              "      <td>George Lucas</td>\n",
              "    </tr>\n",
              "    <tr>\n",
              "      <th>2</th>\n",
              "      <td>3</td>\n",
              "      <td>Finding Nemo</td>\n",
              "      <td>Animation Family</td>\n",
              "      <td>en</td>\n",
              "      <td>94000000</td>\n",
              "      <td>85.688789</td>\n",
              "      <td>30-05-2003</td>\n",
              "      <td>940335536</td>\n",
              "      <td>100.0</td>\n",
              "      <td>7.6</td>\n",
              "      <td>...</td>\n",
              "      <td>http://movies.disney.com/finding-nemo</td>\n",
              "      <td>father son relationship harbor underwater fish...</td>\n",
              "      <td>Nemo, an adventurous young clownfish, is unexp...</td>\n",
              "      <td>[{\"name\": \"Pixar Animation Studios\", \"id\": 3}]</td>\n",
              "      <td>[{\"iso_3166_1\": \"US\", \"name\": \"United States o...</td>\n",
              "      <td>[{\"iso_639_1\": \"en\", \"name\": \"English\"}]</td>\n",
              "      <td>There are 3.7 trillion fish in the ocean, they...</td>\n",
              "      <td>Albert Brooks Ellen DeGeneres Alexander Gould ...</td>\n",
              "      <td>[{'name': 'Andrew Stanton', 'gender': 2, 'depa...</td>\n",
              "      <td>Andrew Stanton</td>\n",
              "    </tr>\n",
              "    <tr>\n",
              "      <th>3</th>\n",
              "      <td>4</td>\n",
              "      <td>Forrest Gump</td>\n",
              "      <td>Comedy Drama Romance</td>\n",
              "      <td>en</td>\n",
              "      <td>55000000</td>\n",
              "      <td>138.133331</td>\n",
              "      <td>06-07-1994</td>\n",
              "      <td>677945399</td>\n",
              "      <td>142.0</td>\n",
              "      <td>8.2</td>\n",
              "      <td>...</td>\n",
              "      <td>NaN</td>\n",
              "      <td>vietnam veteran hippie mentally disabled runni...</td>\n",
              "      <td>A man with a low IQ has accomplished great thi...</td>\n",
              "      <td>[{\"name\": \"Paramount Pictures\", \"id\": 4}]</td>\n",
              "      <td>[{\"iso_3166_1\": \"US\", \"name\": \"United States o...</td>\n",
              "      <td>[{\"iso_639_1\": \"en\", \"name\": \"English\"}]</td>\n",
              "      <td>The world will never be the same, once you've ...</td>\n",
              "      <td>Tom Hanks Robin Wright Gary Sinise Mykelti Wil...</td>\n",
              "      <td>[{'name': 'Alan Silvestri', 'gender': 2, 'depa...</td>\n",
              "      <td>Robert Zemeckis</td>\n",
              "    </tr>\n",
              "    <tr>\n",
              "      <th>4</th>\n",
              "      <td>5</td>\n",
              "      <td>American Beauty</td>\n",
              "      <td>Drama</td>\n",
              "      <td>en</td>\n",
              "      <td>15000000</td>\n",
              "      <td>80.878605</td>\n",
              "      <td>15-09-1999</td>\n",
              "      <td>356296601</td>\n",
              "      <td>122.0</td>\n",
              "      <td>7.9</td>\n",
              "      <td>...</td>\n",
              "      <td>http://www.dreamworks.com/ab/</td>\n",
              "      <td>male nudity female nudity adultery midlife cri...</td>\n",
              "      <td>Lester Burnham, a depressed suburban father in...</td>\n",
              "      <td>[{\"name\": \"DreamWorks SKG\", \"id\": 27}, {\"name\"...</td>\n",
              "      <td>[{\"iso_3166_1\": \"US\", \"name\": \"United States o...</td>\n",
              "      <td>[{\"iso_639_1\": \"en\", \"name\": \"English\"}]</td>\n",
              "      <td>Look closer.</td>\n",
              "      <td>Kevin Spacey Annette Bening Thora Birch Wes Be...</td>\n",
              "      <td>[{'name': 'Thomas Newman', 'gender': 2, 'depar...</td>\n",
              "      <td>Sam Mendes</td>\n",
              "    </tr>\n",
              "  </tbody>\n",
              "</table>\n",
              "<p>5 rows × 21 columns</p>\n",
              "</div>\n",
              "      <button class=\"colab-df-convert\" onclick=\"convertToInteractive('df-cf6a4c35-dae7-4c98-9bce-51de2cdc1f93')\"\n",
              "              title=\"Convert this dataframe to an interactive table.\"\n",
              "              style=\"display:none;\">\n",
              "        \n",
              "  <svg xmlns=\"http://www.w3.org/2000/svg\" height=\"24px\"viewBox=\"0 0 24 24\"\n",
              "       width=\"24px\">\n",
              "    <path d=\"M0 0h24v24H0V0z\" fill=\"none\"/>\n",
              "    <path d=\"M18.56 5.44l.94 2.06.94-2.06 2.06-.94-2.06-.94-.94-2.06-.94 2.06-2.06.94zm-11 1L8.5 8.5l.94-2.06 2.06-.94-2.06-.94L8.5 2.5l-.94 2.06-2.06.94zm10 10l.94 2.06.94-2.06 2.06-.94-2.06-.94-.94-2.06-.94 2.06-2.06.94z\"/><path d=\"M17.41 7.96l-1.37-1.37c-.4-.4-.92-.59-1.43-.59-.52 0-1.04.2-1.43.59L10.3 9.45l-7.72 7.72c-.78.78-.78 2.05 0 2.83L4 21.41c.39.39.9.59 1.41.59.51 0 1.02-.2 1.41-.59l7.78-7.78 2.81-2.81c.8-.78.8-2.07 0-2.86zM5.41 20L4 18.59l7.72-7.72 1.47 1.35L5.41 20z\"/>\n",
              "  </svg>\n",
              "      </button>\n",
              "      \n",
              "  <style>\n",
              "    .colab-df-container {\n",
              "      display:flex;\n",
              "      flex-wrap:wrap;\n",
              "      gap: 12px;\n",
              "    }\n",
              "\n",
              "    .colab-df-convert {\n",
              "      background-color: #E8F0FE;\n",
              "      border: none;\n",
              "      border-radius: 50%;\n",
              "      cursor: pointer;\n",
              "      display: none;\n",
              "      fill: #1967D2;\n",
              "      height: 32px;\n",
              "      padding: 0 0 0 0;\n",
              "      width: 32px;\n",
              "    }\n",
              "\n",
              "    .colab-df-convert:hover {\n",
              "      background-color: #E2EBFA;\n",
              "      box-shadow: 0px 1px 2px rgba(60, 64, 67, 0.3), 0px 1px 3px 1px rgba(60, 64, 67, 0.15);\n",
              "      fill: #174EA6;\n",
              "    }\n",
              "\n",
              "    [theme=dark] .colab-df-convert {\n",
              "      background-color: #3B4455;\n",
              "      fill: #D2E3FC;\n",
              "    }\n",
              "\n",
              "    [theme=dark] .colab-df-convert:hover {\n",
              "      background-color: #434B5C;\n",
              "      box-shadow: 0px 1px 3px 1px rgba(0, 0, 0, 0.15);\n",
              "      filter: drop-shadow(0px 1px 2px rgba(0, 0, 0, 0.3));\n",
              "      fill: #FFFFFF;\n",
              "    }\n",
              "  </style>\n",
              "\n",
              "      <script>\n",
              "        const buttonEl =\n",
              "          document.querySelector('#df-cf6a4c35-dae7-4c98-9bce-51de2cdc1f93 button.colab-df-convert');\n",
              "        buttonEl.style.display =\n",
              "          google.colab.kernel.accessAllowed ? 'block' : 'none';\n",
              "\n",
              "        async function convertToInteractive(key) {\n",
              "          const element = document.querySelector('#df-cf6a4c35-dae7-4c98-9bce-51de2cdc1f93');\n",
              "          const dataTable =\n",
              "            await google.colab.kernel.invokeFunction('convertToInteractive',\n",
              "                                                     [key], {});\n",
              "          if (!dataTable) return;\n",
              "\n",
              "          const docLinkHtml = 'Like what you see? Visit the ' +\n",
              "            '<a target=\"_blank\" href=https://colab.research.google.com/notebooks/data_table.ipynb>data table notebook</a>'\n",
              "            + ' to learn more about interactive tables.';\n",
              "          element.innerHTML = '';\n",
              "          dataTable['output_type'] = 'display_data';\n",
              "          await google.colab.output.renderOutput(dataTable, element);\n",
              "          const docLink = document.createElement('div');\n",
              "          docLink.innerHTML = docLinkHtml;\n",
              "          element.appendChild(docLink);\n",
              "        }\n",
              "      </script>\n",
              "    </div>\n",
              "  </div>\n",
              "  "
            ]
          },
          "metadata": {},
          "execution_count": 4
        }
      ]
    },
    {
      "cell_type": "code",
      "source": [
        "df.info()"
      ],
      "metadata": {
        "colab": {
          "base_uri": "https://localhost:8080/"
        },
        "id": "4h2vIbgnMuXJ",
        "outputId": "01e0e722-bc5f-40e8-92e7-2cc9c29f5c36"
      },
      "execution_count": 5,
      "outputs": [
        {
          "output_type": "stream",
          "name": "stdout",
          "text": [
            "<class 'pandas.core.frame.DataFrame'>\n",
            "RangeIndex: 4760 entries, 0 to 4759\n",
            "Data columns (total 21 columns):\n",
            " #   Column                    Non-Null Count  Dtype  \n",
            "---  ------                    --------------  -----  \n",
            " 0   Movie_ID                  4760 non-null   int64  \n",
            " 1   Movie_Title               4760 non-null   object \n",
            " 2   Movie_Genre               4760 non-null   object \n",
            " 3   Movie_Language            4760 non-null   object \n",
            " 4   Movie_Budget              4760 non-null   int64  \n",
            " 5   Movie_Popularity          4760 non-null   float64\n",
            " 6   Movie_Release_Date        4760 non-null   object \n",
            " 7   Movie_Revenue             4760 non-null   int64  \n",
            " 8   Movie_Runtime             4758 non-null   float64\n",
            " 9   Movie_Vote                4760 non-null   float64\n",
            " 10  Movie_Vote_Count          4760 non-null   int64  \n",
            " 11  Movie_Homepage            1699 non-null   object \n",
            " 12  Movie_Keywords            4373 non-null   object \n",
            " 13  Movie_Overview            4757 non-null   object \n",
            " 14  Movie_Production_House    4760 non-null   object \n",
            " 15  Movie_Production_Country  4760 non-null   object \n",
            " 16  Movie_Spoken_Language     4760 non-null   object \n",
            " 17  Movie_Tagline             3942 non-null   object \n",
            " 18  Movie_Cast                4733 non-null   object \n",
            " 19  Movie_Crew                4760 non-null   object \n",
            " 20  Movie_Director            4738 non-null   object \n",
            "dtypes: float64(3), int64(4), object(14)\n",
            "memory usage: 781.1+ KB\n"
          ]
        }
      ]
    },
    {
      "cell_type": "code",
      "source": [
        "df.shape"
      ],
      "metadata": {
        "colab": {
          "base_uri": "https://localhost:8080/"
        },
        "id": "bbdhvzxfM59x",
        "outputId": "73d54c87-3b9f-4663-970e-8ecd25082fdf"
      },
      "execution_count": 6,
      "outputs": [
        {
          "output_type": "execute_result",
          "data": {
            "text/plain": [
              "(4760, 21)"
            ]
          },
          "metadata": {},
          "execution_count": 6
        }
      ]
    },
    {
      "cell_type": "code",
      "source": [
        "df.columns"
      ],
      "metadata": {
        "colab": {
          "base_uri": "https://localhost:8080/"
        },
        "id": "7wsSACkwNCO-",
        "outputId": "e582d83a-ba99-4e1d-d066-8cdacefda86a"
      },
      "execution_count": 7,
      "outputs": [
        {
          "output_type": "execute_result",
          "data": {
            "text/plain": [
              "Index(['Movie_ID', 'Movie_Title', 'Movie_Genre', 'Movie_Language',\n",
              "       'Movie_Budget', 'Movie_Popularity', 'Movie_Release_Date',\n",
              "       'Movie_Revenue', 'Movie_Runtime', 'Movie_Vote', 'Movie_Vote_Count',\n",
              "       'Movie_Homepage', 'Movie_Keywords', 'Movie_Overview',\n",
              "       'Movie_Production_House', 'Movie_Production_Country',\n",
              "       'Movie_Spoken_Language', 'Movie_Tagline', 'Movie_Cast', 'Movie_Crew',\n",
              "       'Movie_Director'],\n",
              "      dtype='object')"
            ]
          },
          "metadata": {},
          "execution_count": 7
        }
      ]
    },
    {
      "cell_type": "markdown",
      "source": [
        "Get Features Selection"
      ],
      "metadata": {
        "id": "77YsFpRXNKfh"
      }
    },
    {
      "cell_type": "code",
      "source": [
        "df_features=df[['Movie_Genre','Movie_Keywords','Movie_Tagline','Movie_Cast','Movie_Director']].fillna('')"
      ],
      "metadata": {
        "id": "HV8mvi1eNHXu"
      },
      "execution_count": 8,
      "outputs": []
    },
    {
      "cell_type": "code",
      "source": [
        "df_features.shape"
      ],
      "metadata": {
        "colab": {
          "base_uri": "https://localhost:8080/"
        },
        "id": "RVXv6yXbOjcw",
        "outputId": "15986f21-8234-4f29-f1b8-1028e2dac2a5"
      },
      "execution_count": 9,
      "outputs": [
        {
          "output_type": "execute_result",
          "data": {
            "text/plain": [
              "(4760, 5)"
            ]
          },
          "metadata": {},
          "execution_count": 9
        }
      ]
    },
    {
      "cell_type": "code",
      "source": [
        "df_features"
      ],
      "metadata": {
        "colab": {
          "base_uri": "https://localhost:8080/",
          "height": 423
        },
        "id": "y3I3wHq3OzWf",
        "outputId": "eee6ea47-e2d3-4074-b78f-fb676765fcb4"
      },
      "execution_count": 10,
      "outputs": [
        {
          "output_type": "execute_result",
          "data": {
            "text/plain": [
              "                           Movie_Genre  \\\n",
              "0                         Crime Comedy   \n",
              "1     Adventure Action Science Fiction   \n",
              "2                     Animation Family   \n",
              "3                 Comedy Drama Romance   \n",
              "4                                Drama   \n",
              "...                                ...   \n",
              "4755                            Horror   \n",
              "4756               Comedy Family Drama   \n",
              "4757                    Thriller Drama   \n",
              "4758                            Family   \n",
              "4759                       Documentary   \n",
              "\n",
              "                                         Movie_Keywords  \\\n",
              "0             hotel new year's eve witch bet hotel room   \n",
              "1           android galaxy hermit death star lightsaber   \n",
              "2     father son relationship harbor underwater fish...   \n",
              "3     vietnam veteran hippie mentally disabled runni...   \n",
              "4     male nudity female nudity adultery midlife cri...   \n",
              "...                                                 ...   \n",
              "4755                                                      \n",
              "4756                                                      \n",
              "4757                     christian film sex trafficking   \n",
              "4758                                                      \n",
              "4759  music actors legendary perfomer classic hollyw...   \n",
              "\n",
              "                                          Movie_Tagline  \\\n",
              "0     Twelve outrageous guests. Four scandalous requ...   \n",
              "1          A long time ago in a galaxy far, far away...   \n",
              "2     There are 3.7 trillion fish in the ocean, they...   \n",
              "3     The world will never be the same, once you've ...   \n",
              "4                                          Look closer.   \n",
              "...                                                 ...   \n",
              "4755                The hot spot where Satan's waitin'.   \n",
              "4756           It’s better to stand out than to fit in.   \n",
              "4757           She never knew it could happen to her...   \n",
              "4758                                                      \n",
              "4759                                                      \n",
              "\n",
              "                                             Movie_Cast     Movie_Director  \n",
              "0     Tim Roth Antonio Banderas Jennifer Beals Madon...     Allison Anders  \n",
              "1     Mark Hamill Harrison Ford Carrie Fisher Peter ...       George Lucas  \n",
              "2     Albert Brooks Ellen DeGeneres Alexander Gould ...     Andrew Stanton  \n",
              "3     Tom Hanks Robin Wright Gary Sinise Mykelti Wil...    Robert Zemeckis  \n",
              "4     Kevin Spacey Annette Bening Thora Birch Wes Be...         Sam Mendes  \n",
              "...                                                 ...                ...  \n",
              "4755  Lisa Hart Carroll Michael Des Barres Paul Drak...         Pece Dingo  \n",
              "4756  Roni Akurati Brighton Sharbino Jason Lee Anjul...       Frank Lotito  \n",
              "4757  Nicole Smolen Kim Baldwin Ariana Stephens Brys...       Jaco Booyens  \n",
              "4758                                                                        \n",
              "4759                                    Tony Oppedisano  Simon Napier-Bell  \n",
              "\n",
              "[4760 rows x 5 columns]"
            ],
            "text/html": [
              "\n",
              "  <div id=\"df-7d25c55a-0de4-4d8a-9fad-11877fae09d2\">\n",
              "    <div class=\"colab-df-container\">\n",
              "      <div>\n",
              "<style scoped>\n",
              "    .dataframe tbody tr th:only-of-type {\n",
              "        vertical-align: middle;\n",
              "    }\n",
              "\n",
              "    .dataframe tbody tr th {\n",
              "        vertical-align: top;\n",
              "    }\n",
              "\n",
              "    .dataframe thead th {\n",
              "        text-align: right;\n",
              "    }\n",
              "</style>\n",
              "<table border=\"1\" class=\"dataframe\">\n",
              "  <thead>\n",
              "    <tr style=\"text-align: right;\">\n",
              "      <th></th>\n",
              "      <th>Movie_Genre</th>\n",
              "      <th>Movie_Keywords</th>\n",
              "      <th>Movie_Tagline</th>\n",
              "      <th>Movie_Cast</th>\n",
              "      <th>Movie_Director</th>\n",
              "    </tr>\n",
              "  </thead>\n",
              "  <tbody>\n",
              "    <tr>\n",
              "      <th>0</th>\n",
              "      <td>Crime Comedy</td>\n",
              "      <td>hotel new year's eve witch bet hotel room</td>\n",
              "      <td>Twelve outrageous guests. Four scandalous requ...</td>\n",
              "      <td>Tim Roth Antonio Banderas Jennifer Beals Madon...</td>\n",
              "      <td>Allison Anders</td>\n",
              "    </tr>\n",
              "    <tr>\n",
              "      <th>1</th>\n",
              "      <td>Adventure Action Science Fiction</td>\n",
              "      <td>android galaxy hermit death star lightsaber</td>\n",
              "      <td>A long time ago in a galaxy far, far away...</td>\n",
              "      <td>Mark Hamill Harrison Ford Carrie Fisher Peter ...</td>\n",
              "      <td>George Lucas</td>\n",
              "    </tr>\n",
              "    <tr>\n",
              "      <th>2</th>\n",
              "      <td>Animation Family</td>\n",
              "      <td>father son relationship harbor underwater fish...</td>\n",
              "      <td>There are 3.7 trillion fish in the ocean, they...</td>\n",
              "      <td>Albert Brooks Ellen DeGeneres Alexander Gould ...</td>\n",
              "      <td>Andrew Stanton</td>\n",
              "    </tr>\n",
              "    <tr>\n",
              "      <th>3</th>\n",
              "      <td>Comedy Drama Romance</td>\n",
              "      <td>vietnam veteran hippie mentally disabled runni...</td>\n",
              "      <td>The world will never be the same, once you've ...</td>\n",
              "      <td>Tom Hanks Robin Wright Gary Sinise Mykelti Wil...</td>\n",
              "      <td>Robert Zemeckis</td>\n",
              "    </tr>\n",
              "    <tr>\n",
              "      <th>4</th>\n",
              "      <td>Drama</td>\n",
              "      <td>male nudity female nudity adultery midlife cri...</td>\n",
              "      <td>Look closer.</td>\n",
              "      <td>Kevin Spacey Annette Bening Thora Birch Wes Be...</td>\n",
              "      <td>Sam Mendes</td>\n",
              "    </tr>\n",
              "    <tr>\n",
              "      <th>...</th>\n",
              "      <td>...</td>\n",
              "      <td>...</td>\n",
              "      <td>...</td>\n",
              "      <td>...</td>\n",
              "      <td>...</td>\n",
              "    </tr>\n",
              "    <tr>\n",
              "      <th>4755</th>\n",
              "      <td>Horror</td>\n",
              "      <td></td>\n",
              "      <td>The hot spot where Satan's waitin'.</td>\n",
              "      <td>Lisa Hart Carroll Michael Des Barres Paul Drak...</td>\n",
              "      <td>Pece Dingo</td>\n",
              "    </tr>\n",
              "    <tr>\n",
              "      <th>4756</th>\n",
              "      <td>Comedy Family Drama</td>\n",
              "      <td></td>\n",
              "      <td>It’s better to stand out than to fit in.</td>\n",
              "      <td>Roni Akurati Brighton Sharbino Jason Lee Anjul...</td>\n",
              "      <td>Frank Lotito</td>\n",
              "    </tr>\n",
              "    <tr>\n",
              "      <th>4757</th>\n",
              "      <td>Thriller Drama</td>\n",
              "      <td>christian film sex trafficking</td>\n",
              "      <td>She never knew it could happen to her...</td>\n",
              "      <td>Nicole Smolen Kim Baldwin Ariana Stephens Brys...</td>\n",
              "      <td>Jaco Booyens</td>\n",
              "    </tr>\n",
              "    <tr>\n",
              "      <th>4758</th>\n",
              "      <td>Family</td>\n",
              "      <td></td>\n",
              "      <td></td>\n",
              "      <td></td>\n",
              "      <td></td>\n",
              "    </tr>\n",
              "    <tr>\n",
              "      <th>4759</th>\n",
              "      <td>Documentary</td>\n",
              "      <td>music actors legendary perfomer classic hollyw...</td>\n",
              "      <td></td>\n",
              "      <td>Tony Oppedisano</td>\n",
              "      <td>Simon Napier-Bell</td>\n",
              "    </tr>\n",
              "  </tbody>\n",
              "</table>\n",
              "<p>4760 rows × 5 columns</p>\n",
              "</div>\n",
              "      <button class=\"colab-df-convert\" onclick=\"convertToInteractive('df-7d25c55a-0de4-4d8a-9fad-11877fae09d2')\"\n",
              "              title=\"Convert this dataframe to an interactive table.\"\n",
              "              style=\"display:none;\">\n",
              "        \n",
              "  <svg xmlns=\"http://www.w3.org/2000/svg\" height=\"24px\"viewBox=\"0 0 24 24\"\n",
              "       width=\"24px\">\n",
              "    <path d=\"M0 0h24v24H0V0z\" fill=\"none\"/>\n",
              "    <path d=\"M18.56 5.44l.94 2.06.94-2.06 2.06-.94-2.06-.94-.94-2.06-.94 2.06-2.06.94zm-11 1L8.5 8.5l.94-2.06 2.06-.94-2.06-.94L8.5 2.5l-.94 2.06-2.06.94zm10 10l.94 2.06.94-2.06 2.06-.94-2.06-.94-.94-2.06-.94 2.06-2.06.94z\"/><path d=\"M17.41 7.96l-1.37-1.37c-.4-.4-.92-.59-1.43-.59-.52 0-1.04.2-1.43.59L10.3 9.45l-7.72 7.72c-.78.78-.78 2.05 0 2.83L4 21.41c.39.39.9.59 1.41.59.51 0 1.02-.2 1.41-.59l7.78-7.78 2.81-2.81c.8-.78.8-2.07 0-2.86zM5.41 20L4 18.59l7.72-7.72 1.47 1.35L5.41 20z\"/>\n",
              "  </svg>\n",
              "      </button>\n",
              "      \n",
              "  <style>\n",
              "    .colab-df-container {\n",
              "      display:flex;\n",
              "      flex-wrap:wrap;\n",
              "      gap: 12px;\n",
              "    }\n",
              "\n",
              "    .colab-df-convert {\n",
              "      background-color: #E8F0FE;\n",
              "      border: none;\n",
              "      border-radius: 50%;\n",
              "      cursor: pointer;\n",
              "      display: none;\n",
              "      fill: #1967D2;\n",
              "      height: 32px;\n",
              "      padding: 0 0 0 0;\n",
              "      width: 32px;\n",
              "    }\n",
              "\n",
              "    .colab-df-convert:hover {\n",
              "      background-color: #E2EBFA;\n",
              "      box-shadow: 0px 1px 2px rgba(60, 64, 67, 0.3), 0px 1px 3px 1px rgba(60, 64, 67, 0.15);\n",
              "      fill: #174EA6;\n",
              "    }\n",
              "\n",
              "    [theme=dark] .colab-df-convert {\n",
              "      background-color: #3B4455;\n",
              "      fill: #D2E3FC;\n",
              "    }\n",
              "\n",
              "    [theme=dark] .colab-df-convert:hover {\n",
              "      background-color: #434B5C;\n",
              "      box-shadow: 0px 1px 3px 1px rgba(0, 0, 0, 0.15);\n",
              "      filter: drop-shadow(0px 1px 2px rgba(0, 0, 0, 0.3));\n",
              "      fill: #FFFFFF;\n",
              "    }\n",
              "  </style>\n",
              "\n",
              "      <script>\n",
              "        const buttonEl =\n",
              "          document.querySelector('#df-7d25c55a-0de4-4d8a-9fad-11877fae09d2 button.colab-df-convert');\n",
              "        buttonEl.style.display =\n",
              "          google.colab.kernel.accessAllowed ? 'block' : 'none';\n",
              "\n",
              "        async function convertToInteractive(key) {\n",
              "          const element = document.querySelector('#df-7d25c55a-0de4-4d8a-9fad-11877fae09d2');\n",
              "          const dataTable =\n",
              "            await google.colab.kernel.invokeFunction('convertToInteractive',\n",
              "                                                     [key], {});\n",
              "          if (!dataTable) return;\n",
              "\n",
              "          const docLinkHtml = 'Like what you see? Visit the ' +\n",
              "            '<a target=\"_blank\" href=https://colab.research.google.com/notebooks/data_table.ipynb>data table notebook</a>'\n",
              "            + ' to learn more about interactive tables.';\n",
              "          element.innerHTML = '';\n",
              "          dataTable['output_type'] = 'display_data';\n",
              "          await google.colab.output.renderOutput(dataTable, element);\n",
              "          const docLink = document.createElement('div');\n",
              "          docLink.innerHTML = docLinkHtml;\n",
              "          element.appendChild(docLink);\n",
              "        }\n",
              "      </script>\n",
              "    </div>\n",
              "  </div>\n",
              "  "
            ]
          },
          "metadata": {},
          "execution_count": 10
        }
      ]
    },
    {
      "cell_type": "code",
      "source": [
        "X=df_features['Movie_Genre'] +''+ df_features['Movie_Keywords'] + ' ' + df_features['Movie_Tagline'] + ' ' + df_features['Movie_Cast']+ ' ' + df_features['Movie_Director']"
      ],
      "metadata": {
        "id": "dNFkgkkdOzXd"
      },
      "execution_count": 11,
      "outputs": []
    },
    {
      "cell_type": "code",
      "source": [
        "X"
      ],
      "metadata": {
        "colab": {
          "base_uri": "https://localhost:8080/"
        },
        "id": "ZvvtxNDFOzYs",
        "outputId": "ba4126dc-52e1-4d92-a3c0-73f6c7095a29"
      },
      "execution_count": 12,
      "outputs": [
        {
          "output_type": "execute_result",
          "data": {
            "text/plain": [
              "0       Crime Comedyhotel new year's eve witch bet hot...\n",
              "1       Adventure Action Science Fictionandroid galaxy...\n",
              "2       Animation Familyfather son relationship harbor...\n",
              "3       Comedy Drama Romancevietnam veteran hippie men...\n",
              "4       Dramamale nudity female nudity adultery midlif...\n",
              "                              ...                        \n",
              "4755    Horror The hot spot where Satan's waitin'. Lis...\n",
              "4756    Comedy Family Drama It’s better to stand out t...\n",
              "4757    Thriller Dramachristian film sex trafficking S...\n",
              "4758                                            Family   \n",
              "4759    Documentarymusic actors legendary perfomer cla...\n",
              "Length: 4760, dtype: object"
            ]
          },
          "metadata": {},
          "execution_count": 12
        }
      ]
    },
    {
      "cell_type": "code",
      "source": [
        "X.shape"
      ],
      "metadata": {
        "colab": {
          "base_uri": "https://localhost:8080/"
        },
        "id": "35rpudqEQMPk",
        "outputId": "9b733d4e-78f7-414d-9624-f93b48428bdd"
      },
      "execution_count": 13,
      "outputs": [
        {
          "output_type": "execute_result",
          "data": {
            "text/plain": [
              "(4760,)"
            ]
          },
          "metadata": {},
          "execution_count": 13
        }
      ]
    },
    {
      "cell_type": "markdown",
      "source": [
        "Features Text Conversation to Tokens"
      ],
      "metadata": {
        "id": "RTZR-iPhQRJB"
      }
    },
    {
      "cell_type": "code",
      "source": [
        "from sklearn.feature_extraction.text import TfidfVectorizer"
      ],
      "metadata": {
        "id": "8BF8o0JNQMhk"
      },
      "execution_count": 14,
      "outputs": []
    },
    {
      "cell_type": "code",
      "source": [
        "tfidf= TfidfVectorizer()\n"
      ],
      "metadata": {
        "id": "5j4-K6ZNRLln"
      },
      "execution_count": 15,
      "outputs": []
    },
    {
      "cell_type": "code",
      "source": [
        "X=tfidf.fit_transform(X)"
      ],
      "metadata": {
        "id": "BT2XIztBRale"
      },
      "execution_count": 16,
      "outputs": []
    },
    {
      "cell_type": "code",
      "source": [
        "X.shape"
      ],
      "metadata": {
        "colab": {
          "base_uri": "https://localhost:8080/"
        },
        "id": "OzIQFLdyRpB6",
        "outputId": "ceda3c63-2c59-47d5-c6c2-38c46e3e9ba8"
      },
      "execution_count": 17,
      "outputs": [
        {
          "output_type": "execute_result",
          "data": {
            "text/plain": [
              "(4760, 19724)"
            ]
          },
          "metadata": {},
          "execution_count": 17
        }
      ]
    },
    {
      "cell_type": "code",
      "source": [
        "print(X)"
      ],
      "metadata": {
        "colab": {
          "base_uri": "https://localhost:8080/"
        },
        "id": "whIcX-ZiRtvN",
        "outputId": "31fe705b-8a94-4bc4-b8ec-af3590ada89b"
      },
      "execution_count": 18,
      "outputs": [
        {
          "output_type": "stream",
          "name": "stdout",
          "text": [
            "  (0, 787)\t0.16323548709554855\n",
            "  (0, 662)\t0.1431690548993573\n",
            "  (0, 17794)\t0.14646033912348777\n",
            "  (0, 11261)\t0.14217110184476123\n",
            "  (0, 11051)\t0.16587974535247557\n",
            "  (0, 1575)\t0.16887755811505756\n",
            "  (0, 9413)\t0.0979339841671036\n",
            "  (0, 1399)\t0.13857136972683737\n",
            "  (0, 916)\t0.13406626302414457\n",
            "  (0, 15127)\t0.1431690548993573\n",
            "  (0, 17736)\t0.10471226221321203\n",
            "  (0, 10634)\t0.08712860873586219\n",
            "  (0, 12910)\t0.062464491367151015\n",
            "  (0, 19242)\t0.17643144297592991\n",
            "  (0, 7011)\t0.08598126616113227\n",
            "  (0, 19204)\t0.10683360499850669\n",
            "  (0, 9492)\t0.13406626302414457\n",
            "  (0, 17242)\t0.09794309132522841\n",
            "  (0, 12990)\t0.0727321106181334\n",
            "  (0, 4476)\t0.11990853499485327\n",
            "  (0, 6900)\t0.11475453204769812\n",
            "  (0, 8473)\t0.19809950801568185\n",
            "  (0, 9047)\t0.1475487759314874\n",
            "  (0, 1679)\t0.19700239633947247\n",
            "  (0, 10792)\t0.15176732560721876\n",
            "  :\t:\n",
            "  (4757, 15881)\t0.16131970128909717\n",
            "  (4757, 15780)\t0.1591497972877976\n",
            "  (4757, 12697)\t0.18008226693121138\n",
            "  (4757, 6856)\t0.1229964108575621\n",
            "  (4757, 10052)\t0.23055203732455373\n",
            "  (4757, 8341)\t0.16748654591246986\n",
            "  (4757, 9967)\t0.17133287708635983\n",
            "  (4757, 17326)\t0.10461952616160655\n",
            "  (4757, 17765)\t0.09560517195111856\n",
            "  (4757, 9237)\t0.11251340789099798\n",
            "  (4757, 12646)\t0.1425745414981972\n",
            "  (4758, 6213)\t1.0\n",
            "  (4759, 13012)\t0.33027699530354676\n",
            "  (4759, 13450)\t0.33027699530354676\n",
            "  (4759, 4977)\t0.33027699530354676\n",
            "  (4759, 285)\t0.315016050232411\n",
            "  (4759, 10488)\t0.29578953325393453\n",
            "  (4759, 16095)\t0.315016050232411\n",
            "  (4759, 3228)\t0.27366634724547445\n",
            "  (4759, 8603)\t0.25703659235825393\n",
            "  (4759, 12513)\t0.3041882373877459\n",
            "  (4759, 16084)\t0.1954000734980719\n",
            "  (4759, 7101)\t0.19004889279125298\n",
            "  (4759, 17812)\t0.19096694127160133\n",
            "  (4759, 1674)\t0.20622788634273706\n"
          ]
        }
      ]
    },
    {
      "cell_type": "markdown",
      "source": [
        "Cosoline Similarity\n"
      ],
      "metadata": {
        "id": "dU6CQIroR9wS"
      }
    },
    {
      "cell_type": "code",
      "source": [
        "from sklearn.metrics.pairwise import cosine_similarity"
      ],
      "metadata": {
        "id": "QZ0JkkKLSCGV"
      },
      "execution_count": 19,
      "outputs": []
    },
    {
      "cell_type": "code",
      "source": [
        "Similarity_Score= cosine_similarity(X)"
      ],
      "metadata": {
        "id": "xxdW--JBSbzd"
      },
      "execution_count": 20,
      "outputs": []
    },
    {
      "cell_type": "code",
      "source": [
        "Similarity_Score"
      ],
      "metadata": {
        "colab": {
          "base_uri": "https://localhost:8080/"
        },
        "id": "RE7i6YpvSb0u",
        "outputId": "3c9ce605-6f42-4dad-f438-0b7e560c24a9"
      },
      "execution_count": 21,
      "outputs": [
        {
          "output_type": "execute_result",
          "data": {
            "text/plain": [
              "array([[1.        , 0.01351895, 0.03513863, ..., 0.        , 0.        ,\n",
              "        0.        ],\n",
              "       [0.01351895, 1.        , 0.00794245, ..., 0.        , 0.        ,\n",
              "        0.        ],\n",
              "       [0.03513863, 0.00794245, 1.        , ..., 0.        , 0.        ,\n",
              "        0.        ],\n",
              "       ...,\n",
              "       [0.        , 0.        , 0.        , ..., 1.        , 0.        ,\n",
              "        0.        ],\n",
              "       [0.        , 0.        , 0.        , ..., 0.        , 1.        ,\n",
              "        0.        ],\n",
              "       [0.        , 0.        , 0.        , ..., 0.        , 0.        ,\n",
              "        1.        ]])"
            ]
          },
          "metadata": {},
          "execution_count": 21
        }
      ]
    },
    {
      "cell_type": "code",
      "source": [
        "Similarity_Score.shape"
      ],
      "metadata": {
        "colab": {
          "base_uri": "https://localhost:8080/"
        },
        "id": "lBro3mxLSb2X",
        "outputId": "f12df92a-7df8-473a-9f7a-a7cf2abd9ea1"
      },
      "execution_count": 22,
      "outputs": [
        {
          "output_type": "execute_result",
          "data": {
            "text/plain": [
              "(4760, 4760)"
            ]
          },
          "metadata": {},
          "execution_count": 22
        }
      ]
    },
    {
      "cell_type": "markdown",
      "source": [
        "Movie Name as Input from User.."
      ],
      "metadata": {
        "id": "vYq_FDQZS8hJ"
      }
    },
    {
      "cell_type": "code",
      "source": [
        "Fav_Movie_Name=input('Enter your Favourite Movie Name : ')"
      ],
      "metadata": {
        "colab": {
          "base_uri": "https://localhost:8080/"
        },
        "id": "QrnuF_Y2Sb35",
        "outputId": "838867bb-385d-405c-dd8e-e11952cbb97b"
      },
      "execution_count": 23,
      "outputs": [
        {
          "name": "stdout",
          "output_type": "stream",
          "text": [
            "Enter your Favourite Movie Name : Avatar\n"
          ]
        }
      ]
    },
    {
      "cell_type": "code",
      "source": [
        "All_Movie_Title_List= df['Movie_Title'].tolist()"
      ],
      "metadata": {
        "id": "6ak51n9DTq4p"
      },
      "execution_count": 24,
      "outputs": []
    },
    {
      "cell_type": "code",
      "source": [
        "import difflib"
      ],
      "metadata": {
        "id": "XcAaF_LRTrIZ"
      },
      "execution_count": 25,
      "outputs": []
    },
    {
      "cell_type": "code",
      "source": [
        "Movie_Recommendation=difflib.get_close_matches(Fav_Movie_Name, All_Movie_Title_List)\n",
        "print(Movie_Recommendation)"
      ],
      "metadata": {
        "colab": {
          "base_uri": "https://localhost:8080/"
        },
        "id": "pXuTXtsTUX0R",
        "outputId": "e82417fe-c7e4-4ae0-cf80-88ef3d329331"
      },
      "execution_count": 26,
      "outputs": [
        {
          "output_type": "stream",
          "name": "stdout",
          "text": [
            "['Avatar']\n"
          ]
        }
      ]
    },
    {
      "cell_type": "code",
      "source": [
        "Close_Match=Movie_Recommendation[0]\n",
        "print(Close_Match)"
      ],
      "metadata": {
        "colab": {
          "base_uri": "https://localhost:8080/"
        },
        "id": "8ShUO8HxVXmT",
        "outputId": "f8eef87a-53b7-45fa-d5f5-c9e98e2ce67a"
      },
      "execution_count": 27,
      "outputs": [
        {
          "output_type": "stream",
          "name": "stdout",
          "text": [
            "Avatar\n"
          ]
        }
      ]
    },
    {
      "cell_type": "code",
      "source": [
        "Index_of_Close_Match_Movie=df[df.Movie_Title==Close_Match]['Movie_ID'].values[0]\n",
        "print(Index_of_Close_Match_Movie)"
      ],
      "metadata": {
        "colab": {
          "base_uri": "https://localhost:8080/"
        },
        "id": "3BkbIpj7VryV",
        "outputId": "52cb0c3a-48fe-45a6-8a08-fa91e4b70748"
      },
      "execution_count": 28,
      "outputs": [
        {
          "output_type": "stream",
          "name": "stdout",
          "text": [
            "2692\n"
          ]
        }
      ]
    },
    {
      "cell_type": "code",
      "source": [
        "# A list of Similar Movies\n",
        "Recommendation_Score=list(enumerate(Similarity_Score[Index_of_Close_Match_Movie]))\n",
        "print(Recommendation_Score)"
      ],
      "metadata": {
        "colab": {
          "base_uri": "https://localhost:8080/"
        },
        "id": "3DTKClVFVr1J",
        "outputId": "0db0e345-76b1-4648-e930-175837a9171a"
      },
      "execution_count": 29,
      "outputs": [
        {
          "output_type": "stream",
          "name": "stdout",
          "text": [
            "[(0, 0.010961215627523495), (1, 0.0), (2, 0.0), (3, 0.008826417850093828), (4, 0.0), (5, 0.01224900604638645), (6, 0.0), (7, 0.013347165800152815), (8, 0.004017450245536821), (9, 0.00590848407862745), (10, 0.0), (11, 0.0038816005764963214), (12, 0.003946224748454261), (13, 0.012602129552264626), (14, 0.0), (15, 0.02313368596368873), (16, 0.00306608522471475), (17, 0.0), (18, 0.0034867761230448534), (19, 0.00968614088316194), (20, 0.0), (21, 0.013146959429531353), (22, 0.006399890650068226), (23, 0.003737735874160319), (24, 0.0), (25, 0.02624686872156483), (26, 0.0), (27, 0.0), (28, 0.0), (29, 0.023914941437791694), (30, 0.0), (31, 0.0034121360873364094), (32, 0.008927731562398301), (33, 0.019140593410264396), (34, 0.003833863083513596), (35, 0.005833504726710022), (36, 0.0), (37, 0.0), (38, 0.0), (39, 0.0), (40, 0.007152672904071673), (41, 0.0040498942554862685), (42, 0.0), (43, 0.013803708127889362), (44, 0.03574766087082105), (45, 0.04842008327246715), (46, 0.013924303567181476), (47, 0.0), (48, 0.01352984580435599), (49, 0.0), (50, 0.0), (51, 0.012579825680401412), (52, 0.011718743090276882), (53, 0.0), (54, 0.0), (55, 0.0), (56, 0.006547025026744976), (57, 0.010553686181510051), (58, 0.0), (59, 0.0), (60, 0.008596251893717226), (61, 0.018309190952099832), (62, 0.10006461828941926), (63, 0.00804211693514711), (64, 0.0), (65, 0.0327782046765063), (66, 0.0), (67, 0.0417846312922931), (68, 0.02210690351537186), (69, 0.0), (70, 0.0), (71, 0.0037453671369610925), (72, 0.0), (73, 0.0), (74, 0.0038695375807596254), (75, 0.012747429762463128), (76, 0.0), (77, 0.0), (78, 0.00542115539511423), (79, 0.009963867959970622), (80, 0.0), (81, 0.0), (82, 0.010080612675043071), (83, 0.01510900548039918), (84, 0.02512457750473208), (85, 0.017912671773970608), (86, 0.012977197261169592), (87, 0.011824625338907184), (88, 0.012264449355305636), (89, 0.03584601571666118), (90, 0.0), (91, 0.0), (92, 0.0032476344236845), (93, 0.0), (94, 0.0), (95, 0.0), (96, 0.00342920453226191), (97, 0.0032450456678398626), (98, 0.0), (99, 0.0), (100, 0.0), (101, 0.0), (102, 0.0), (103, 0.0031656869549003294), (104, 0.010227162840748222), (105, 0.008605717181658838), (106, 0.01653828028244271), (107, 0.004115423371461947), (108, 0.03735368825679987), (109, 0.03378365992636385), (110, 0.0810930661911388), (111, 0.0034213231298955774), (112, 0.025921184701918835), (113, 0.00834755585547118), (114, 0.0036288885680379897), (115, 0.0), (116, 0.020276138176575986), (117, 0.0), (118, 0.0), (119, 0.009924158503720195), (120, 0.012616377435152723), (121, 0.0033563935713802236), (122, 0.007913617088275683), (123, 0.0187801711039925), (124, 0.022959537333025998), (125, 0.007389021274884523), (126, 0.03217800527828322), (127, 0.003560877759379862), (128, 0.0), (129, 0.002590833642195761), (130, 0.011602404779181057), (131, 0.006635506539723954), (132, 0.0032374145478449045), (133, 0.0), (134, 0.0), (135, 0.0), (136, 0.003343925400372752), (137, 0.04846400061279216), (138, 0.02017972208406455), (139, 0.0), (140, 0.0), (141, 0.0), (142, 0.015335852606658927), (143, 0.0), (144, 0.014470872868375017), (145, 0.017518236344830913), (146, 0.0), (147, 0.016374099738769667), (148, 0.007881610979748918), (149, 0.010314476687360383), (150, 0.0), (151, 0.0), (152, 0.0), (153, 0.0), (154, 0.0), (155, 0.02294671915885633), (156, 0.008201055723981306), (157, 0.0), (158, 0.0), (159, 0.005018980913977356), (160, 0.01378057118651671), (161, 0.04354357991698189), (162, 0.00934587142639465), (163, 0.0), (164, 0.006104325930405875), (165, 0.0031326040300888327), (166, 0.032203408357742366), (167, 0.023316178474414088), (168, 0.0051272642011734385), (169, 0.003641386596873517), (170, 0.007960242388749915), (171, 0.0), (172, 0.041548265211259476), (173, 0.010400712951183725), (174, 0.030810551335530033), (175, 0.020808276321546915), (176, 0.02446436311356095), (177, 0.005450718056955113), (178, 0.0039423595387133), (179, 0.03162834547963475), (180, 0.009227425173786654), (181, 0.017019451918873583), (182, 0.006417693759574317), (183, 0.009362194675255004), (184, 0.0032833836078927673), (185, 0.03833000792092079), (186, 0.0), (187, 0.0), (188, 0.0), (189, 0.0), (190, 0.0031220983208952576), (191, 0.0), (192, 0.0039449726792644725), (193, 0.02949694779086573), (194, 0.0030544638735806075), (195, 0.0030925506740184907), (196, 0.0), (197, 0.00945210499340781), (198, 0.003707295339160878), (199, 0.016988762501937017), (200, 0.0032491470611826713), (201, 0.009034216992618083), (202, 0.002404822643045215), (203, 0.014147209046182808), (204, 0.019046685268144396), (205, 0.0), (206, 0.00385363257487111), (207, 0.009725746797803836), (208, 0.01058686372839758), (209, 0.015329869207984561), (210, 0.036178064666306006), (211, 0.0), (212, 0.013900423819245677), (213, 0.04769477765023474), (214, 0.0), (215, 0.0035923382519836514), (216, 0.003813407771186041), (217, 0.0), (218, 0.01697359903517683), (219, 0.0), (220, 0.0), (221, 0.0034993521918670234), (222, 0.014510811307975503), (223, 0.0), (224, 0.00943606078697368), (225, 0.0), (226, 0.0), (227, 0.04887094493898308), (228, 0.002836387218261541), (229, 0.0), (230, 0.0061561066654176565), (231, 0.013504813877341038), (232, 0.006852251167346151), (233, 0.0), (234, 0.0), (235, 0.0), (236, 0.011569883746758207), (237, 0.0), (238, 0.003697868830035465), (239, 0.0), (240, 0.021583208291031414), (241, 0.023375888778055857), (242, 0.008790720221216807), (243, 0.007059150470444416), (244, 0.00848279612792572), (245, 0.0), (246, 0.0), (247, 0.0), (248, 0.00590842650551317), (249, 0.0), (250, 0.023203459478631255), (251, 0.01605491902317483), (252, 0.014588285946130528), (253, 0.0), (254, 0.06047800143658627), (255, 0.003835784652717187), (256, 0.0027422188561995646), (257, 0.02131627665894057), (258, 0.0), (259, 0.0), (260, 0.0), (261, 0.0174002298743053), (262, 0.0), (263, 0.006019687444944549), (264, 0.0), (265, 0.0), (266, 0.0077577162252196906), (267, 0.0031039786596997083), (268, 0.0), (269, 0.025140253887488702), (270, 0.012763238096992924), (271, 0.00781380707578604), (272, 0.0), (273, 0.0061657361372136526), (274, 0.004130901316732914), (275, 0.0), (276, 0.01152386284543783), (277, 0.005581170997553145), (278, 0.0), (279, 0.013961989349792064), (280, 0.010042636810131678), (281, 0.009574877398250926), (282, 0.05180213968952128), (283, 0.007343133801790221), (284, 0.021913690682421452), (285, 0.007953460346803994), (286, 0.003234911211204053), (287, 0.014042518542312053), (288, 0.005387866739559479), (289, 0.0), (290, 0.0), (291, 0.0), (292, 0.04708609561803707), (293, 0.0), (294, 0.0), (295, 0.0), (296, 0.012462164959832099), (297, 0.0), (298, 0.0), (299, 0.0), (300, 0.00606144474103011), (301, 0.006702401158131212), (302, 0.0), (303, 0.0), (304, 0.0), (305, 0.0), (306, 0.0), (307, 0.009338043746420848), (308, 0.0), (309, 0.008061777139425942), (310, 0.0), (311, 0.0), (312, 0.0), (313, 0.00658531853066928), (314, 0.0), (315, 0.0), (316, 0.0), (317, 0.011198463812594872), (318, 0.004015858795179664), (319, 0.0), (320, 0.0), (321, 0.006190211066927403), (322, 0.006329909978479709), (323, 0.0), (324, 0.0), (325, 0.003478814902512024), (326, 0.004435104659921359), (327, 0.005740429647502462), (328, 0.04448884280369812), (329, 0.012569101491402878), (330, 0.02011793954169266), (331, 0.0), (332, 0.00959549936015368), (333, 0.007712647142315072), (334, 0.02185743888871102), (335, 0.0), (336, 0.0046139110578803915), (337, 0.0), (338, 0.0), (339, 0.0), (340, 0.0068793184165176725), (341, 0.006839897654004126), (342, 0.01089483412968082), (343, 0.016240356001980465), (344, 0.0), (345, 0.017370016643949937), (346, 0.006325171755073602), (347, 0.0), (348, 0.0036518881173985916), (349, 0.003539482095417661), (350, 0.003980709941235974), (351, 0.002805240895438522), (352, 0.0), (353, 0.010152573424021906), (354, 0.005837984296931327), (355, 0.003382455876181617), (356, 0.009512949117083511), (357, 0.0032710113518321193), (358, 0.01591235897868632), (359, 0.0033668917152327054), (360, 0.008137615047637341), (361, 0.0), (362, 0.0), (363, 0.006963590983739732), (364, 0.019148154613258757), (365, 0.0), (366, 0.0), (367, 0.0), (368, 0.010241831589970302), (369, 0.006650737931397201), (370, 0.012173282319376847), (371, 0.023736738105081544), (372, 0.0034322562711006114), (373, 0.003458461725120286), (374, 0.016459626123308903), (375, 0.0), (376, 0.0), (377, 0.0), (378, 0.0), (379, 0.0), (380, 0.0), (381, 0.026934807542128906), (382, 0.0), (383, 0.019122179146056604), (384, 0.04821183864798683), (385, 0.009578938235575929), (386, 0.0067588439765817465), (387, 0.037899140038243635), (388, 0.003484806088628709), (389, 0.0), (390, 0.0), (391, 0.0), (392, 0.0), (393, 0.0), (394, 0.0), (395, 0.0), (396, 0.008342274496773586), (397, 0.0), (398, 0.021425518805678844), (399, 0.0), (400, 0.003603061358553217), (401, 0.0), (402, 0.007696222739646657), (403, 0.00852875520744864), (404, 0.0), (405, 0.0), (406, 0.010220912014095494), (407, 0.01323262016769871), (408, 0.04502261083366314), (409, 0.016807144274970483), (410, 0.0033828202673623054), (411, 0.0), (412, 0.0419519621383221), (413, 0.00678229868621969), (414, 0.004828583916521356), (415, 0.0), (416, 0.0033909287408350817), (417, 0.0), (418, 0.009224451329399386), (419, 0.004251717978200306), (420, 0.0), (421, 0.026968937990123384), (422, 0.0), (423, 0.0), (424, 0.051173405745776473), (425, 0.0), (426, 0.0), (427, 0.0), (428, 0.028486734058018055), (429, 0.012766733246324673), (430, 0.02860807730994485), (431, 0.004263071883571191), (432, 0.0), (433, 0.01356237054647484), (434, 0.011542005182901929), (435, 0.007046861513022462), (436, 0.004073241122486912), (437, 0.01562780781601086), (438, 0.03840524748426552), (439, 0.0), (440, 0.0), (441, 0.00836265723553851), (442, 0.018017041600716932), (443, 0.004213426008969548), (444, 0.0), (445, 0.005460887075714381), (446, 0.006274945611362863), (447, 0.008764992239290595), (448, 0.004219026296335558), (449, 0.005800179439246207), (450, 0.013397511244701479), (451, 0.0), (452, 0.01251384565971001), (453, 0.002824454449571875), (454, 0.0), (455, 0.044402516658324245), (456, 0.0038604644958041955), (457, 0.0033729127761908053), (458, 0.013708786252343987), (459, 0.025404561840888108), (460, 0.0), (461, 0.009979572186527084), (462, 0.03179748765166699), (463, 0.009229402658885114), (464, 0.010043267470801573), (465, 0.028477336557813378), (466, 0.0), (467, 0.0), (468, 0.006024272459828729), (469, 0.0), (470, 0.010522436298611193), (471, 0.003419499468473757), (472, 0.010319672647181826), (473, 0.0), (474, 0.0), (475, 0.003556975786122076), (476, 0.0), (477, 0.005152566020120609), (478, 0.0), (479, 0.04271112674605481), (480, 0.0032169611196389645), (481, 0.003965134923659639), (482, 0.010367609834717774), (483, 0.009026999035741721), (484, 0.0), (485, 0.009295081360947552), (486, 0.0), (487, 0.0), (488, 0.0035476076536778193), (489, 0.0), (490, 0.0036542422873827377), (491, 0.0), (492, 0.0), (493, 0.0038426591404800217), (494, 0.00864842308321239), (495, 0.003256398272849925), (496, 0.0142376517988463), (497, 0.0), (498, 0.0), (499, 0.0), (500, 0.008408404915375313), (501, 0.007788191089048659), (502, 0.012756625038418963), (503, 0.0), (504, 0.0036955481899412558), (505, 0.0), (506, 0.0), (507, 0.0), (508, 0.0), (509, 0.003714202809617355), (510, 0.014911325795948267), (511, 0.011536806252603896), (512, 0.0), (513, 0.0), (514, 0.0), (515, 0.024540512533058945), (516, 0.0), (517, 0.0), (518, 0.0), (519, 0.0449425763259807), (520, 0.0), (521, 0.006436000789130573), (522, 0.026996678620519306), (523, 0.0066545859240754015), (524, 0.0), (525, 0.0), (526, 0.0), (527, 0.01001758889073327), (528, 0.0), (529, 0.0), (530, 0.026328563572494492), (531, 0.0), (532, 0.0), (533, 0.013718868734720833), (534, 0.012537894701153953), (535, 0.0), (536, 0.0), (537, 0.007184468292476698), (538, 0.010569525955335635), (539, 0.0), (540, 0.029608111583300505), (541, 0.0), (542, 0.008648343446400747), (543, 0.012788782810301947), (544, 0.008729111247024001), (545, 0.013097679716565861), (546, 0.0), (547, 0.03382641577339508), (548, 0.0), (549, 0.0), (550, 0.0), (551, 0.017217452678096754), (552, 0.0), (553, 0.01822608604369832), (554, 0.0), (555, 0.010641951199226911), (556, 0.0), (557, 0.0), (558, 0.0033594351414441004), (559, 0.0), (560, 0.0), (561, 0.00475381825690802), (562, 0.0028711584283846706), (563, 0.0033261165801492937), (564, 0.0038236611121257053), (565, 0.0), (566, 0.021245343738866666), (567, 0.0), (568, 0.0060966639775656755), (569, 0.0), (570, 0.0), (571, 0.0028945796435728265), (572, 0.0), (573, 0.0), (574, 0.0), (575, 0.0), (576, 0.004091960954323807), (577, 0.0), (578, 0.0335487336091181), (579, 0.0037174309398211856), (580, 0.0037781532101350945), (581, 0.0), (582, 0.007555890081842891), (583, 0.005820422275796998), (584, 0.012713480507444693), (585, 0.0), (586, 0.015532317785786103), (587, 0.004038967102157331), (588, 0.0037656147953632983), (589, 0.0033779068408823685), (590, 0.020045278534290566), (591, 0.0), (592, 0.0), (593, 0.023616446285302965), (594, 0.003322311147727184), (595, 0.0), (596, 0.004100988818238588), (597, 0.005812419533488609), (598, 0.0034709525320572054), (599, 0.0), (600, 0.006743231570859606), (601, 0.0), (602, 0.0), (603, 0.0), (604, 0.0033512691230427392), (605, 0.003249371160981983), (606, 0.0037758608938954913), (607, 0.0028307176284486737), (608, 0.0033191386078984114), (609, 0.013112473526657425), (610, 0.0), (611, 0.0029986306220988646), (612, 0.003919798353975019), (613, 0.02341611694858578), (614, 0.0041438595875447955), (615, 0.041929652266163325), (616, 0.008356561553841128), (617, 0.0031056370327584948), (618, 0.029086191600249136), (619, 0.0), (620, 0.01218747904867996), (621, 0.0), (622, 0.013002389641142182), (623, 0.0039101348399192565), (624, 0.0), (625, 0.0), (626, 0.003145506703228644), (627, 0.004921333017898251), (628, 0.08088922058042754), (629, 0.0259799019917321), (630, 0.0), (631, 0.006626909129595782), (632, 0.031156631399009035), (633, 0.0), (634, 0.0), (635, 0.006910864376765079), (636, 0.0037096622263937196), (637, 0.03950955613652234), (638, 0.01699550510926907), (639, 0.0), (640, 0.0), (641, 0.023066966879022568), (642, 0.003152752043136478), (643, 0.01814508951857653), (644, 0.003495486943603115), (645, 0.0), (646, 0.0), (647, 0.0), (648, 0.011923180159872052), (649, 0.0), (650, 0.0), (651, 0.009645477992591286), (652, 0.0037312382871318886), (653, 0.01073659095159956), (654, 0.009073143463034047), (655, 0.003427130060658445), (656, 0.0), (657, 0.025202647953740977), (658, 0.0), (659, 0.003409950074881654), (660, 0.0037894345527515264), (661, 0.0), (662, 0.0), (663, 0.0), (664, 0.005762310139098254), (665, 0.0), (666, 0.0), (667, 0.00907211690403597), (668, 0.006892003871210056), (669, 0.017584852773767125), (670, 0.02297344221116162), (671, 0.006637013325860391), (672, 0.02235883856123378), (673, 0.030264128815029046), (674, 0.0), (675, 0.00930533836678459), (676, 0.011969583412373277), (677, 0.016489420400122416), (678, 0.0), (679, 0.0), (680, 0.0), (681, 0.0), (682, 0.03892888671825015), (683, 0.009613536575849095), (684, 0.014560014121001413), (685, 0.0), (686, 0.0), (687, 0.0), (688, 0.004055859155120908), (689, 0.010081003878569032), (690, 0.0), (691, 0.019940237305293356), (692, 0.012932038064920395), (693, 0.028798266815154856), (694, 0.03147467539223093), (695, 0.007903593324402946), (696, 0.0036573251257878132), (697, 0.010119377731155198), (698, 0.0035489473240098825), (699, 0.0), (700, 0.0), (701, 0.0136585387970814), (702, 0.0), (703, 0.0032675123692914683), (704, 0.0), (705, 0.008888518337374259), (706, 0.02088161802129896), (707, 0.0031285494520375805), (708, 0.0), (709, 0.0), (710, 0.03647603083092776), (711, 0.0), (712, 0.003210740801159154), (713, 0.0), (714, 0.0), (715, 0.006969918813341333), (716, 0.003844684920155928), (717, 0.0), (718, 0.0), (719, 0.008078926065389302), (720, 0.0), (721, 0.034156246055567455), (722, 0.003330065857356616), (723, 0.0), (724, 0.0), (725, 0.0), (726, 0.0), (727, 0.003597028037973829), (728, 0.003952685994134895), (729, 0.004072312148693841), (730, 0.0), (731, 0.0), (732, 0.008834813744962042), (733, 0.010742961485300358), (734, 0.009491137655338988), (735, 0.005051945204385328), (736, 0.0), (737, 0.0071681390241348526), (738, 0.0), (739, 0.004132137758337539), (740, 0.0), (741, 0.0), (742, 0.00956149589630644), (743, 0.00376079059609699), (744, 0.0033759808521579564), (745, 0.0), (746, 0.0), (747, 0.0), (748, 0.006756845697694812), (749, 0.003632245126741845), (750, 0.003773939676714182), (751, 0.0), (752, 0.0067887983378390835), (753, 0.009863069729401094), (754, 0.0), (755, 0.003572978943874477), (756, 0.0), (757, 0.0173298701987033), (758, 0.006469477769900313), (759, 0.0), (760, 0.009831653168943388), (761, 0.04651978519335046), (762, 0.011065423748112814), (763, 0.02014047228371334), (764, 0.0), (765, 0.0), (766, 0.025537076545996115), (767, 0.0), (768, 0.018287135150359974), (769, 0.003585739119406237), (770, 0.0), (771, 0.0), (772, 0.0), (773, 0.0), (774, 0.03661059657075547), (775, 0.009820265668697519), (776, 0.016489966849950917), (777, 0.0), (778, 0.006602555196393074), (779, 0.01538700103521152), (780, 0.0), (781, 0.0), (782, 0.006150094490428949), (783, 0.003907435979627587), (784, 0.0), (785, 0.0), (786, 0.0), (787, 0.030487510989961275), (788, 0.03446864367437208), (789, 0.0), (790, 0.008311549087157252), (791, 0.0), (792, 0.0038558867393641604), (793, 0.0), (794, 0.017626816671301112), (795, 0.020002266787744468), (796, 0.018280528196105955), (797, 0.0), (798, 0.003559801395880443), (799, 0.01200406329044087), (800, 0.009136598985566655), (801, 0.00791030050443881), (802, 0.0), (803, 0.0), (804, 0.003358761082523088), (805, 0.0), (806, 0.012654491687595484), (807, 0.0), (808, 0.014460344732381397), (809, 0.006533640616395959), (810, 0.0), (811, 0.0), (812, 0.030765727519967735), (813, 0.004138813695679005), (814, 0.013018389261978206), (815, 0.0032576082027763005), (816, 0.009984370256861465), (817, 0.006192941805671259), (818, 0.03526463649489129), (819, 0.0), (820, 0.0), (821, 0.005817525044650341), (822, 0.0), (823, 0.02783950655943511), (824, 0.02488346782107121), (825, 0.0), (826, 0.003921995568272864), (827, 0.00818136594217087), (828, 0.008132769334487203), (829, 0.007952322243722242), (830, 0.039082779091637036), (831, 0.002602426547560047), (832, 0.022037179360893784), (833, 0.014134369540688588), (834, 0.006274443933590935), (835, 0.0060650796464157474), (836, 0.029086369519933913), (837, 0.0), (838, 0.00948439500717421), (839, 0.0), (840, 0.0), (841, 0.0), (842, 0.01050385235617568), (843, 0.008299879361016694), (844, 0.014947108375326494), (845, 0.0), (846, 0.0), (847, 0.011390888923354566), (848, 0.0), (849, 0.0), (850, 0.010200273563343592), (851, 0.0032018087829372125), (852, 0.02741540715426462), (853, 0.01164926579475672), (854, 0.0035231268161894417), (855, 0.0), (856, 0.0032751875952308314), (857, 0.003995667128886725), (858, 0.018359912052344413), (859, 0.0), (860, 0.014300589238428259), (861, 0.0031659481748844485), (862, 0.0), (863, 0.0), (864, 0.025156078843596927), (865, 0.0037565177941392388), (866, 0.011447619137925316), (867, 0.016248795949375717), (868, 0.0), (869, 0.008812663019563016), (870, 0.018089390116699196), (871, 0.0037608378202841214), (872, 0.0038946184351922168), (873, 0.05112519947683683), (874, 0.034295147360008243), (875, 0.0), (876, 0.004102746901250771), (877, 0.04623080968589629), (878, 0.011680439560504453), (879, 0.012959909304568917), (880, 0.0036094644249227803), (881, 0.0), (882, 0.0), (883, 0.0), (884, 0.0), (885, 0.02087947878806303), (886, 0.0034511951916120455), (887, 0.0), (888, 0.004015599220490802), (889, 0.0), (890, 0.0), (891, 0.0), (892, 0.0), (893, 0.0), (894, 0.0036165000413242976), (895, 0.012003468376139702), (896, 0.013312887984817716), (897, 0.010213771696079564), (898, 0.0), (899, 0.011796980720609645), (900, 0.009345770686034536), (901, 0.0), (902, 0.0), (903, 0.02775822607947087), (904, 0.04095521644172931), (905, 0.009816461883204572), (906, 0.012986040491184183), (907, 0.0033610261347703143), (908, 0.008917397025780966), (909, 0.0), (910, 0.0033761490524318793), (911, 0.02799325632618228), (912, 0.0), (913, 0.0), (914, 0.0), (915, 0.008284829694679864), (916, 0.013928866365731877), (917, 0.01908791567746917), (918, 0.008906769162644396), (919, 0.0), (920, 0.0), (921, 0.0059364940573671445), (922, 0.0), (923, 0.0036536076846288477), (924, 0.00868574501074146), (925, 0.0042395831932548304), (926, 0.0), (927, 0.0), (928, 0.0), (929, 0.015738510501444612), (930, 0.0038621736979158636), (931, 0.00862565186292767), (932, 0.0), (933, 0.0), (934, 0.015553212723505972), (935, 0.03061884745149171), (936, 0.00902558705020409), (937, 0.014404157646409569), (938, 0.0), (939, 0.008172326106374448), (940, 0.007095445968663575), (941, 0.0), (942, 0.02218092598404447), (943, 0.0), (944, 0.0033952474082299573), (945, 0.0), (946, 0.0), (947, 0.01664922831652934), (948, 0.010751919660475793), (949, 0.007449037196839586), (950, 0.0), (951, 0.0032865109180504545), (952, 0.024481213273291468), (953, 0.002968662730544475), (954, 0.0), (955, 0.0), (956, 0.0), (957, 0.01497021542869043), (958, 0.00577306466251768), (959, 0.003568801732245562), (960, 0.0), (961, 0.0), (962, 0.009630015032371712), (963, 0.009486692286526537), (964, 0.0), (965, 0.0), (966, 0.009626682510744482), (967, 0.020518253297307935), (968, 0.014998908921612139), (969, 0.003683023026603653), (970, 0.0054038158704432715), (971, 0.0), (972, 0.0), (973, 0.0), (974, 0.0), (975, 0.0034501085427269514), (976, 0.024843697506282986), (977, 0.0), (978, 0.0), (979, 0.005677612889730115), (980, 0.003777759325866877), (981, 0.003308839333373717), (982, 0.0), (983, 0.0), (984, 0.0), (985, 0.004133978634175158), (986, 0.01231420478383729), (987, 0.0), (988, 0.012097620704421481), (989, 0.01204024790362479), (990, 0.0), (991, 0.0038913428471218994), (992, 0.0), (993, 0.0), (994, 0.0087806987015643), (995, 0.0), (996, 0.0), (997, 0.0), (998, 0.004140632125367261), (999, 0.004137044052392402), (1000, 0.011058196749896165), (1001, 0.0035387235761308593), (1002, 0.0034973987436609975), (1003, 0.015056840641227007), (1004, 0.0), (1005, 0.007747448037464938), (1006, 0.010455790376289171), (1007, 0.003922024463613113), (1008, 0.0), (1009, 0.009311624099277318), (1010, 0.0), (1011, 0.0), (1012, 0.006279931817631551), (1013, 0.0), (1014, 0.007288345501165227), (1015, 0.010707344506828226), (1016, 0.0), (1017, 0.009756163704410343), (1018, 0.01314659721967989), (1019, 0.009584726035312532), (1020, 0.009756440614366198), (1021, 0.05628407868452054), (1022, 0.0), (1023, 0.048597838436712434), (1024, 0.03327905159413793), (1025, 0.0), (1026, 0.0035944699504287855), (1027, 0.0035109760861059807), (1028, 0.0), (1029, 0.0), (1030, 0.04630760693893257), (1031, 0.0), (1032, 0.0), (1033, 0.0183116475258777), (1034, 0.0035250736292585447), (1035, 0.01198472649251617), (1036, 0.0), (1037, 0.005232862475942), (1038, 0.0), (1039, 0.0), (1040, 0.0028775211999161397), (1041, 0.003423470078808213), (1042, 0.0), (1043, 0.026687822030441663), (1044, 0.003592574248271484), (1045, 0.015150788392708362), (1046, 0.028041960215792427), (1047, 0.0), (1048, 0.006627251796291431), (1049, 0.004374664872949052), (1050, 0.010636324635756655), (1051, 0.0), (1052, 0.02013300734672521), (1053, 0.01437615045675697), (1054, 0.0), (1055, 0.0), (1056, 0.0), (1057, 0.022583662788191326), (1058, 0.010455740223113928), (1059, 0.02307866863942507), (1060, 0.025989308761947133), (1061, 0.007777922862167654), (1062, 0.0), (1063, 0.028609987808731883), (1064, 0.01498157583450492), (1065, 0.0033265886755793174), (1066, 0.0), (1067, 0.0), (1068, 0.028748335442002934), (1069, 0.007149417882359875), (1070, 0.0437072018475998), (1071, 0.0038969757577010608), (1072, 0.0), (1073, 0.0), (1074, 0.014945416486675769), (1075, 0.010508456993035204), (1076, 0.0), (1077, 0.010298118525403323), (1078, 0.003105569447010643), (1079, 0.0033738054288966063), (1080, 0.0032977087056886246), (1081, 0.0), (1082, 0.0), (1083, 0.0037661403910242103), (1084, 0.0035843534262247605), (1085, 0.03620596695319877), (1086, 0.0), (1087, 0.006453107078958379), (1088, 0.0031817999006380875), (1089, 0.0), (1090, 0.011143047775161516), (1091, 0.0), (1092, 0.0), (1093, 0.0), (1094, 0.006312399525871817), (1095, 0.02656338608119324), (1096, 0.0062180166012057005), (1097, 0.0), (1098, 0.01724697213761538), (1099, 0.0068376109210649206), (1100, 0.0), (1101, 0.0), (1102, 0.04997889390722277), (1103, 0.0), (1104, 0.0), (1105, 0.0), (1106, 0.0), (1107, 0.0034253316223089945), (1108, 0.0), (1109, 0.00404929146673415), (1110, 0.0), (1111, 0.006583313238506084), (1112, 0.014839922265844113), (1113, 0.0), (1114, 0.011783719651380633), (1115, 0.007005145137278306), (1116, 0.016056325991224776), (1117, 0.0), (1118, 0.06131998915365449), (1119, 0.013213810200540044), (1120, 0.0), (1121, 0.0), (1122, 0.003724983033828432), (1123, 0.0035037741202507645), (1124, 0.006544854393177131), (1125, 0.008339097752926974), (1126, 0.0), (1127, 0.0), (1128, 0.014760861028141854), (1129, 0.012906338298018924), (1130, 0.0), (1131, 0.00377207031249115), (1132, 0.020211147695660334), (1133, 0.0), (1134, 0.05603579371829921), (1135, 0.0), (1136, 0.008865800886207385), (1137, 0.017384925930753387), (1138, 0.003689684634137426), (1139, 0.0), (1140, 0.003898597938720688), (1141, 0.019864159547483544), (1142, 0.0), (1143, 0.0), (1144, 0.005120455331531268), (1145, 0.0), (1146, 0.02686979142811318), (1147, 0.0), (1148, 0.009663883082316497), (1149, 0.0), (1150, 0.0), (1151, 0.0), (1152, 0.013944701296724111), (1153, 0.0), (1154, 0.0), (1155, 0.0), (1156, 0.0), (1157, 0.01180877782766602), (1158, 0.0), (1159, 0.0), (1160, 0.011745826717445694), (1161, 0.003361095737843456), (1162, 0.013802223724131282), (1163, 0.003679207492170295), (1164, 0.0), (1165, 0.0), (1166, 0.0), (1167, 0.0), (1168, 0.0), (1169, 0.0), (1170, 0.0036473077844918545), (1171, 0.0), (1172, 0.006343649335045044), (1173, 0.01995333024825067), (1174, 0.0), (1175, 0.01899830711465137), (1176, 0.0037678576723713703), (1177, 0.003443671768267472), (1178, 0.0), (1179, 0.0036345738440388964), (1180, 0.0), (1181, 0.019905723975476783), (1182, 0.010109382676718197), (1183, 0.011526616870829473), (1184, 0.01400555987005356), (1185, 0.009076092029125214), (1186, 0.023969616775523457), (1187, 0.004307125696745113), (1188, 0.0038217567650993705), (1189, 0.0), (1190, 0.0), (1191, 0.0036872548928371623), (1192, 0.01051150550698529), (1193, 0.0), (1194, 0.005662625308161833), (1195, 0.03083039437556321), (1196, 0.0), (1197, 0.0), (1198, 0.0), (1199, 0.0032506484894413022), (1200, 0.0), (1201, 0.0), (1202, 0.01603408816529651), (1203, 0.04006858970043683), (1204, 0.0), (1205, 0.025414111608836682), (1206, 0.009478827414962228), (1207, 0.0), (1208, 0.004617150150263969), (1209, 0.0030797182167512363), (1210, 0.0), (1211, 0.0), (1212, 0.0), (1213, 0.0), (1214, 0.0), (1215, 0.008617456737270796), (1216, 0.016732107613849915), (1217, 0.003207392958325523), (1218, 0.0), (1219, 0.0033158355542492308), (1220, 0.009128389434296624), (1221, 0.0), (1222, 0.0), (1223, 0.003641526155299692), (1224, 0.012731238331234719), (1225, 0.003863882326828622), (1226, 0.00633169975112566), (1227, 0.0), (1228, 0.0), (1229, 0.0037991975614255365), (1230, 0.008215910535739052), (1231, 0.008282452108614032), (1232, 0.0124748145090683), (1233, 0.0), (1234, 0.009024116078733485), (1235, 0.0), (1236, 0.030027003941355247), (1237, 0.011189778046092152), (1238, 0.006271940576661228), (1239, 0.012820534064862065), (1240, 0.0), (1241, 0.03602265890472081), (1242, 0.0), (1243, 0.051118047968376795), (1244, 0.0), (1245, 0.018042873517593885), (1246, 0.0), (1247, 0.0035701710594256714), (1248, 0.041333888186276306), (1249, 0.011205192944293806), (1250, 0.006540718191208796), (1251, 0.0032260130451519722), (1252, 0.012327115828574353), (1253, 0.0), (1254, 0.013148776662639973), (1255, 0.009545734795767355), (1256, 0.0), (1257, 0.03977303894442838), (1258, 0.0), (1259, 0.0), (1260, 0.0), (1261, 0.04471470485871374), (1262, 0.0064424208448443515), (1263, 0.0), (1264, 0.004428675621435868), (1265, 0.0), (1266, 0.006528784517928956), (1267, 0.006141147942020618), (1268, 0.0), (1269, 0.0), (1270, 0.016502531057272594), (1271, 0.0), (1272, 0.02963054260789802), (1273, 0.0034431272608316916), (1274, 0.017286536762845757), (1275, 0.014130537506662795), (1276, 0.006510219376886426), (1277, 0.0), (1278, 0.01439759730878073), (1279, 0.005395242604481313), (1280, 0.0), (1281, 0.0), (1282, 0.0), (1283, 0.02414680615222883), (1284, 0.0), (1285, 0.0), (1286, 0.0036184824358071114), (1287, 0.0), (1288, 0.0), (1289, 0.0), (1290, 0.010952991540837571), (1291, 0.0), (1292, 0.03901534911068498), (1293, 0.012285595228284716), (1294, 0.0), (1295, 0.0), (1296, 0.0), (1297, 0.0), (1298, 0.0), (1299, 0.0), (1300, 0.007341295516030126), (1301, 0.0), (1302, 0.038463790089139194), (1303, 0.0029566584968688065), (1304, 0.0), (1305, 0.003043093543765488), (1306, 0.007390760261020308), (1307, 0.006072482496870005), (1308, 0.009367142223386273), (1309, 0.0), (1310, 0.011623034246842627), (1311, 0.037336851024840315), (1312, 0.005386022522471747), (1313, 0.0035836138999806783), (1314, 0.023148164318718342), (1315, 0.0), (1316, 0.0059195346401491504), (1317, 0.01217155515261233), (1318, 0.0033039792541371283), (1319, 0.0), (1320, 0.04143776315513738), (1321, 0.0), (1322, 0.0), (1323, 0.0), (1324, 0.0039025509734333472), (1325, 0.003986082966377888), (1326, 0.0), (1327, 0.006080973400593735), (1328, 0.0), (1329, 0.006296181573336854), (1330, 0.0), (1331, 0.013867325094065281), (1332, 0.0), (1333, 0.0), (1334, 0.012534713932015457), (1335, 0.0036882393203597503), (1336, 0.0), (1337, 0.012523213377275657), (1338, 0.003579765309449951), (1339, 0.009131211603023477), (1340, 0.0031505624126255114), (1341, 0.075956233145764), (1342, 0.012690259992547668), (1343, 0.010187438764703769), (1344, 0.0), (1345, 0.006429638850789374), (1346, 0.0), (1347, 0.0), (1348, 0.007680194053448404), (1349, 0.0041153416628912365), (1350, 0.003553814916212314), (1351, 0.021930411443647768), (1352, 0.00312747553347528), (1353, 0.0), (1354, 0.0), (1355, 0.0), (1356, 0.0030849991359327414), (1357, 0.0033514513852147647), (1358, 0.04020594154146641), (1359, 0.0067643898205022885), (1360, 0.0113387830870782), (1361, 0.015086371623723052), (1362, 0.0), (1363, 0.0), (1364, 0.0038468407452670046), (1365, 0.01843885958592305), (1366, 0.0), (1367, 0.02993938977132677), (1368, 0.0), (1369, 0.03494255317646646), (1370, 0.003201422884241601), (1371, 0.009683820219860908), (1372, 0.0034406865221253908), (1373, 0.0), (1374, 0.006363861546802854), (1375, 0.00348651088592406), (1376, 0.012284524018140269), (1377, 0.015918997137131918), (1378, 0.0036335469337327223), (1379, 0.03323031401289379), (1380, 0.0), (1381, 0.0), (1382, 0.010581812817788201), (1383, 0.0803110667967067), (1384, 0.013279003917550615), (1385, 0.01866497206693417), (1386, 0.018143897453757583), (1387, 0.011120034892043084), (1388, 0.008706272614138746), (1389, 0.03332108800839501), (1390, 0.0), (1391, 0.0), (1392, 0.0), (1393, 0.03316001753901232), (1394, 0.003250503105067343), (1395, 0.0), (1396, 0.006688484102013631), (1397, 0.018962532187377135), (1398, 0.028155567308752488), (1399, 0.0), (1400, 0.0038315542115124326), (1401, 0.013335065160523065), (1402, 0.0), (1403, 0.01769375133680538), (1404, 0.0), (1405, 0.027907937734155397), (1406, 0.00858757150211155), (1407, 0.0067972428418474305), (1408, 0.0036018210149341722), (1409, 0.0), (1410, 0.00369836672999396), (1411, 0.0), (1412, 0.020340260787269717), (1413, 0.010010708380982357), (1414, 0.0032844145369855843), (1415, 0.00301640090330198), (1416, 0.0), (1417, 0.014708934712054495), (1418, 0.010100369357402895), (1419, 0.00863846220591273), (1420, 0.006259048933595577), (1421, 0.003588153519732557), (1422, 0.0036194985112170696), (1423, 0.0032556846701904704), (1424, 0.0), (1425, 0.00650810095672107), (1426, 0.0), (1427, 0.003035744060566549), (1428, 0.0), (1429, 0.004280420626561164), (1430, 0.021789598478945606), (1431, 0.0), (1432, 0.00900524151622369), (1433, 0.0), (1434, 0.0), (1435, 0.0), (1436, 0.009132181940418774), (1437, 0.0), (1438, 0.0036047118711375332), (1439, 0.0), (1440, 0.008764169015261582), (1441, 0.0), (1442, 0.007202871945293385), (1443, 0.013154348346768586), (1444, 0.0), (1445, 0.015795970948711952), (1446, 0.009662729228050454), (1447, 0.0), (1448, 0.0036404164971974877), (1449, 0.0), (1450, 0.0), (1451, 0.0), (1452, 0.0), (1453, 0.005185730023677928), (1454, 0.004035463502348407), (1455, 0.008578654756503497), (1456, 0.0), (1457, 0.0), (1458, 0.0), (1459, 0.0), (1460, 0.0), (1461, 0.006396596538722102), (1462, 0.0033643100127824033), (1463, 0.003812664682796639), (1464, 0.03070335581255367), (1465, 0.01122221467578118), (1466, 0.0), (1467, 0.0), (1468, 0.0), (1469, 0.0), (1470, 0.0), (1471, 0.018541458320122994), (1472, 0.003687609055991208), (1473, 0.0), (1474, 0.004093656175694926), (1475, 0.0103959878560146), (1476, 0.0036833176562674668), (1477, 0.009317703223972955), (1478, 0.0034829559924728737), (1479, 0.0), (1480, 0.0), (1481, 0.003542187063061245), (1482, 0.0280587270622998), (1483, 0.0036323102861783203), (1484, 0.0), (1485, 0.0), (1486, 0.007094751988767809), (1487, 0.0), (1488, 0.0036747366228013197), (1489, 0.004077043881282569), (1490, 0.0), (1491, 0.0), (1492, 0.021103771056421604), (1493, 0.012243924812232142), (1494, 0.006505271747074279), (1495, 0.0), (1496, 0.0), (1497, 0.0), (1498, 0.004058293455358512), (1499, 0.027383297175974083), (1500, 0.02424416596359605), (1501, 0.006396502446919728), (1502, 0.0), (1503, 0.003310730605993667), (1504, 0.0), (1505, 0.021532164273618946), (1506, 0.04142133273002388), (1507, 0.0), (1508, 0.0), (1509, 0.006885305323666359), (1510, 0.016365467451365266), (1511, 0.0), (1512, 0.014963540532487794), (1513, 0.003811479745846859), (1514, 0.00943203745187472), (1515, 0.021210710358432618), (1516, 0.0), (1517, 0.0), (1518, 0.003931727453595505), (1519, 0.009366509689039595), (1520, 0.0), (1521, 0.0), (1522, 0.0), (1523, 0.015356304708585764), (1524, 0.0), (1525, 0.0), (1526, 0.006059121669224241), (1527, 0.03735962597989158), (1528, 0.0), (1529, 0.0), (1530, 0.01989393054183363), (1531, 0.0), (1532, 0.0), (1533, 0.003682977072625212), (1534, 0.0), (1535, 0.0), (1536, 0.0), (1537, 0.003958147554636253), (1538, 0.005816562754596756), (1539, 0.009024754738576725), (1540, 0.0), (1541, 0.0), (1542, 0.008905825242350073), (1543, 0.003400622929205988), (1544, 0.025492104665927863), (1545, 0.0), (1546, 0.0), (1547, 0.00423960793491521), (1548, 0.0), (1549, 0.0), (1550, 0.0), (1551, 0.006339920601975354), (1552, 0.006097151706230233), (1553, 0.005648551242325066), (1554, 0.0), (1555, 0.0), (1556, 0.0), (1557, 0.0), (1558, 0.003507085373205521), (1559, 0.0), (1560, 0.02727028859146781), (1561, 0.0), (1562, 0.0), (1563, 0.0), (1564, 0.0), (1565, 0.0031717786835972657), (1566, 0.0), (1567, 0.00574128523153795), (1568, 0.029008944763872304), (1569, 0.0), (1570, 0.003919838630740108), (1571, 0.005647284687179219), (1572, 0.02493934178009425), (1573, 0.0), (1574, 0.0), (1575, 0.0), (1576, 0.0), (1577, 0.0), (1578, 0.0), (1579, 0.017120979589650302), (1580, 0.0), (1581, 0.0), (1582, 0.0035137405493223064), (1583, 0.00701574236632279), (1584, 0.0), (1585, 0.024158042857380792), (1586, 0.0), (1587, 0.0), (1588, 0.0), (1589, 0.0), (1590, 0.0), (1591, 0.009985999154994896), (1592, 0.0), (1593, 0.0), (1594, 0.0), (1595, 0.011151165339627478), (1596, 0.0), (1597, 0.003530895964356312), (1598, 0.0035874759424965957), (1599, 0.0), (1600, 0.0), (1601, 0.0), (1602, 0.0), (1603, 0.0), (1604, 0.0), (1605, 0.003292443131933979), (1606, 0.0), (1607, 0.0), (1608, 0.0032392904691507874), (1609, 0.016152140362620575), (1610, 0.0), (1611, 0.0), (1612, 0.006384138508712706), (1613, 0.0), (1614, 0.0), (1615, 0.0), (1616, 0.0032228809500670047), (1617, 0.0), (1618, 0.0), (1619, 0.01061078558754344), (1620, 0.0035687003764882843), (1621, 0.012409525421205514), (1622, 0.0), (1623, 0.0), (1624, 0.003002725765900284), (1625, 0.0), (1626, 0.0), (1627, 0.003129881658958042), (1628, 0.0033814141519847374), (1629, 0.019315933233623135), (1630, 0.008233596839684177), (1631, 0.0), (1632, 0.0), (1633, 0.0), (1634, 0.02779113286355215), (1635, 0.0), (1636, 0.0), (1637, 0.0), (1638, 0.0), (1639, 0.0), (1640, 0.0), (1641, 0.0), (1642, 0.0), (1643, 0.0038652913135739015), (1644, 0.006342741418458348), (1645, 0.003572813944418449), (1646, 0.0), (1647, 0.09061982642239043), (1648, 0.02976850886970754), (1649, 0.0), (1650, 0.005925336545978523), (1651, 0.0), (1652, 0.038019714202056985), (1653, 0.0035579774933306844), (1654, 0.012264649382194787), (1655, 0.012197594118069057), (1656, 0.0), (1657, 0.019356631699145473), (1658, 0.011353919780061759), (1659, 0.0), (1660, 0.0), (1661, 0.0), (1662, 0.005906351674579284), (1663, 0.0), (1664, 0.006035226924394635), (1665, 0.011754754195243862), (1666, 0.003617983635684323), (1667, 0.003415473113029507), (1668, 0.0), (1669, 0.0), (1670, 0.0), (1671, 0.02061200196466065), (1672, 0.0), (1673, 0.0), (1674, 0.009580081538776654), (1675, 0.03630769504805707), (1676, 0.035963799283367646), (1677, 0.002905358625208288), (1678, 0.010094461936901777), (1679, 0.0), (1680, 0.007818239740924599), (1681, 0.0), (1682, 0.015487197291592713), (1683, 0.0), (1684, 0.005627038410960801), (1685, 0.010740712022830104), (1686, 0.0), (1687, 0.003912544762454103), (1688, 0.006521021133921937), (1689, 0.0), (1690, 0.009078941660047492), (1691, 0.0), (1692, 0.006284551882902221), (1693, 0.0034136133731739954), (1694, 0.007651866093634547), (1695, 0.005048953838994511), (1696, 0.00636261474824913), (1697, 0.0), (1698, 0.0), (1699, 0.0), (1700, 0.0), (1701, 0.0050471883869903445), (1702, 0.03474040663218044), (1703, 0.0038671223391214173), (1704, 0.0), (1705, 0.009237210370393985), (1706, 0.00369381450969932), (1707, 0.024605391893079857), (1708, 0.00734806434220585), (1709, 0.0), (1710, 0.009563493808900463), (1711, 0.004528332986536904), (1712, 0.006756573224655198), (1713, 0.03468383756783853), (1714, 0.012074445358639347), (1715, 0.0057449143581102275), (1716, 0.013651670302880892), (1717, 0.0037381237975898916), (1718, 0.00672748208957596), (1719, 0.003311652386150406), (1720, 0.025903378123374215), (1721, 0.02067022783502681), (1722, 0.0037362394999635013), (1723, 0.006032243030046651), (1724, 0.0), (1725, 0.0), (1726, 0.0), (1727, 0.009046563472205907), (1728, 0.0), (1729, 0.0), (1730, 0.009467756898592692), (1731, 0.0), (1732, 0.0), (1733, 0.0), (1734, 0.0), (1735, 0.00883950956250753), (1736, 0.009003246275792728), (1737, 0.006796057764884809), (1738, 0.0), (1739, 0.011112313725707396), (1740, 0.0037038620401476773), (1741, 0.0150933429083086), (1742, 0.0), (1743, 0.008608638751201714), (1744, 0.003480557924166798), (1745, 0.0), (1746, 0.006025009975400682), (1747, 0.007846696926431295), (1748, 0.0042751196205236515), (1749, 0.020095083449159782), (1750, 0.03160292364741391), (1751, 0.0), (1752, 0.032627183891907365), (1753, 0.0), (1754, 0.009352808541927726), (1755, 0.0), (1756, 0.0), (1757, 0.0212889045694076), (1758, 0.0), (1759, 0.014129642073279196), (1760, 0.0034603035120339973), (1761, 0.006533831384696031), (1762, 0.009061542550286983), (1763, 0.026291632470600648), (1764, 0.008755884367448959), (1765, 0.0), (1766, 0.0), (1767, 0.0), (1768, 0.003751932535720566), (1769, 0.0), (1770, 0.03165445263157539), (1771, 0.0), (1772, 0.0), (1773, 0.006273037405415931), (1774, 0.014270604619124385), (1775, 0.0), (1776, 0.007598543140790601), (1777, 0.0), (1778, 0.0), (1779, 0.010647989750131578), (1780, 0.0), (1781, 0.0), (1782, 0.0033620180449139914), (1783, 0.0), (1784, 0.0), (1785, 0.0), (1786, 0.0), (1787, 0.012107157334364993), (1788, 0.023802362741738997), (1789, 0.0), (1790, 0.007588963968944751), (1791, 0.0), (1792, 0.0), (1793, 0.00597576903981013), (1794, 0.0), (1795, 0.028918653365902075), (1796, 0.0033268742687383467), (1797, 0.008003375497483537), (1798, 0.010740674814045843), (1799, 0.007021127145094954), (1800, 0.0), (1801, 0.0), (1802, 0.01267825730721163), (1803, 0.0), (1804, 0.0), (1805, 0.0), (1806, 0.009598103249055393), (1807, 0.006247581104258103), (1808, 0.0), (1809, 0.04430562884391362), (1810, 0.0), (1811, 0.0), (1812, 0.0067969097246187975), (1813, 0.0035639462157048265), (1814, 0.0), (1815, 0.010032240801100921), (1816, 0.007754163549806514), (1817, 0.01616562443440223), (1818, 0.006093303943464315), (1819, 0.0034347413323372543), (1820, 0.0), (1821, 0.04769599091724044), (1822, 0.003897355573770159), (1823, 0.0), (1824, 0.0), (1825, 0.0), (1826, 0.0), (1827, 0.0033321513675938154), (1828, 0.003202727502326881), (1829, 0.0), (1830, 0.0032562561197937603), (1831, 0.0), (1832, 0.008826668688679987), (1833, 0.005702222452909721), (1834, 0.0), (1835, 0.0), (1836, 0.0), (1837, 0.03152208512939822), (1838, 0.015765972381798034), (1839, 0.0), (1840, 0.0), (1841, 0.006633852618015292), (1842, 0.0), (1843, 0.014320474543321055), (1844, 0.0), (1845, 0.02367398898269194), (1846, 0.0), (1847, 0.018602236181779128), (1848, 0.0), (1849, 0.00623495293039071), (1850, 0.04028131304339497), (1851, 0.0038272158209219837), (1852, 0.006269763753565304), (1853, 0.013235118945467046), (1854, 0.008218642086813822), (1855, 0.0), (1856, 0.0), (1857, 0.0), (1858, 0.009514579824187198), (1859, 0.0), (1860, 0.006599059175478454), (1861, 0.02025885873951764), (1862, 0.0), (1863, 0.005488159043979143), (1864, 0.00966765316290016), (1865, 0.01975207569589755), (1866, 0.003927934904133024), (1867, 0.00632391610111042), (1868, 0.029628801046308575), (1869, 0.0033344262782667327), (1870, 0.011360924890536262), (1871, 0.041012587547335555), (1872, 0.01513486198030364), (1873, 0.006317782126560061), (1874, 0.009151508407130084), (1875, 0.009265815314872916), (1876, 0.010286200534596791), (1877, 0.0), (1878, 0.04835625015510226), (1879, 0.0), (1880, 0.014458164115860681), (1881, 0.0), (1882, 0.0036102868556594854), (1883, 0.0), (1884, 0.003453004432136265), (1885, 0.031602001329651436), (1886, 0.06436584358096338), (1887, 0.0), (1888, 0.0), (1889, 0.0), (1890, 0.0), (1891, 0.0036983988938961107), (1892, 0.0033535932240296787), (1893, 0.0038689101550615206), (1894, 0.0), (1895, 0.014074323018978553), (1896, 0.003937264374226331), (1897, 0.010681234467495124), (1898, 0.0), (1899, 0.0), (1900, 0.0), (1901, 0.0), (1902, 0.0038599782918595075), (1903, 0.0059422978045691995), (1904, 0.0), (1905, 0.003938189488309925), (1906, 0.015016064929223288), (1907, 0.003917354629883741), (1908, 0.0064321217184249374), (1909, 0.004178333607322561), (1910, 0.0), (1911, 0.0066539197603009475), (1912, 0.0), (1913, 0.006235864373277342), (1914, 0.0), (1915, 0.0), (1916, 0.003888823684355875), (1917, 0.0), (1918, 0.003872116075845725), (1919, 0.012643197971832706), (1920, 0.00925591714724464), (1921, 0.0), (1922, 0.008575478384013933), (1923, 0.004118530815505191), (1924, 0.0041399075734786395), (1925, 0.0), (1926, 0.0), (1927, 0.014646840266118838), (1928, 0.0), (1929, 0.0), (1930, 0.0), (1931, 0.0037488097336902124), (1932, 0.0), (1933, 0.0), (1934, 0.008940824383962733), (1935, 0.022444183159886458), (1936, 0.006515075202521963), (1937, 0.017126995837406723), (1938, 0.0), (1939, 0.0), (1940, 0.0), (1941, 0.0), (1942, 0.019029797738823153), (1943, 0.0032034238698016426), (1944, 0.0), (1945, 0.015116862435127013), (1946, 0.003772248039528178), (1947, 0.004253764836780929), (1948, 0.008867499911506734), (1949, 0.008945296096509178), (1950, 0.0082742326223013), (1951, 0.010601923998313483), (1952, 0.0), (1953, 0.0), (1954, 0.0), (1955, 0.0), (1956, 0.0), (1957, 0.010720441113047464), (1958, 0.0), (1959, 0.0), (1960, 0.003937874705919531), (1961, 0.0), (1962, 0.0), (1963, 0.0), (1964, 0.0033291593266749297), (1965, 0.0), (1966, 0.0), (1967, 0.0119416111692126), (1968, 0.004254345136490324), (1969, 0.003565212871601662), (1970, 0.04815695457486968), (1971, 0.01051582924201617), (1972, 0.0), (1973, 0.02206064557379606), (1974, 0.0), (1975, 0.0), (1976, 0.023556005570924233), (1977, 0.07499050329027504), (1978, 0.0), (1979, 0.0), (1980, 0.0), (1981, 0.0), (1982, 0.031742827665239726), (1983, 0.0037608936529299032), (1984, 0.0), (1985, 0.01878645793445797), (1986, 0.006506954928618574), (1987, 0.0), (1988, 0.012264362040232584), (1989, 0.0029709920601255204), (1990, 0.02368104088497907), (1991, 0.0), (1992, 0.008152643915385414), (1993, 0.0), (1994, 0.08133561344529718), (1995, 0.004270792034678288), (1996, 0.01726763046221251), (1997, 0.013398085786528713), (1998, 0.0), (1999, 0.02386495999486117), (2000, 0.013171070529416622), (2001, 0.0), (2002, 0.0), (2003, 0.0), (2004, 0.0034621628015578656), (2005, 0.01155036930345059), (2006, 0.0), (2007, 0.0), (2008, 0.009827433238764904), (2009, 0.0), (2010, 0.002948758823194811), (2011, 0.025263282743385046), (2012, 0.0358246375266432), (2013, 0.02203258951112728), (2014, 0.033302110262261736), (2015, 0.0), (2016, 0.012577285308577556), (2017, 0.0), (2018, 0.03496884799876962), (2019, 0.0), (2020, 0.024026308421897714), (2021, 0.0), (2022, 0.005171462286913971), (2023, 0.0256750309714067), (2024, 0.011793218545779192), (2025, 0.0), (2026, 0.05707092443744769), (2027, 0.016725732580629652), (2028, 0.0), (2029, 0.0035622866916832445), (2030, 0.0), (2031, 0.0033289862642276965), (2032, 0.0), (2033, 0.0), (2034, 0.0030222245911979357), (2035, 0.018565906358112984), (2036, 0.0), (2037, 0.02726327336714797), (2038, 0.0), (2039, 0.0030923311931930907), (2040, 0.020534955136369083), (2041, 0.0), (2042, 0.0), (2043, 0.0), (2044, 0.0), (2045, 0.01022437405431037), (2046, 0.0), (2047, 0.0), (2048, 0.025735432971789932), (2049, 0.01098901726677583), (2050, 0.0), (2051, 0.011394862871522167), (2052, 0.012067764818789094), (2053, 0.012699358061125127), (2054, 0.0), (2055, 0.02273817677257145), (2056, 0.006040102288433461), (2057, 0.0), (2058, 0.0057845490810245325), (2059, 0.0), (2060, 0.0), (2061, 0.003681820306566687), (2062, 0.006098298988803578), (2063, 0.0), (2064, 0.0047351897017078), (2065, 0.010947317884864142), (2066, 0.0), (2067, 0.0037284518251195606), (2068, 0.0034997048492622185), (2069, 0.0035988862246564258), (2070, 0.016056583573169154), (2071, 0.0), (2072, 0.0), (2073, 0.003711811546065682), (2074, 0.005658589438877414), (2075, 0.004728287884544699), (2076, 0.007307806606946271), (2077, 0.0), (2078, 0.0), (2079, 0.0), (2080, 0.00839165896522093), (2081, 0.0), (2082, 0.03209431739263925), (2083, 0.00391250688712872), (2084, 0.0), (2085, 0.0), (2086, 0.0), (2087, 0.009987287604457395), (2088, 0.0038503485915116664), (2089, 0.004282692422358141), (2090, 0.0), (2091, 0.0036752885753107735), (2092, 0.0), (2093, 0.00802225560987365), (2094, 0.02009841744376888), (2095, 0.006254544766320271), (2096, 0.010581158352803426), (2097, 0.01310611961469571), (2098, 0.005579189574050868), (2099, 0.0), (2100, 0.030186840593630426), (2101, 0.007202537067704152), (2102, 0.028918611709611523), (2103, 0.009835240647785952), (2104, 0.003926633841003019), (2105, 0.003896656220133012), (2106, 0.0), (2107, 0.0), (2108, 0.004044269939399369), (2109, 0.030746345799770564), (2110, 0.013848088604497747), (2111, 0.0), (2112, 0.058068120485541844), (2113, 0.0050030563951399725), (2114, 0.029052241962133876), (2115, 0.0), (2116, 0.010848224677975332), (2117, 0.0034958862644079687), (2118, 0.0), (2119, 0.014057547137526915), (2120, 0.0), (2121, 0.009763747543707298), (2122, 0.03778327759166608), (2123, 0.034558267122414), (2124, 0.0), (2125, 0.0), (2126, 0.008901253942143514), (2127, 0.0031238564330988744), (2128, 0.0), (2129, 0.0), (2130, 0.0), (2131, 0.0035372808390303255), (2132, 0.003087387756210392), (2133, 0.04561640720827849), (2134, 0.004147289962059223), (2135, 0.0), (2136, 0.0), (2137, 0.005261717916283053), (2138, 0.0), (2139, 0.0), (2140, 0.0), (2141, 0.0), (2142, 0.0), (2143, 0.009577547914849294), (2144, 0.010081184578090317), (2145, 0.011556289723512159), (2146, 0.0), (2147, 0.0), (2148, 0.0), (2149, 0.01745430467333787), (2150, 0.0), (2151, 0.04103484576324423), (2152, 0.0), (2153, 0.0), (2154, 0.012538196847151612), (2155, 0.010289349311444354), (2156, 0.0056671386964203254), (2157, 0.022956193378451766), (2158, 0.0), (2159, 0.004046952332942529), (2160, 0.0059675412483603555), (2161, 0.01628734368544915), (2162, 0.0038985144016056962), (2163, 0.0), (2164, 0.0), (2165, 0.0), (2166, 0.0), (2167, 0.017477112169750557), (2168, 0.0), (2169, 0.003664369594449892), (2170, 0.0), (2171, 0.0), (2172, 0.0), (2173, 0.02099720249167), (2174, 0.01002005045083387), (2175, 0.005906537137248308), (2176, 0.0041967787274383725), (2177, 0.013037712709019884), (2178, 0.0), (2179, 0.0), (2180, 0.0), (2181, 0.0), (2182, 0.0), (2183, 0.0), (2184, 0.0), (2185, 0.005746697505368246), (2186, 0.0), (2187, 0.0), (2188, 0.004510997545845542), (2189, 0.0), (2190, 0.0), (2191, 0.046198083742584564), (2192, 0.0), (2193, 0.006506500026075831), (2194, 0.0), (2195, 0.0036394381561435088), (2196, 0.009189703298303036), (2197, 0.005452173308778254), (2198, 0.027968844119269712), (2199, 0.004717664645507538), (2200, 0.0), (2201, 0.0034407373621938965), (2202, 0.006052086332460206), (2203, 0.0058690101210595496), (2204, 0.0), (2205, 0.0059855853329438945), (2206, 0.008279451828216856), (2207, 0.016560189417487693), (2208, 0.0), (2209, 0.0071036485939402535), (2210, 0.02108171413454934), (2211, 0.008494086310415665), (2212, 0.03781931260681729), (2213, 0.0), (2214, 0.049764206526109564), (2215, 0.0), (2216, 0.01212698070255893), (2217, 0.0), (2218, 0.0), (2219, 0.0), (2220, 0.0), (2221, 0.025681551110969147), (2222, 0.0), (2223, 0.004122063086116878), (2224, 0.011646929780718915), (2225, 0.0), (2226, 0.003641373622358552), (2227, 0.0), (2228, 0.0), (2229, 0.0135718830593132), (2230, 0.0036695729414171485), (2231, 0.0), (2232, 0.0), (2233, 0.0), (2234, 0.0), (2235, 0.008966065588625227), (2236, 0.00580561901064015), (2237, 0.019008060974547034), (2238, 0.0), (2239, 0.006309087847125002), (2240, 0.0032492670969235756), (2241, 0.0), (2242, 0.0034641229544744904), (2243, 0.0), (2244, 0.007116678973519604), (2245, 0.0), (2246, 0.0), (2247, 0.0), (2248, 0.038180678441020945), (2249, 0.0), (2250, 0.01216437600517944), (2251, 0.005152999401260088), (2252, 0.009286231932857715), (2253, 0.0), (2254, 0.01308761228792137), (2255, 0.004768882617563183), (2256, 0.0), (2257, 0.004771720271044026), (2258, 0.0161380153064034), (2259, 0.0), (2260, 0.004010546488541742), (2261, 0.0), (2262, 0.0), (2263, 0.0), (2264, 0.00781938717074586), (2265, 0.009063205154642961), (2266, 0.004554437238298528), (2267, 0.0), (2268, 0.0), (2269, 0.004266359534511935), (2270, 0.0), (2271, 0.0), (2272, 0.0), (2273, 0.0), (2274, 0.0), (2275, 0.011801233505542935), (2276, 0.02425952068801341), (2277, 0.010238085797532968), (2278, 0.0), (2279, 0.012222846822935708), (2280, 0.008575402170947065), (2281, 0.0), (2282, 0.0), (2283, 0.0), (2284, 0.012363830532332625), (2285, 0.005719791620922815), (2286, 0.004647678153679468), (2287, 0.0031796461420304394), (2288, 0.0039339304936005645), (2289, 0.0036859793019930302), (2290, 0.015159774205291769), (2291, 0.005546701258820587), (2292, 0.0), (2293, 0.0), (2294, 0.04776126563683035), (2295, 0.03755003718427321), (2296, 0.0), (2297, 0.0), (2298, 0.014748592082373944), (2299, 0.00577888086822472), (2300, 0.0), (2301, 0.020791846198887035), (2302, 0.004151589924269096), (2303, 0.006041393743968936), (2304, 0.0), (2305, 0.0), (2306, 0.007964762990975954), (2307, 0.0), (2308, 0.0), (2309, 0.006514892472165494), (2310, 0.0), (2311, 0.0), (2312, 0.0), (2313, 0.003726194895824368), (2314, 0.0), (2315, 0.0), (2316, 0.03645833639057318), (2317, 0.0), (2318, 0.054695863729532126), (2319, 0.0038017481504425675), (2320, 0.004280520158915391), (2321, 0.037985529854445144), (2322, 0.0), (2323, 0.0), (2324, 0.0), (2325, 0.0), (2326, 0.0), (2327, 0.0), (2328, 0.0), (2329, 0.0), (2330, 0.0), (2331, 0.0), (2332, 0.0), (2333, 0.0), (2334, 0.012724637340201345), (2335, 0.0064245550109508325), (2336, 0.0), (2337, 0.0), (2338, 0.003320656583450372), (2339, 0.007222075393459631), (2340, 0.0), (2341, 0.0), (2342, 0.0), (2343, 0.02740132260789418), (2344, 0.003695876114167939), (2345, 0.0), (2346, 0.014147656011421273), (2347, 0.01717163829774681), (2348, 0.003441064531693201), (2349, 0.005088849507102093), (2350, 0.004645521784573992), (2351, 0.0), (2352, 0.0), (2353, 0.015505949243214811), (2354, 0.0), (2355, 0.0030815605353980936), (2356, 0.0), (2357, 0.0), (2358, 0.05426874500538235), (2359, 0.0030735183588496413), (2360, 0.0), (2361, 0.003885676752304497), (2362, 0.02001947662661849), (2363, 0.010812876343345407), (2364, 0.0), (2365, 0.031008744550214934), (2366, 0.013408998829977722), (2367, 0.003491759502856296), (2368, 0.01788811418700936), (2369, 0.0), (2370, 0.0), (2371, 0.03433778301802984), (2372, 0.0), (2373, 0.0), (2374, 0.04287072118358956), (2375, 0.0407664625100967), (2376, 0.015237307849694822), (2377, 0.0), (2378, 0.0), (2379, 0.005341453690102556), (2380, 0.0), (2381, 0.0), (2382, 0.0), (2383, 0.009705341497953027), (2384, 0.0), (2385, 0.0), (2386, 0.003749962145452412), (2387, 0.0), (2388, 0.004347576938525113), (2389, 0.0), (2390, 0.00402395733074591), (2391, 0.0039153125620246965), (2392, 0.0048540581236085545), (2393, 0.0038857120641831865), (2394, 0.026552864090634225), (2395, 0.0), (2396, 0.0), (2397, 0.0036923329549989675), (2398, 0.0), (2399, 0.003375948615139349), (2400, 0.004200807683736147), (2401, 0.0), (2402, 0.0033376174412629712), (2403, 0.007299460565582121), (2404, 0.005050418888262926), (2405, 0.0038370812925663995), (2406, 0.014356838622585884), (2407, 0.005095484670309311), (2408, 0.024050212919922074), (2409, 0.0), (2410, 0.0), (2411, 0.00408340838368521), (2412, 0.010668035642544305), (2413, 0.024326193814838647), (2414, 0.0), (2415, 0.004442054667737427), (2416, 0.0), (2417, 0.044524333354310726), (2418, 0.006764195285794543), (2419, 0.0), (2420, 0.0), (2421, 0.006424674291429707), (2422, 0.003550656954310075), (2423, 0.004670604986272597), (2424, 0.0), (2425, 0.004818290447042986), (2426, 0.005874577676537819), (2427, 0.004194466565491888), (2428, 0.004095593689017456), (2429, 0.0), (2430, 0.0036556669505878893), (2431, 0.0), (2432, 0.0), (2433, 0.0), (2434, 0.004404179054990891), (2435, 0.0), (2436, 0.011190640186023311), (2437, 0.0041074364982591535), (2438, 0.004557876663494904), (2439, 0.005238426580781853), (2440, 0.014560938517653747), (2441, 0.0030098947168832393), (2442, 0.0), (2443, 0.027013274388978773), (2444, 0.008929026448802705), (2445, 0.0), (2446, 0.0), (2447, 0.010575531979000363), (2448, 0.004696576134130751), (2449, 0.02162853885300746), (2450, 0.0), (2451, 0.0), (2452, 0.0), (2453, 0.0034114277283508977), (2454, 0.004489950968461977), (2455, 0.0), (2456, 0.0), (2457, 0.0033271457281490945), (2458, 0.0), (2459, 0.004420147072325737), (2460, 0.013054230960701452), (2461, 0.003602181181173067), (2462, 0.0), (2463, 0.006338428510083485), (2464, 0.009440119742814482), (2465, 0.0), (2466, 0.003809108383515584), (2467, 0.0261734717335429), (2468, 0.010191641711032356), (2469, 0.01983499714345921), (2470, 0.0), (2471, 0.0), (2472, 0.0), (2473, 0.00958517464655046), (2474, 0.013052203772870134), (2475, 0.003973391265065702), (2476, 0.026767071550423776), (2477, 0.003921093095276053), (2478, 0.004149958622976269), (2479, 0.0), (2480, 0.006358825199075367), (2481, 0.02568092753531413), (2482, 0.0034979561579713526), (2483, 0.0), (2484, 0.025011212483702652), (2485, 0.0), (2486, 0.010176004275699367), (2487, 0.024353731585525184), (2488, 0.004509568651561734), (2489, 0.012530549110243911), (2490, 0.005350300647408002), (2491, 0.0), (2492, 0.003725604661143502), (2493, 0.0), (2494, 0.010947008570847593), (2495, 0.0), (2496, 0.003481505197969633), (2497, 0.0), (2498, 0.0), (2499, 0.0), (2500, 0.0), (2501, 0.01501001836208524), (2502, 0.003228948441759572), (2503, 0.006431451768135713), (2504, 0.0), (2505, 0.007107794474763155), (2506, 0.0), (2507, 0.0), (2508, 0.0), (2509, 0.0030507655505213715), (2510, 0.007171772544904387), (2511, 0.0), (2512, 0.012126434107995174), (2513, 0.01784400545810527), (2514, 0.0), (2515, 0.0), (2516, 0.0), (2517, 0.030682838409770742), (2518, 0.0), (2519, 0.0), (2520, 0.003261468454417381), (2521, 0.0), (2522, 0.013277608046511558), (2523, 0.0), (2524, 0.010344355217199295), (2525, 0.0), (2526, 0.0030128432765512596), (2527, 0.003167310621522509), (2528, 0.0033969820695313), (2529, 0.005345338823732229), (2530, 0.044348933591459694), (2531, 0.003850374149296245), (2532, 0.0), (2533, 0.0), (2534, 0.0016593192154271254), (2535, 0.00410031169130615), (2536, 0.0), (2537, 0.0), (2538, 0.06733163098154733), (2539, 0.0), (2540, 0.03474183512878131), (2541, 0.0), (2542, 0.0), (2543, 0.0), (2544, 0.0), (2545, 0.006649369289127982), (2546, 0.008952730815285661), (2547, 0.0), (2548, 0.0), (2549, 0.0), (2550, 0.0485226132551342), (2551, 0.0), (2552, 0.0), (2553, 0.018192420193897888), (2554, 0.003680864853195991), (2555, 0.008247486934537354), (2556, 0.0033946978875129927), (2557, 0.0), (2558, 0.08008982543127076), (2559, 0.00475645673191761), (2560, 0.02512917211167375), (2561, 0.0038745024794576153), (2562, 0.0), (2563, 0.00836092512863756), (2564, 0.0), (2565, 0.006772988509733449), (2566, 0.0), (2567, 0.0), (2568, 0.01221661530435992), (2569, 0.003669960654378185), (2570, 0.004300792841937971), (2571, 0.0), (2572, 0.006169271480321022), (2573, 0.0), (2574, 0.0), (2575, 0.0), (2576, 0.0), (2577, 0.0), (2578, 0.0), (2579, 0.04757117116866227), (2580, 0.0032567805045285456), (2581, 0.01090336192040353), (2582, 0.01956071217729912), (2583, 0.0), (2584, 0.0), (2585, 0.0), (2586, 0.0), (2587, 0.005651391483291485), (2588, 0.0), (2589, 0.0), (2590, 0.0), (2591, 0.0033226326749302855), (2592, 0.004110321823412844), (2593, 0.003412551896708745), (2594, 0.0), (2595, 0.0), (2596, 0.0), (2597, 0.0), (2598, 0.01760524506997957), (2599, 0.0), (2600, 0.0), (2601, 0.010572362551579367), (2602, 0.010249500645559182), (2603, 0.008472527573507515), (2604, 0.0), (2605, 0.0), (2606, 0.0036643594605142047), (2607, 0.016693532858978115), (2608, 0.0), (2609, 0.003890221006491504), (2610, 0.0), (2611, 0.003162490564586722), (2612, 0.0035888893868660297), (2613, 0.0), (2614, 0.030899522091682487), (2615, 0.0), (2616, 0.0), (2617, 0.007640271850526353), (2618, 0.014359868062521744), (2619, 0.0), (2620, 0.0), (2621, 0.021543060429140903), (2622, 0.03275949369216003), (2623, 0.0042035492773468625), (2624, 0.0), (2625, 0.004203880511052642), (2626, 0.0), (2627, 0.0), (2628, 0.0), (2629, 0.004140342249899992), (2630, 0.043172728532688026), (2631, 0.0), (2632, 0.009801986553182228), (2633, 0.010649817294849264), (2634, 0.003477467576035964), (2635, 0.0), (2636, 0.0), (2637, 0.0), (2638, 0.021350382200954657), (2639, 0.014776553352076734), (2640, 0.006644848345377679), (2641, 0.0), (2642, 0.0035317055924050642), (2643, 0.004754676408465176), (2644, 0.01428951933261681), (2645, 0.0156306663393525), (2646, 0.020859532022317908), (2647, 0.018930765976071844), (2648, 0.0), (2649, 0.023648167198819226), (2650, 0.015441704229220738), (2651, 0.0), (2652, 0.003734617563328137), (2653, 0.04668003992753581), (2654, 0.016464015535971797), (2655, 0.0049037614942850135), (2656, 0.0), (2657, 0.0), (2658, 0.0), (2659, 0.0), (2660, 0.0041990779206013155), (2661, 0.003954321437907962), (2662, 0.0), (2663, 0.0), (2664, 0.003946940401355239), (2665, 0.0052922550055577436), (2666, 0.0), (2667, 0.0), (2668, 0.010311274894736856), (2669, 0.0), (2670, 0.0), (2671, 0.0), (2672, 0.0), (2673, 0.004922682486330237), (2674, 0.0033777717031482995), (2675, 0.0), (2676, 0.0), (2677, 0.0), (2678, 0.005953577279349389), (2679, 0.0), (2680, 0.006112237118539194), (2681, 0.0), (2682, 0.0), (2683, 0.0), (2684, 0.0), (2685, 0.0), (2686, 0.0), (2687, 0.026431178745916096), (2688, 0.011033311870668196), (2689, 0.01912670404246469), (2690, 0.0), (2691, 0.006635335532699962), (2692, 1.0000000000000002), (2693, 0.0), (2694, 0.043926040308393956), (2695, 0.012354815945453556), (2696, 0.0042833808232325635), (2697, 0.002998521809003517), (2698, 0.009759389310190823), (2699, 0.022643898867791175), (2700, 0.0), (2701, 0.0), (2702, 0.004182996128531461), (2703, 0.0), (2704, 0.0), (2705, 0.004000716991000788), (2706, 0.0299782790794697), (2707, 0.004360718380436755), (2708, 0.006426920661859022), (2709, 0.0), (2710, 0.028748082748347423), (2711, 0.0), (2712, 0.017808720797719304), (2713, 0.022913556019923793), (2714, 0.0038442746137436635), (2715, 0.0), (2716, 0.035806618126864045), (2717, 0.0), (2718, 0.02255268521601277), (2719, 0.0), (2720, 0.0), (2721, 0.0), (2722, 0.0), (2723, 0.024822031251795492), (2724, 0.0032545242389533805), (2725, 0.0), (2726, 0.006531204094368574), (2727, 0.01023448350434012), (2728, 0.0), (2729, 0.0), (2730, 0.0), (2731, 0.004966788989493388), (2732, 0.006521331680605847), (2733, 0.0), (2734, 0.0), (2735, 0.0), (2736, 0.014285763803299979), (2737, 0.0), (2738, 0.0), (2739, 0.009446439656505046), (2740, 0.011435040634979335), (2741, 0.0033077057157193386), (2742, 0.014024120042012998), (2743, 0.0033152925139028505), (2744, 0.01036460909872666), (2745, 0.043340670835823714), (2746, 0.0036672400395275704), (2747, 0.0031841415968796756), (2748, 0.003995797901045707), (2749, 0.0), (2750, 0.0), (2751, 0.028662585072599348), (2752, 0.00830382373169082), (2753, 0.0), (2754, 0.0), (2755, 0.0038885705853308602), (2756, 0.0), (2757, 0.005687567907096036), (2758, 0.0031274136267854164), (2759, 0.006300759195721767), (2760, 0.016561849037625226), (2761, 0.0255171339575826), (2762, 0.025494994321182952), (2763, 0.0), (2764, 0.005252345577663416), (2765, 0.0), (2766, 0.002921556299043084), (2767, 0.019341788182856305), (2768, 0.017605210667952585), (2769, 0.011810118331246419), (2770, 0.0), (2771, 0.003109983192050421), (2772, 0.004389812791829671), (2773, 0.0), (2774, 0.005178860057121489), (2775, 0.004991924666002734), (2776, 0.003942224861237718), (2777, 0.025923881635179107), (2778, 0.004478223236376241), (2779, 0.003502455890373644), (2780, 0.008901717604506922), (2781, 0.0), (2782, 0.03041464090825897), (2783, 0.0), (2784, 0.012579120157358948), (2785, 0.0), (2786, 0.0), (2787, 0.0), (2788, 0.0), (2789, 0.005318344899488255), (2790, 0.0), (2791, 0.024566007682670886), (2792, 0.0), (2793, 0.0), (2794, 0.0), (2795, 0.015562174831196492), (2796, 0.004345033696908137), (2797, 0.004471176448830228), (2798, 0.010326006874800378), (2799, 0.0), (2800, 0.003496725233125922), (2801, 0.0), (2802, 0.027320675094928675), (2803, 0.009117863201757732), (2804, 0.0), (2805, 0.01314513858352177), (2806, 0.0), (2807, 0.02957668803021249), (2808, 0.018050966667797284), (2809, 0.007708859544692878), (2810, 0.0), (2811, 0.0), (2812, 0.009446062285333843), (2813, 0.0), (2814, 0.0), (2815, 0.0), (2816, 0.006636539337247874), (2817, 0.0), (2818, 0.0), (2819, 0.0), (2820, 0.005603038263199891), (2821, 0.003913350798240974), (2822, 0.02110261912616997), (2823, 0.017152501269526544), (2824, 0.0), (2825, 0.0), (2826, 0.0), (2827, 0.0), (2828, 0.0), (2829, 0.0), (2830, 0.004059209122554018), (2831, 0.01012704324695191), (2832, 0.004840107259739961), (2833, 0.0), (2834, 0.004584304425924427), (2835, 0.0), (2836, 0.0), (2837, 0.0), (2838, 0.004720220266044545), (2839, 0.0), (2840, 0.004133722181999984), (2841, 0.017996591330054296), (2842, 0.0), (2843, 0.0070044739172707565), (2844, 0.00833662242170465), (2845, 0.0033579601950517383), (2846, 0.0), (2847, 0.0), (2848, 0.004405342695356419), (2849, 0.01318556620366406), (2850, 0.0), (2851, 0.0), (2852, 0.0), (2853, 0.0), (2854, 0.004113934876540297), (2855, 0.0), (2856, 0.0), (2857, 0.004544446042214427), (2858, 0.005262010121547259), (2859, 0.04107161741080414), (2860, 0.0), (2861, 0.0), (2862, 0.003458385735594839), (2863, 0.0), (2864, 0.0), (2865, 0.0), (2866, 0.0), (2867, 0.01915608393364184), (2868, 0.03160224985415518), (2869, 0.03913091202058347), (2870, 0.005007580951231826), (2871, 0.007721487118541955), (2872, 0.004257740562783004), (2873, 0.007319923199936508), (2874, 0.014039509109937518), (2875, 0.0), (2876, 0.02822408583467361), (2877, 0.0), (2878, 0.0038151270712955265), (2879, 0.004392636917570173), (2880, 0.0), (2881, 0.004162504502986478), (2882, 0.0), (2883, 0.004921439951658732), (2884, 0.0), (2885, 0.0155534824518189), (2886, 0.011642863462181031), (2887, 0.02995482680856157), (2888, 0.004005899518393274), (2889, 0.0051001652910848865), (2890, 0.004074193234953252), (2891, 0.0), (2892, 0.0035131965954597606), (2893, 0.043829195646386904), (2894, 0.0037634182615072873), (2895, 0.0), (2896, 0.0), (2897, 0.008270162901960627), (2898, 0.0), (2899, 0.00344237731826481), (2900, 0.0), (2901, 0.004762150231420963), (2902, 0.0), (2903, 0.061979438491143804), (2904, 0.003816829557346305), (2905, 0.0), (2906, 0.0), (2907, 0.0034208243416542937), (2908, 0.034241810457506974), (2909, 0.0), (2910, 0.012068658336535676), (2911, 0.003845628268848182), (2912, 0.02359086953917902), (2913, 0.007152319256251687), (2914, 0.004172878159838208), (2915, 0.011290229375898056), (2916, 0.004146959228911838), (2917, 0.013027451073858205), (2918, 0.00836748000513996), (2919, 0.012542154110817362), (2920, 0.026861192974114784), (2921, 0.0), (2922, 0.0), (2923, 0.0), (2924, 0.004224498778614994), (2925, 0.009906127209503455), (2926, 0.003852316387676692), (2927, 0.0), (2928, 0.0), (2929, 0.005714076352570198), (2930, 0.0), (2931, 0.016772243322319497), (2932, 0.01634971528823176), (2933, 0.008610366005867216), (2934, 0.012424342869287175), (2935, 0.005853078212457845), (2936, 0.007235211637018224), (2937, 0.0), (2938, 0.0), (2939, 0.010668142392906112), (2940, 0.0), (2941, 0.0), (2942, 0.00550906209287472), (2943, 0.003840749123542772), (2944, 0.04531276763483155), (2945, 0.00359069021654171), (2946, 0.003591111099138859), (2947, 0.0), (2948, 0.0), (2949, 0.003900876456217355), (2950, 0.023243165554037486), (2951, 0.0), (2952, 0.0), (2953, 0.0), (2954, 0.0), (2955, 0.0), (2956, 0.0), (2957, 0.0045427720641925745), (2958, 0.0), (2959, 0.0), (2960, 0.0), (2961, 0.012085544358687084), (2962, 0.0), (2963, 0.0), (2964, 0.0068286937198943146), (2965, 0.003531570807809051), (2966, 0.004474361049729202), (2967, 0.0), (2968, 0.0), (2969, 0.013836872027448845), (2970, 0.0), (2971, 0.03740204098796954), (2972, 0.026349373551211048), (2973, 0.0), (2974, 0.004102625792956958), (2975, 0.008898468281779679), (2976, 0.00324950018164485), (2977, 0.0101835141248714), (2978, 0.009216449911687432), (2979, 0.0), (2980, 0.009911674674299705), (2981, 0.03110803125683505), (2982, 0.0), (2983, 0.0), (2984, 0.0), (2985, 0.05387638857712972), (2986, 0.004332475484793227), (2987, 0.0), (2988, 0.010294626829565529), (2989, 0.005177145400237149), (2990, 0.0), (2991, 0.0), (2992, 0.005969536807859159), (2993, 0.0), (2994, 0.0), (2995, 0.021329590836718572), (2996, 0.013479900841145925), (2997, 0.0), (2998, 0.005553873053179697), (2999, 0.003816865270676326), (3000, 0.01527269017683145), (3001, 0.0), (3002, 0.0), (3003, 0.0), (3004, 0.03326612259077194), (3005, 0.0), (3006, 0.0), (3007, 0.0), (3008, 0.007188759970770698), (3009, 0.0), (3010, 0.044207254485861394), (3011, 0.0), (3012, 0.004177573740586545), (3013, 0.004161827626441777), (3014, 0.003487999676213792), (3015, 0.004654152221266267), (3016, 0.0), (3017, 0.025179679707857103), (3018, 0.009093823125660939), (3019, 0.014147333050055876), (3020, 0.0), (3021, 0.0), (3022, 0.0), (3023, 0.0434330075038611), (3024, 0.003055455781653479), (3025, 0.0), (3026, 0.0), (3027, 0.0033098151350277986), (3028, 0.02712347872778545), (3029, 0.0), (3030, 0.0050042262166460705), (3031, 0.0), (3032, 0.004075997111945807), (3033, 0.006357408061168827), (3034, 0.0), (3035, 0.003533156990893121), (3036, 0.017541803064459984), (3037, 0.003923231995530039), (3038, 0.0), (3039, 0.007252582962172903), (3040, 0.005174743218354855), (3041, 0.0), (3042, 0.0), (3043, 0.013857763518759225), (3044, 0.004041008467985572), (3045, 0.024625871331094024), (3046, 0.0062054469759867), (3047, 0.0), (3048, 0.0), (3049, 0.0), (3050, 0.0033753579929792473), (3051, 0.005261448291019885), (3052, 0.005077289189145313), (3053, 0.07221066248406899), (3054, 0.0), (3055, 0.0), (3056, 0.0030443948286313686), (3057, 0.0), (3058, 0.0), (3059, 0.0), (3060, 0.0), (3061, 0.0), (3062, 0.004106221986112447), (3063, 0.0), (3064, 0.0), (3065, 0.008568811680827217), (3066, 0.006214374883467868), (3067, 0.010019111635658348), (3068, 0.020801133511447793), (3069, 0.0), (3070, 0.007700547493172432), (3071, 0.0034217909777337473), (3072, 0.004235441092621617), (3073, 0.0), (3074, 0.00449901603279113), (3075, 0.003592452305610679), (3076, 0.004729391100686403), (3077, 0.0), (3078, 0.0), (3079, 0.0), (3080, 0.0), (3081, 0.004256442005114786), (3082, 0.0), (3083, 0.020025550687220207), (3084, 0.0), (3085, 0.006152525960034902), (3086, 0.01330258422841244), (3087, 0.0), (3088, 0.0), (3089, 0.0), (3090, 0.0), (3091, 0.04459041768100859), (3092, 0.0), (3093, 0.0), (3094, 0.011810849445887062), (3095, 0.015860449850643984), (3096, 0.008775313711766595), (3097, 0.004025087531816833), (3098, 0.01632883522922127), (3099, 0.007689347089746107), (3100, 0.0), (3101, 0.0), (3102, 0.034127129337966966), (3103, 0.0), (3104, 0.0), (3105, 0.0), (3106, 0.0), (3107, 0.0), (3108, 0.009044510263625608), (3109, 0.0), (3110, 0.009640210281811272), (3111, 0.019277060109803856), (3112, 0.003925991322384048), (3113, 0.0), (3114, 0.005938927841473645), (3115, 0.0), (3116, 0.004062497531593739), (3117, 0.0), (3118, 0.007976958741994547), (3119, 0.017058848812441945), (3120, 0.0033914215531978082), (3121, 0.0), (3122, 0.0035035710016839646), (3123, 0.004403195167292048), (3124, 0.0), (3125, 0.0037027454547185388), (3126, 0.0), (3127, 0.028867335099648096), (3128, 0.0), (3129, 0.012844321868856595), (3130, 0.0), (3131, 0.0), (3132, 0.0), (3133, 0.0), (3134, 0.0), (3135, 0.0), (3136, 0.0), (3137, 0.00680646694152536), (3138, 0.0), (3139, 0.0), (3140, 0.004537994327816813), (3141, 0.0), (3142, 0.012056423084743756), (3143, 0.0), (3144, 0.018315006788806612), (3145, 0.0), (3146, 0.030247530420795796), (3147, 0.0034126063190062965), (3148, 0.004168446777190273), (3149, 0.0), (3150, 0.0), (3151, 0.009653163328036953), (3152, 0.008004055318156619), (3153, 0.019062876448772074), (3154, 0.025600541799548265), (3155, 0.008748310680824854), (3156, 0.020788188740643546), (3157, 0.02728429489214132), (3158, 0.0), (3159, 0.0), (3160, 0.0), (3161, 0.0), (3162, 0.0), (3163, 0.0), (3164, 0.005422031871929177), (3165, 0.004250615808950267), (3166, 0.005116357000700818), (3167, 0.02323762343277938), (3168, 0.0), (3169, 0.0), (3170, 0.003548227287479232), (3171, 0.0117396131455288), (3172, 0.0), (3173, 0.0), (3174, 0.02434741970822272), (3175, 0.0), (3176, 0.0), (3177, 0.0), (3178, 0.00581603741639273), (3179, 0.0), (3180, 0.0), (3181, 0.0), (3182, 0.0037047656130881922), (3183, 0.004008593249519105), (3184, 0.003911564392086748), (3185, 0.0), (3186, 0.0), (3187, 0.0038494410782561445), (3188, 0.0), (3189, 0.0), (3190, 0.0), (3191, 0.0), (3192, 0.009454256660906778), (3193, 0.0), (3194, 0.003453578453273532), (3195, 0.0036202152526725647), (3196, 0.004096849443366992), (3197, 0.0), (3198, 0.0037900499695541667), (3199, 0.0028522888576601483), (3200, 0.0031309457694425804), (3201, 0.0), (3202, 0.0), (3203, 0.04820395002316504), (3204, 0.0), (3205, 0.004922585463119991), (3206, 0.0), (3207, 0.0), (3208, 0.0), (3209, 0.03968373404095094), (3210, 0.012510355299013754), (3211, 0.0), (3212, 0.0), (3213, 0.012609677764896621), (3214, 0.00353211949591394), (3215, 0.005403754393071712), (3216, 0.0), (3217, 0.0), (3218, 0.010807462497053909), (3219, 0.004708439471018783), (3220, 0.0036012389259924248), (3221, 0.0), (3222, 0.020393862530319946), (3223, 0.0), (3224, 0.0), (3225, 0.0), (3226, 0.01524174130433954), (3227, 0.0037346240203950604), (3228, 0.012260851380901737), (3229, 0.0), (3230, 0.0), (3231, 0.0), (3232, 0.007595937680975315), (3233, 0.003808546744990578), (3234, 0.0040552988187061365), (3235, 0.003943043967165551), (3236, 0.0), (3237, 0.009988019416547842), (3238, 0.0), (3239, 0.0), (3240, 0.009753827514751835), (3241, 0.0038091292239106397), (3242, 0.0), (3243, 0.0), (3244, 0.005845948557541334), (3245, 0.008724314537307884), (3246, 0.006117955810360355), (3247, 0.0), (3248, 0.06701972378688446), (3249, 0.0417107629270697), (3250, 0.0), (3251, 0.0), (3252, 0.0), (3253, 0.01473125935361846), (3254, 0.02060684998668874), (3255, 0.03311146697604359), (3256, 0.007532255405171404), (3257, 0.004331432586585307), (3258, 0.004024819291443212), (3259, 0.009008475783205903), (3260, 0.023005262635634613), (3261, 0.0), (3262, 0.004762497493799764), (3263, 0.0), (3264, 0.006768913088449098), (3265, 0.006584760355365435), (3266, 0.0), (3267, 0.007857530592756613), (3268, 0.0035083283597831722), (3269, 0.0), (3270, 0.0), (3271, 0.0), (3272, 0.0), (3273, 0.004093474549421763), (3274, 0.004171795209549619), (3275, 0.014517455727391028), (3276, 0.11813585538190226), (3277, 0.0), (3278, 0.0034162766980993606), (3279, 0.012914049882497192), (3280, 0.031072857325999462), (3281, 0.0), (3282, 0.004796615099993735), (3283, 0.0), (3284, 0.01520721233493742), (3285, 0.02267190792096241), (3286, 0.0), (3287, 0.0), (3288, 0.006248131845522785), (3289, 0.0), (3290, 0.0), (3291, 0.004921301952868922), (3292, 0.0), (3293, 0.011807192282713085), (3294, 0.046409421312229304), (3295, 0.013636629032634646), (3296, 0.0042107843814392825), (3297, 0.012905035305504681), (3298, 0.0035349102525715267), (3299, 0.012569913683949361), (3300, 0.0034691147978778356), (3301, 0.003000364857239182), (3302, 0.004407898959008013), (3303, 0.0036926271355325773), (3304, 0.0033212813456078606), (3305, 0.0), (3306, 0.01580475133120341), (3307, 0.0), (3308, 0.004375442758857328), (3309, 0.00608162168457459), (3310, 0.0), (3311, 0.0033718275849348046), (3312, 0.010139955173054037), (3313, 0.02625076805664812), (3314, 0.0038814159624065148), (3315, 0.03397149928243172), (3316, 0.007814624509800716), (3317, 0.010038830588906344), (3318, 0.003315292603546218), (3319, 0.020293694086011595), (3320, 0.0), (3321, 0.0), (3322, 0.004783721779236151), (3323, 0.0), (3324, 0.0), (3325, 0.006279402224923149), (3326, 0.02929427327525351), (3327, 0.003282541018304341), (3328, 0.030533089819255045), (3329, 0.005869172904179705), (3330, 0.02938826509085443), (3331, 0.0030821889914786483), (3332, 0.0), (3333, 0.0), (3334, 0.05089939442887443), (3335, 0.0), (3336, 0.0), (3337, 0.0), (3338, 0.0), (3339, 0.0), (3340, 0.0), (3341, 0.0), (3342, 0.003414222602761802), (3343, 0.0), (3344, 0.02382510531313308), (3345, 0.021237278019084094), (3346, 0.009916144647051196), (3347, 0.003102395173578108), (3348, 0.0), (3349, 0.003843669754786735), (3350, 0.0), (3351, 0.03491408658870568), (3352, 0.02089535208841117), (3353, 0.0038608260777851272), (3354, 0.0), (3355, 0.004224702739021188), (3356, 0.013704045678028399), (3357, 0.004448693538637465), (3358, 0.0), (3359, 0.004290038783102944), (3360, 0.01476262058335263), (3361, 0.0), (3362, 0.034612718665371786), (3363, 0.0045736008362586775), (3364, 0.004268648915774446), (3365, 0.002629768447068813), (3366, 0.0), (3367, 0.0), (3368, 0.0), (3369, 0.0), (3370, 0.011905321387090313), (3371, 0.0), (3372, 0.0), (3373, 0.036835124183941456), (3374, 0.044484856668354146), (3375, 0.014537761012955015), (3376, 0.028752579222892174), (3377, 0.02785897164844766), (3378, 0.0), (3379, 0.003594865641672789), (3380, 0.0032532883473974953), (3381, 0.0), (3382, 0.009046011134745026), (3383, 0.0), (3384, 0.007549147959055243), (3385, 0.05187208872237839), (3386, 0.010288248161700073), (3387, 0.007098637698669507), (3388, 0.003856201023066876), (3389, 0.009386004007492897), (3390, 0.0), (3391, 0.0040679014766892355), (3392, 0.0), (3393, 0.0032026780560724167), (3394, 0.0), (3395, 0.04702044108923306), (3396, 0.004289250179179353), (3397, 0.0), (3398, 0.0), (3399, 0.009400878504666726), (3400, 0.0), (3401, 0.0), (3402, 0.0035718908701999493), (3403, 0.018434770830819194), (3404, 0.0), (3405, 0.0), (3406, 0.0038388586274688335), (3407, 0.009460122488212373), (3408, 0.04334104127847878), (3409, 0.03793769295004338), (3410, 0.005169096859818828), (3411, 0.0), (3412, 0.0), (3413, 0.004348295250113953), (3414, 0.0), (3415, 0.0), (3416, 0.006441719585066455), (3417, 0.0040439306785768885), (3418, 0.007862401152539486), (3419, 0.0), (3420, 0.028808572707007568), (3421, 0.012660086775754465), (3422, 0.0), (3423, 0.0072860244600420985), (3424, 0.0), (3425, 0.004269800954572835), (3426, 0.005957632222214056), (3427, 0.04068680746138194), (3428, 0.02438548370103725), (3429, 0.0), (3430, 0.030233852476071583), (3431, 0.0), (3432, 0.0), (3433, 0.017636997712989363), (3434, 0.0), (3435, 0.0036184058471795196), (3436, 0.0036879146325927), (3437, 0.01283353759764815), (3438, 0.0), (3439, 0.0), (3440, 0.0), (3441, 0.0), (3442, 0.0), (3443, 0.0), (3444, 0.0), (3445, 0.003736317661676819), (3446, 0.018636931896977477), (3447, 0.027428271082922687), (3448, 0.0), (3449, 0.0039466643757891835), (3450, 0.06052988033346736), (3451, 0.0), (3452, 0.0), (3453, 0.009371546151878983), (3454, 0.0), (3455, 0.0), (3456, 0.0043986543458437895), (3457, 0.00676294909026577), (3458, 0.004395776353668686), (3459, 0.0), (3460, 0.0033594950336784004), (3461, 0.0), (3462, 0.056204684356546436), (3463, 0.059575706379779596), (3464, 0.0), (3465, 0.030369435215262322), (3466, 0.022386697827488297), (3467, 0.0), (3468, 0.0), (3469, 0.019865695095971032), (3470, 0.028701691899851445), (3471, 0.01789233713737253), (3472, 0.0), (3473, 0.0), (3474, 0.0033303571938811507), (3475, 0.0), (3476, 0.0), (3477, 0.003657743145934577), (3478, 0.0), (3479, 0.004854789949962483), (3480, 0.06455840004192609), (3481, 0.0), (3482, 0.0), (3483, 0.01967992462889568), (3484, 0.0), (3485, 0.0), (3486, 0.033494643538334576), (3487, 0.0035208101009879715), (3488, 0.022075430179638245), (3489, 0.0), (3490, 0.0), (3491, 0.0), (3492, 0.021723050629520742), (3493, 0.0038857136111798488), (3494, 0.0), (3495, 0.0), (3496, 0.003925360585731481), (3497, 0.0), (3498, 0.032152698023678254), (3499, 0.0), (3500, 0.0033979295210958254), (3501, 0.0036966532839299657), (3502, 0.0), (3503, 0.0035218106826022627), (3504, 0.017873228288474166), (3505, 0.0), (3506, 0.004245394433436818), (3507, 0.0), (3508, 0.012553801021522284), (3509, 0.005532954544579349), (3510, 0.0), (3511, 0.037166583440775475), (3512, 0.0056860161575328656), (3513, 0.0), (3514, 0.0), (3515, 0.007003671493136484), (3516, 0.003920475636816774), (3517, 0.0), (3518, 0.046057042815806526), (3519, 0.0), (3520, 0.0), (3521, 0.004473183468527398), (3522, 0.0), (3523, 0.005328012352893028), (3524, 0.011767970110309545), (3525, 0.0), (3526, 0.0037494795882992804), (3527, 0.003841471608682464), (3528, 0.016532121912350515), (3529, 0.0), (3530, 0.0), (3531, 0.0), (3532, 0.0), (3533, 0.0), (3534, 0.003036233146033502), (3535, 0.010191869381115794), (3536, 0.006544492850224935), (3537, 0.0), (3538, 0.0), (3539, 0.0), (3540, 0.0), (3541, 0.01643743375282342), (3542, 0.00373554157777732), (3543, 0.0), (3544, 0.0), (3545, 0.0), (3546, 0.0027794502899397538), (3547, 0.0), (3548, 0.0), (3549, 0.0), (3550, 0.0), (3551, 0.0037345541789046), (3552, 0.04364301407501576), (3553, 0.01867719964509626), (3554, 0.0), (3555, 0.0), (3556, 0.029924951846484693), (3557, 0.003628575341147381), (3558, 0.01521042646655382), (3559, 0.04131360541955095), (3560, 0.004105179893809334), (3561, 0.0), (3562, 0.0), (3563, 0.0033508261707328184), (3564, 0.003713293805456845), (3565, 0.0), (3566, 0.006031382999189557), (3567, 0.0), (3568, 0.0), (3569, 0.0032151407547352166), (3570, 0.0), (3571, 0.0037436165093465475), (3572, 0.03117801912807579), (3573, 0.025001303969096656), (3574, 0.02679099077973436), (3575, 0.0029683115153199694), (3576, 0.0), (3577, 0.0045513693554103075), (3578, 0.0), (3579, 0.008667125776943826), (3580, 0.014672348257239832), (3581, 0.0), (3582, 0.008327403355851422), (3583, 0.0), (3584, 0.0), (3585, 0.0), (3586, 0.009304463642026903), (3587, 0.0), (3588, 0.0), (3589, 0.0), (3590, 0.003927224307618485), (3591, 0.0), (3592, 0.0), (3593, 0.0), (3594, 0.006419880299259305), (3595, 0.0), (3596, 0.006339001650563028), (3597, 0.015218240285454689), (3598, 0.00572405877260065), (3599, 0.006638188885097362), (3600, 0.0), (3601, 0.003948264461134151), (3602, 0.0), (3603, 0.0), (3604, 0.0), (3605, 0.022197764234812345), (3606, 0.0), (3607, 0.0), (3608, 0.0), (3609, 0.0), (3610, 0.0), (3611, 0.0), (3612, 0.012927146148206569), (3613, 0.004507580142132465), (3614, 0.003353683830602288), (3615, 0.0), (3616, 0.004607521430624024), (3617, 0.0), (3618, 0.0039010653731378193), (3619, 0.0), (3620, 0.004402058913613947), (3621, 0.0), (3622, 0.0), (3623, 0.0037507307524331512), (3624, 0.003775483843517041), (3625, 0.0), (3626, 0.0028340199565726437), (3627, 0.0), (3628, 0.0), (3629, 0.01812316016242055), (3630, 0.013666312176693528), (3631, 0.0), (3632, 0.006541012651922088), (3633, 0.0), (3634, 0.008793323570483364), (3635, 0.004997684914236607), (3636, 0.0), (3637, 0.010913398354093232), (3638, 0.0046128040182088), (3639, 0.004209067733916368), (3640, 0.004059695614472004), (3641, 0.0035637787977870427), (3642, 0.009256736803626306), (3643, 0.01029549733921344), (3644, 0.0), (3645, 0.009914622779181159), (3646, 0.003467439885334171), (3647, 0.0), (3648, 0.00659207179600241), (3649, 0.0), (3650, 0.0), (3651, 0.004253400410267977), (3652, 0.033364888967107376), (3653, 0.0037025660071545), (3654, 0.003861647640450332), (3655, 0.05386438316921779), (3656, 0.02976688335788552), (3657, 0.0031077715135496915), (3658, 0.0), (3659, 0.009384413749110516), (3660, 0.003545435485162634), (3661, 0.007331268025626246), (3662, 0.0), (3663, 0.0), (3664, 0.0), (3665, 0.017973966362947288), (3666, 0.0038228431914769235), (3667, 0.010563525140501713), (3668, 0.0), (3669, 0.0031199181511356363), (3670, 0.0086583670426626), (3671, 0.0), (3672, 0.0), (3673, 0.0036294865891957884), (3674, 0.0), (3675, 0.014807167319789812), (3676, 0.0), (3677, 0.0), (3678, 0.0), (3679, 0.0), (3680, 0.004167349774832021), (3681, 0.0), (3682, 0.0), (3683, 0.0), (3684, 0.015606980654372037), (3685, 0.0), (3686, 0.0), (3687, 0.0), (3688, 0.025377983131984794), (3689, 0.010550641537768982), (3690, 0.0), (3691, 0.0), (3692, 0.019977443251865026), (3693, 0.0), (3694, 0.013243126763574245), (3695, 0.0), (3696, 0.003551227349593928), (3697, 0.0), (3698, 0.0), (3699, 0.008790700713991592), (3700, 0.0), (3701, 0.02476279944241834), (3702, 0.0), (3703, 0.0), (3704, 0.003940515873522192), (3705, 0.003380474580210621), (3706, 0.003528155373312455), (3707, 0.003693807772348537), (3708, 0.010075856168197204), (3709, 0.0), (3710, 0.0), (3711, 0.021824749783292373), (3712, 0.0), (3713, 0.005312312465940245), (3714, 0.0), (3715, 0.0), (3716, 0.0), (3717, 0.0), (3718, 0.0), (3719, 0.0), (3720, 0.025047680221070297), (3721, 0.0), (3722, 0.0), (3723, 0.0), (3724, 0.0), (3725, 0.0), (3726, 0.0), (3727, 0.0036709313315729276), (3728, 0.05565192289953555), (3729, 0.0), (3730, 0.0), (3731, 0.034760238513255694), (3732, 0.0), (3733, 0.0061100542649278585), (3734, 0.0034606655557644066), (3735, 0.0), (3736, 0.0), (3737, 0.0), (3738, 0.0), (3739, 0.0037278663693348785), (3740, 0.0), (3741, 0.00998719289482713), (3742, 0.003384042650903412), (3743, 0.0), (3744, 0.0), (3745, 0.004293376067101466), (3746, 0.023967309833071552), (3747, 0.006687530679339797), (3748, 0.005596360933546709), (3749, 0.004002545853209263), (3750, 0.012391219804746084), (3751, 0.024477064776036325), (3752, 0.005735864477240065), (3753, 0.04350602013419862), (3754, 0.004307792614069613), (3755, 0.003270127379535433), (3756, 0.010587175997853155), (3757, 0.0), (3758, 0.0), (3759, 0.0), (3760, 0.0), (3761, 0.0), (3762, 0.004843347172843781), (3763, 0.0047388263725502274), (3764, 0.0), (3765, 0.0035640971639726506), (3766, 0.01480299750352315), (3767, 0.02886796086717163), (3768, 0.0), (3769, 0.0), (3770, 0.0), (3771, 0.0039440336330330865), (3772, 0.0041641792680903265), (3773, 0.022818835331104317), (3774, 0.0), (3775, 0.0), (3776, 0.0), (3777, 0.012990197359582617), (3778, 0.022502575648491594), (3779, 0.09554335634042412), (3780, 0.0039027209434261316), (3781, 0.0), (3782, 0.0), (3783, 0.0), (3784, 0.009721112698639177), (3785, 0.0), (3786, 0.0), (3787, 0.0), (3788, 0.0), (3789, 0.0), (3790, 0.0), (3791, 0.0), (3792, 0.0), (3793, 0.03859182470952756), (3794, 0.008225825316165886), (3795, 0.0), (3796, 0.0), (3797, 0.01125350347744478), (3798, 0.0), (3799, 0.0035204160442713676), (3800, 0.0), (3801, 0.022479960397276646), (3802, 0.0), (3803, 0.0), (3804, 0.00413070692336949), (3805, 0.0), (3806, 0.0), (3807, 0.003620957475220253), (3808, 0.0), (3809, 0.0037639096524753704), (3810, 0.01856873357345253), (3811, 0.003428687987246901), (3812, 0.0), (3813, 0.004049632061737497), (3814, 0.024056840276166266), (3815, 0.0), (3816, 0.0), (3817, 0.0), (3818, 0.0), (3819, 0.003493894354816904), (3820, 0.0), (3821, 0.005383663869564292), (3822, 0.011152633175868995), (3823, 0.0), (3824, 0.0), (3825, 0.005856644904299076), (3826, 0.009727031954148209), (3827, 0.0036394749781768505), (3828, 0.015623092911925537), (3829, 0.009576298835098373), (3830, 0.0), (3831, 0.0), (3832, 0.004523193156088096), (3833, 0.0), (3834, 0.0), (3835, 0.024554007235998473), (3836, 0.0), (3837, 0.0), (3838, 0.0), (3839, 0.022926958212520797), (3840, 0.0), (3841, 0.0), (3842, 0.007943366237811453), (3843, 0.0), (3844, 0.0), (3845, 0.0038322116092991067), (3846, 0.0), (3847, 0.0), (3848, 0.0), (3849, 0.0), (3850, 0.024621683214729514), (3851, 0.0), (3852, 0.02283352083352747), (3853, 0.014157581104790758), (3854, 0.058731912823521706), (3855, 0.0031118890340959674), (3856, 0.0), (3857, 0.01658166554655037), (3858, 0.0), (3859, 0.0), (3860, 0.007881675810111496), (3861, 0.013749046393798744), (3862, 0.012842836791472176), (3863, 0.0), (3864, 0.006063841076473241), (3865, 0.00574185360013139), (3866, 0.004199532338584982), (3867, 0.04004053174238181), (3868, 0.02421649008671948), (3869, 0.0), (3870, 0.0), (3871, 0.026765420112179528), (3872, 0.023583693887046963), (3873, 0.003963366731993787), (3874, 0.0), (3875, 0.018708057259636698), (3876, 0.003661807094390694), (3877, 0.0), (3878, 0.0), (3879, 0.0), (3880, 0.03037409238449474), (3881, 0.0), (3882, 0.003827477335145767), (3883, 0.014164653474463981), (3884, 0.004315217984852977), (3885, 0.0), (3886, 0.0), (3887, 0.0), (3888, 0.0036690533566835484), (3889, 0.0), (3890, 0.003598879268601651), (3891, 0.022290515791770552), (3892, 0.004816476074492086), (3893, 0.003985440495730945), (3894, 0.0), (3895, 0.016503200531716826), (3896, 0.0), (3897, 0.0), (3898, 0.0034835254679159945), (3899, 0.0), (3900, 0.003518796441056428), (3901, 0.00430270962286883), (3902, 0.003926242209034963), (3903, 0.011525992476121533), (3904, 0.02648763242385696), (3905, 0.0), (3906, 0.0), (3907, 0.0), (3908, 0.0), (3909, 0.0060413438398302785), (3910, 0.003203784498247342), (3911, 0.0), (3912, 0.0), (3913, 0.023050436957434903), (3914, 0.0), (3915, 0.003973479274801563), (3916, 0.02074544469331224), (3917, 0.0035436773933958782), (3918, 0.0), (3919, 0.01054069632143464), (3920, 0.0038833979742104677), (3921, 0.0), (3922, 0.00458578208541319), (3923, 0.019640567103084164), (3924, 0.013534695304212233), (3925, 0.005307802056173287), (3926, 0.006406621044591542), (3927, 0.02093851727621532), (3928, 0.003114756062458944), (3929, 0.0), (3930, 0.0), (3931, 0.0), (3932, 0.006771955360079668), (3933, 0.0), (3934, 0.019088788607542245), (3935, 0.0), (3936, 0.0), (3937, 0.0), (3938, 0.0), (3939, 0.004950017781653031), (3940, 0.0052847346652364425), (3941, 0.008131019486901267), (3942, 0.0), (3943, 0.0), (3944, 0.0), (3945, 0.010773859461479476), (3946, 0.051906527379777814), (3947, 0.03429017642221865), (3948, 0.0), (3949, 0.012012299789467069), (3950, 0.0), (3951, 0.007305595057183545), (3952, 0.004241994005259278), (3953, 0.003302407358881815), (3954, 0.009497192450044588), (3955, 0.0387287513515503), (3956, 0.0032816197553031056), (3957, 0.005237537911277353), (3958, 0.012905405054388723), (3959, 0.021721343211585725), (3960, 0.004205720331718278), (3961, 0.025827407672560726), (3962, 0.004070520672831138), (3963, 0.023965481444082268), (3964, 0.0), (3965, 0.0), (3966, 0.0), (3967, 0.0), (3968, 0.0), (3969, 0.0), (3970, 0.0), (3971, 0.0), (3972, 0.0), (3973, 0.045822144603513935), (3974, 0.04178698212685724), (3975, 0.0), (3976, 0.016073305971635393), (3977, 0.0), (3978, 0.016286347538155603), (3979, 0.0), (3980, 0.0), (3981, 0.0), (3982, 0.0), (3983, 0.03386898832431618), (3984, 0.013108425357370687), (3985, 0.0), (3986, 0.0), (3987, 0.0), (3988, 0.0), (3989, 0.0), (3990, 0.005116840404687826), (3991, 0.0), (3992, 0.013701402989502634), (3993, 0.008022297170991946), (3994, 0.0), (3995, 0.0), (3996, 0.0), (3997, 0.0), (3998, 0.0061413581146696474), (3999, 0.010633150538620295), (4000, 0.008562687968128417), (4001, 0.006338022971523763), (4002, 0.0), (4003, 0.0), (4004, 0.023889854705487188), (4005, 0.03146600115368347), (4006, 0.0), (4007, 0.021621878765443633), (4008, 0.00668069066635237), (4009, 0.005890899518855098), (4010, 0.0), (4011, 0.003434713090737377), (4012, 0.016994336877305075), (4013, 0.0), (4014, 0.003753425029122346), (4015, 0.0), (4016, 0.02202415478229253), (4017, 0.0), (4018, 0.0), (4019, 0.0), (4020, 0.003608187853753541), (4021, 0.0), (4022, 0.0), (4023, 0.04225700731570929), (4024, 0.003992094267467931), (4025, 0.010279669676370225), (4026, 0.0), (4027, 0.0), (4028, 0.01837248596607622), (4029, 0.0), (4030, 0.004352404505712789), (4031, 0.0), (4032, 0.011901989416592356), (4033, 0.0038523032693990357), (4034, 0.0), (4035, 0.029458352058627405), (4036, 0.003593887071659987), (4037, 0.0), (4038, 0.003917498083012722), (4039, 0.0), (4040, 0.0), (4041, 0.0), (4042, 0.0), (4043, 0.0), (4044, 0.0), (4045, 0.0), (4046, 0.003998395391698513), (4047, 0.0), (4048, 0.013651937711524044), (4049, 0.0), (4050, 0.01645343996456236), (4051, 0.00407258569719447), (4052, 0.006652977771089452), (4053, 0.016815675944668648), (4054, 0.0038674891459586323), (4055, 0.005726524863100577), (4056, 0.003642237916262437), (4057, 0.0057079834521630065), (4058, 0.0), (4059, 0.0), (4060, 0.008559590999405533), (4061, 0.007102050459189812), (4062, 0.05893107534189555), (4063, 0.0), (4064, 0.03539579092045112), (4065, 0.0), (4066, 0.003240754061899357), (4067, 0.0), (4068, 0.012544667314098324), (4069, 0.003539785638555584), (4070, 0.0), (4071, 0.0), (4072, 0.0), (4073, 0.0), (4074, 0.003325558807990533), (4075, 0.0), (4076, 0.0), (4077, 0.00699907514875651), (4078, 0.0), (4079, 0.0038307830696860056), (4080, 0.0), (4081, 0.014903369760760208), (4082, 0.005214953699892721), (4083, 0.0), (4084, 0.0), (4085, 0.003495269963393967), (4086, 0.0), (4087, 0.004044124457209338), (4088, 0.01763604829222323), (4089, 0.0), (4090, 0.0), (4091, 0.0), (4092, 0.004194302248529302), (4093, 0.0), (4094, 0.0), (4095, 0.010406328722003873), (4096, 0.028742982025775087), (4097, 0.0), (4098, 0.0037467094397576764), (4099, 0.006330683237190724), (4100, 0.0), (4101, 0.003993996658225098), (4102, 0.0), (4103, 0.0), (4104, 0.041209562251062544), (4105, 0.0), (4106, 0.005779106507689895), (4107, 0.0045898806116563716), (4108, 0.0), (4109, 0.0), (4110, 0.005760293261838848), (4111, 0.0039005765838463456), (4112, 0.0), (4113, 0.004082610044841321), (4114, 0.0), (4115, 0.0), (4116, 0.05913944878196829), (4117, 0.004260902014614124), (4118, 0.009245164313317063), (4119, 0.0), (4120, 0.0), (4121, 0.009755419425220437), (4122, 0.010875942719424358), (4123, 0.04050083692829459), (4124, 0.008492308762762064), (4125, 0.0), (4126, 0.0), (4127, 0.0), (4128, 0.021450907072215458), (4129, 0.0), (4130, 0.00398993351750204), (4131, 0.0), (4132, 0.0), (4133, 0.003999280203936027), (4134, 0.008929406816387885), (4135, 0.003728969841900501), (4136, 0.0), (4137, 0.05974915060677091), (4138, 0.0040485032739697455), (4139, 0.0), (4140, 0.0), (4141, 0.03006060431416674), (4142, 0.0), (4143, 0.003277011101018866), (4144, 0.0), (4145, 0.0), (4146, 0.0), (4147, 0.0), (4148, 0.0), (4149, 0.018364823011164332), (4150, 0.0), (4151, 0.006288116962690947), (4152, 0.03409644751696312), (4153, 0.0), (4154, 0.0033189370558778034), (4155, 0.0), (4156, 0.020093991496990808), (4157, 0.0), (4158, 0.005497560807764455), (4159, 0.0), (4160, 0.027869303836618974), (4161, 0.0), (4162, 0.0), (4163, 0.004262400633731417), (4164, 0.007910176797075357), (4165, 0.031858514806550095), (4166, 0.0), (4167, 0.0), (4168, 0.0), (4169, 0.003961250311085407), (4170, 0.0), (4171, 0.002600105982721428), (4172, 0.004914639217122296), (4173, 0.0), (4174, 0.0), (4175, 0.025428407213292696), (4176, 0.017132113466158314), (4177, 0.027783245670070553), (4178, 0.003834996571399209), (4179, 0.0), (4180, 0.0), (4181, 0.0), (4182, 0.007867746108495098), (4183, 0.0035582036947464832), (4184, 0.008653326224412483), (4185, 0.0), (4186, 0.0), (4187, 0.004145905423774452), (4188, 0.0), (4189, 0.019069554501437016), (4190, 0.0), (4191, 0.0), (4192, 0.01178025834950085), (4193, 0.0), (4194, 0.0), (4195, 0.031836877880177514), (4196, 0.006910490806828204), (4197, 0.0), (4198, 0.0), (4199, 0.0), (4200, 0.0), (4201, 0.0), (4202, 0.00514328779809163), (4203, 0.011522453335986567), (4204, 0.0), (4205, 0.009257980028569774), (4206, 0.0), (4207, 0.0), (4208, 0.0), (4209, 0.029764231684610818), (4210, 0.0065885147858469545), (4211, 0.0), (4212, 0.0), (4213, 0.0), (4214, 0.0), (4215, 0.0), (4216, 0.008375479402263988), (4217, 0.006191894933494595), (4218, 0.0), (4219, 0.0), (4220, 0.0), (4221, 0.0049682517801114805), (4222, 0.004949684691472477), (4223, 0.0), (4224, 0.0), (4225, 0.0039041881243492824), (4226, 0.0070419708100768605), (4227, 0.009658064148406607), (4228, 0.0), (4229, 0.0), (4230, 0.0047636572862773735), (4231, 0.013264217583854883), (4232, 0.007565398087789026), (4233, 0.009003944921446893), (4234, 0.0), (4235, 0.008072069415246732), (4236, 0.0059482233884306035), (4237, 0.0), (4238, 0.0), (4239, 0.0), (4240, 0.0), (4241, 0.0), (4242, 0.026072955466353874), (4243, 0.004214647528026664), (4244, 0.004192358780550709), (4245, 0.0), (4246, 0.016372608493611912), (4247, 0.003221028528768985), (4248, 0.0), (4249, 0.0037630734372605316), (4250, 0.0), (4251, 0.0), (4252, 0.030847433474678557), (4253, 0.0), (4254, 0.0), (4255, 0.01030583393747823), (4256, 0.0), (4257, 0.00947570669071671), (4258, 0.0), (4259, 0.004028827352459785), (4260, 0.0), (4261, 0.0064588799441744355), (4262, 0.0), (4263, 0.004066349693777989), (4264, 0.0), (4265, 0.0), (4266, 0.0037393115015907094), (4267, 0.0), (4268, 0.050355212580423636), (4269, 0.00392152791923444), (4270, 0.0), (4271, 0.0), (4272, 0.0286597856984184), (4273, 0.0), (4274, 0.0), (4275, 0.0), (4276, 0.0), (4277, 0.0), (4278, 0.0), (4279, 0.0), (4280, 0.0), (4281, 0.017230622390000016), (4282, 0.003384537996787223), (4283, 0.021747035592868814), (4284, 0.0036956849465640176), (4285, 0.0), (4286, 0.003858098097612717), (4287, 0.0037567003465023515), (4288, 0.016372265832322323), (4289, 0.0), (4290, 0.0), (4291, 0.0), (4292, 0.0), (4293, 0.013874432891629318), (4294, 0.024830722002436616), (4295, 0.004278828617330931), (4296, 0.0), (4297, 0.0), (4298, 0.0), (4299, 0.0), (4300, 0.0), (4301, 0.0), (4302, 0.0), (4303, 0.006159761701221869), (4304, 0.0), (4305, 0.0), (4306, 0.0), (4307, 0.0), (4308, 0.0), (4309, 0.0035734053780456464), (4310, 0.0), (4311, 0.0029826024423369644), (4312, 0.0), (4313, 0.0), (4314, 0.014326483690226073), (4315, 0.0), (4316, 0.0), (4317, 0.0), (4318, 0.0), (4319, 0.0), (4320, 0.0), (4321, 0.01771674704073115), (4322, 0.0), (4323, 0.0), (4324, 0.0), (4325, 0.008117349073131165), (4326, 0.0), (4327, 0.0), (4328, 0.0), (4329, 0.0), (4330, 0.0036653743147766916), (4331, 0.0), (4332, 0.0), (4333, 0.004143258450406185), (4334, 0.00378300971920546), (4335, 0.009726197908407118), (4336, 0.010047520789816236), (4337, 0.0070607315451602865), (4338, 0.0), (4339, 0.0), (4340, 0.0), (4341, 0.0), (4342, 0.005817023910938572), (4343, 0.0), (4344, 0.008571446039720059), (4345, 0.0034055771898598907), (4346, 0.0), (4347, 0.0), (4348, 0.0), (4349, 0.014722875799342972), (4350, 0.0033238047244476274), (4351, 0.006714452735410005), (4352, 0.0), (4353, 0.0), (4354, 0.021739447988622557), (4355, 0.0), (4356, 0.0034257527944049366), (4357, 0.003916475491520285), (4358, 0.0), (4359, 0.0), (4360, 0.0), (4361, 0.0), (4362, 0.0035650967009020567), (4363, 0.0), (4364, 0.0), (4365, 0.0), (4366, 0.007812898365734212), (4367, 0.006248756559547104), (4368, 0.004098541481105528), (4369, 0.004177336170708055), (4370, 0.0), (4371, 0.010638151921629101), (4372, 0.0), (4373, 0.00485358495213735), (4374, 0.011719818190920231), (4375, 0.08774643734618329), (4376, 0.0), (4377, 0.0), (4378, 0.0332981667495658), (4379, 0.01267773352586597), (4380, 0.01740068336476453), (4381, 0.0), (4382, 0.020989810569042856), (4383, 0.0), (4384, 0.0), (4385, 0.005520645179856042), (4386, 0.0), (4387, 0.012035729919519282), (4388, 0.006599631649227119), (4389, 0.05262368088636526), (4390, 0.0), (4391, 0.0), (4392, 0.0), (4393, 0.0), (4394, 0.003677758487331638), (4395, 0.0174160217860099), (4396, 0.03712922727294918), (4397, 0.0), (4398, 0.053848063194430515), (4399, 0.014125631767963297), (4400, 0.0), (4401, 0.004025615205262014), (4402, 0.024964788657780564), (4403, 0.0339587932025869), (4404, 0.0), (4405, 0.0), (4406, 0.0), (4407, 0.004857918307711889), (4408, 0.0), (4409, 0.0), (4410, 0.0), (4411, 0.0031311285100501093), (4412, 0.004289910062252805), (4413, 0.0), (4414, 0.0), (4415, 0.0), (4416, 0.0), (4417, 0.0), (4418, 0.0), (4419, 0.003808429806086257), (4420, 0.0038240655398806677), (4421, 0.0), (4422, 0.003809469003066415), (4423, 0.004820669217966345), (4424, 0.0), (4425, 0.0), (4426, 0.0), (4427, 0.0), (4428, 0.0), (4429, 0.003192849605754455), (4430, 0.0038291057591764532), (4431, 0.0), (4432, 0.003236950228033327), (4433, 0.0), (4434, 0.0), (4435, 0.008612555040742178), (4436, 0.01622170462338756), (4437, 0.0), (4438, 0.0), (4439, 0.0), (4440, 0.019458777144318186), (4441, 0.0), (4442, 0.008303753311482042), (4443, 0.030813460010709393), (4444, 0.004847280948683364), (4445, 0.0), (4446, 0.004026585322333314), (4447, 0.0), (4448, 0.0039056482296275915), (4449, 0.0), (4450, 0.02432268854161776), (4451, 0.0), (4452, 0.03645038161738959), (4453, 0.0), (4454, 0.0), (4455, 0.0), (4456, 0.04382236149700844), (4457, 0.0), (4458, 0.004413129018118831), (4459, 0.0060919414101112375), (4460, 0.0), (4461, 0.0), (4462, 0.0), (4463, 0.0), (4464, 0.0), (4465, 0.019738314152991904), (4466, 0.015461873136206998), (4467, 0.006575584188121083), (4468, 0.0), (4469, 0.015570844472594672), (4470, 0.0037675108942384888), (4471, 0.0), (4472, 0.003510508736233188), (4473, 0.0031822998784876715), (4474, 0.009088456480349909), (4475, 0.011222241584942134), (4476, 0.0), (4477, 0.004253399832471792), (4478, 0.0), (4479, 0.0033687155667603587), (4480, 0.0), (4481, 0.008268709183974132), (4482, 0.014720792174534654), (4483, 0.0), (4484, 0.004819748840478361), (4485, 0.0), (4486, 0.006603002538337433), (4487, 0.003594183843722023), (4488, 0.03488173433755465), (4489, 0.0038545434939528445), (4490, 0.004377251260623723), (4491, 0.0), (4492, 0.019224575720818055), (4493, 0.0), (4494, 0.004127442064191275), (4495, 0.0), (4496, 0.0), (4497, 0.0), (4498, 0.0), (4499, 0.0), (4500, 0.0), (4501, 0.0037301111470796422), (4502, 0.01134191556269713), (4503, 0.047003146059589614), (4504, 0.01449159827163441), (4505, 0.0), (4506, 0.0), (4507, 0.004198396461352517), (4508, 0.0), (4509, 0.0), (4510, 0.00905114373472355), (4511, 0.010243730819681177), (4512, 0.009788113407728258), (4513, 0.0), (4514, 0.0), (4515, 0.0), (4516, 0.004164532951915019), (4517, 0.0036820769521017202), (4518, 0.0), (4519, 0.0), (4520, 0.00367793483989571), (4521, 0.004509719003079502), (4522, 0.004038050100076043), (4523, 0.00345977535227739), (4524, 0.0075956411176260254), (4525, 0.0), (4526, 0.0), (4527, 0.0), (4528, 0.003952753925270374), (4529, 0.0), (4530, 0.0035960663509219484), (4531, 0.009570058228819083), (4532, 0.0), (4533, 0.027302284837114443), (4534, 0.017623350887623616), (4535, 0.004050975230844235), (4536, 0.003469014527538484), (4537, 0.0), (4538, 0.02771901996678994), (4539, 0.0), (4540, 0.003996166340547568), (4541, 0.0), (4542, 0.0), (4543, 0.0), (4544, 0.0), (4545, 0.0), (4546, 0.004601742676445921), (4547, 0.0), (4548, 0.02221146883388752), (4549, 0.0), (4550, 0.0), (4551, 0.013481685080184533), (4552, 0.0), (4553, 0.007568206463182552), (4554, 0.022184768246317647), (4555, 0.005480358934714086), (4556, 0.0), (4557, 0.009118251443964259), (4558, 0.0), (4559, 0.0), (4560, 0.0), (4561, 0.0), (4562, 0.0), (4563, 0.0037870181183668355), (4564, 0.006115593765302283), (4565, 0.0), (4566, 0.0038562697914044037), (4567, 0.0), (4568, 0.0), (4569, 0.0), (4570, 0.0), (4571, 0.005895188626911534), (4572, 0.0045632830313399346), (4573, 0.003532677754953113), (4574, 0.0), (4575, 0.003851551453080613), (4576, 0.006144864379613143), (4577, 0.0), (4578, 0.0), (4579, 0.0), (4580, 0.0), (4581, 0.008733798859558588), (4582, 0.0), (4583, 0.015121285800431414), (4584, 0.0), (4585, 0.0), (4586, 0.0), (4587, 0.0), (4588, 0.03885165246031975), (4589, 0.004342678399852535), (4590, 0.026403309463580178), (4591, 0.0034400052870232414), (4592, 0.0), (4593, 0.004108106770630535), (4594, 0.062171060506180154), (4595, 0.0), (4596, 0.011270490124242976), (4597, 0.0), (4598, 0.0), (4599, 0.0), (4600, 0.0), (4601, 0.004011770156235583), (4602, 0.02828652172220984), (4603, 0.009693683996058954), (4604, 0.0), (4605, 0.007065128924862883), (4606, 0.0), (4607, 0.005376525319488935), (4608, 0.019303705181509492), (4609, 0.0), (4610, 0.015725362567803897), (4611, 0.0), (4612, 0.0), (4613, 0.0), (4614, 0.055509654443294684), (4615, 0.0), (4616, 0.0), (4617, 0.01703576763545995), (4618, 0.0), (4619, 0.013751112129049337), (4620, 0.0), (4621, 0.0), (4622, 0.0), (4623, 0.008662509555353679), (4624, 0.003800577970369672), (4625, 0.0038052501052476865), (4626, 0.0030442075063063624), (4627, 0.012871221718849522), (4628, 0.0), (4629, 0.00379021125884715), (4630, 0.0), (4631, 0.0), (4632, 0.00436297795788508), (4633, 0.0), (4634, 0.0), (4635, 0.0), (4636, 0.0031007121549739346), (4637, 0.014704540421742367), (4638, 0.0033648824118629184), (4639, 0.0), (4640, 0.01868719758226113), (4641, 0.031109982279977993), (4642, 0.0), (4643, 0.0038032503049739773), (4644, 0.0), (4645, 0.02784148366128425), (4646, 0.0), (4647, 0.0), (4648, 0.0), (4649, 0.005839677170720716), (4650, 0.004200763421266327), (4651, 0.0), (4652, 0.004890856345937183), (4653, 0.0), (4654, 0.0), (4655, 0.0), (4656, 0.009441060344511466), (4657, 0.0039146405648516494), (4658, 0.017936722165600796), (4659, 0.023247410352878337), (4660, 0.004549879105312094), (4661, 0.0), (4662, 0.0), (4663, 0.024635792374836766), (4664, 0.0), (4665, 0.0), (4666, 0.0), (4667, 0.0), (4668, 0.029140345996421752), (4669, 0.013325804817555381), (4670, 0.0034972694247828984), (4671, 0.0), (4672, 0.0), (4673, 0.011821655353610249), (4674, 0.002960875438341696), (4675, 0.0), (4676, 0.0), (4677, 0.0), (4678, 0.0), (4679, 0.015229406530368816), (4680, 0.0), (4681, 0.0), (4682, 0.04617520902429073), (4683, 0.0), (4684, 0.024045216555355214), (4685, 0.006294236066482436), (4686, 0.0), (4687, 0.0), (4688, 0.0), (4689, 0.0), (4690, 0.0), (4691, 0.0), (4692, 0.0), (4693, 0.0036131636741865455), (4694, 0.0), (4695, 0.0067304344226348945), (4696, 0.0), (4697, 0.0), (4698, 0.0), (4699, 0.004168101886151584), (4700, 0.0), (4701, 0.022240112406230115), (4702, 0.0), (4703, 0.027867457456938288), (4704, 0.00502968027346581), (4705, 0.0), (4706, 0.004112811828488888), (4707, 0.009814934432491462), (4708, 0.0), (4709, 0.011844534493530453), (4710, 0.004711893811850236), (4711, 0.0), (4712, 0.0033044678653144834), (4713, 0.00422549367627356), (4714, 0.0), (4715, 0.0), (4716, 0.0), (4717, 0.004374844733601695), (4718, 0.0040551803154743075), (4719, 0.007083466617191468), (4720, 0.0), (4721, 0.029183202581876073), (4722, 0.013400036943554905), (4723, 0.00448877704622986), (4724, 0.04424028971712735), (4725, 0.0), (4726, 0.005244598676388418), (4727, 0.032179896139042305), (4728, 0.0), (4729, 0.0), (4730, 0.0), (4731, 0.021254194597304894), (4732, 0.0), (4733, 0.0030841907598617487), (4734, 0.003952895494761252), (4735, 0.014684562203209182), (4736, 0.0), (4737, 0.0), (4738, 0.006366488359882989), (4739, 0.038041438258658924), (4740, 0.0), (4741, 0.0), (4742, 0.0), (4743, 0.0), (4744, 0.0), (4745, 0.0), (4746, 0.0), (4747, 0.010043450426545787), (4748, 0.005545901811065711), (4749, 0.0), (4750, 0.0), (4751, 0.0), (4752, 0.002644577101730223), (4753, 0.004240360818493656), (4754, 0.0), (4755, 0.0), (4756, 0.00384992081787873), (4757, 0.0), (4758, 0.0), (4759, 0.0)]\n"
          ]
        }
      ]
    },
    {
      "cell_type": "code",
      "source": [
        "len(Recommendation_Score)"
      ],
      "metadata": {
        "colab": {
          "base_uri": "https://localhost:8080/"
        },
        "id": "PQMOzclzX3pc",
        "outputId": "31a14aea-749c-46ab-9367-5308745d215c"
      },
      "execution_count": 30,
      "outputs": [
        {
          "output_type": "execute_result",
          "data": {
            "text/plain": [
              "4760"
            ]
          },
          "metadata": {},
          "execution_count": 30
        }
      ]
    },
    {
      "cell_type": "markdown",
      "source": [
        "All Movies Sorted Based On Recommendation Score WRT Favourite Movie"
      ],
      "metadata": {
        "id": "6VnTWRsTYkJN"
      }
    },
    {
      "cell_type": "code",
      "source": [
        "Sorted_Similar_Movies=sorted(Recommendation_Score,key=lambda x:x[1],reverse=True)\n",
        "print(Sorted_Similar_Movies)"
      ],
      "metadata": {
        "colab": {
          "base_uri": "https://localhost:8080/"
        },
        "id": "J32Qtsb_YxX_",
        "outputId": "1b285497-5799-4670-8aae-5bf85ae2f2e3"
      },
      "execution_count": 31,
      "outputs": [
        {
          "output_type": "stream",
          "name": "stdout",
          "text": [
            "[(2692, 1.0000000000000002), (3276, 0.11813585538190226), (62, 0.10006461828941926), (3779, 0.09554335634042412), (1647, 0.09061982642239043), (4375, 0.08774643734618329), (1994, 0.08133561344529718), (110, 0.0810930661911388), (628, 0.08088922058042754), (1383, 0.0803110667967067), (2558, 0.08008982543127076), (1341, 0.075956233145764), (1977, 0.07499050329027504), (3053, 0.07221066248406899), (2538, 0.06733163098154733), (3248, 0.06701972378688446), (3480, 0.06455840004192609), (1886, 0.06436584358096338), (4594, 0.062171060506180154), (2903, 0.061979438491143804), (1118, 0.06131998915365449), (3450, 0.06052988033346736), (254, 0.06047800143658627), (4137, 0.05974915060677091), (3463, 0.059575706379779596), (4116, 0.05913944878196829), (4062, 0.05893107534189555), (3854, 0.058731912823521706), (2112, 0.058068120485541844), (2026, 0.05707092443744769), (1021, 0.05628407868452054), (3462, 0.056204684356546436), (1134, 0.05603579371829921), (3728, 0.05565192289953555), (4614, 0.055509654443294684), (2318, 0.054695863729532126), (2358, 0.05426874500538235), (2985, 0.05387638857712972), (3655, 0.05386438316921779), (4398, 0.053848063194430515), (4389, 0.05262368088636526), (3946, 0.051906527379777814), (3385, 0.05187208872237839), (282, 0.05180213968952128), (424, 0.051173405745776473), (873, 0.05112519947683683), (1243, 0.051118047968376795), (3334, 0.05089939442887443), (4268, 0.050355212580423636), (1102, 0.04997889390722277), (2214, 0.049764206526109564), (227, 0.04887094493898308), (1023, 0.048597838436712434), (2550, 0.0485226132551342), (137, 0.04846400061279216), (45, 0.04842008327246715), (1878, 0.04835625015510226), (384, 0.04821183864798683), (3203, 0.04820395002316504), (1970, 0.04815695457486968), (2294, 0.04776126563683035), (1821, 0.04769599091724044), (213, 0.04769477765023474), (2579, 0.04757117116866227), (292, 0.04708609561803707), (3395, 0.04702044108923306), (4503, 0.047003146059589614), (2653, 0.04668003992753581), (761, 0.04651978519335046), (3294, 0.046409421312229304), (1030, 0.04630760693893257), (877, 0.04623080968589629), (2191, 0.046198083742584564), (4682, 0.04617520902429073), (3518, 0.046057042815806526), (3973, 0.045822144603513935), (2133, 0.04561640720827849), (2944, 0.04531276763483155), (408, 0.04502261083366314), (519, 0.0449425763259807), (1261, 0.04471470485871374), (3091, 0.04459041768100859), (2417, 0.044524333354310726), (328, 0.04448884280369812), (3374, 0.044484856668354146), (455, 0.044402516658324245), (2530, 0.044348933591459694), (1809, 0.04430562884391362), (4724, 0.04424028971712735), (3010, 0.044207254485861394), (2694, 0.043926040308393956), (2893, 0.043829195646386904), (4456, 0.04382236149700844), (1070, 0.0437072018475998), (3552, 0.04364301407501576), (161, 0.04354357991698189), (3753, 0.04350602013419862), (3023, 0.0434330075038611), (3408, 0.04334104127847878), (2745, 0.043340670835823714), (2630, 0.043172728532688026), (2374, 0.04287072118358956), (479, 0.04271112674605481), (4023, 0.04225700731570929), (412, 0.0419519621383221), (615, 0.041929652266163325), (3974, 0.04178698212685724), (67, 0.0417846312922931), (3249, 0.0417107629270697), (172, 0.041548265211259476), (1320, 0.04143776315513738), (1506, 0.04142133273002388), (1248, 0.041333888186276306), (3559, 0.04131360541955095), (4104, 0.041209562251062544), (2859, 0.04107161741080414), (2151, 0.04103484576324423), (1871, 0.041012587547335555), (904, 0.04095521644172931), (2375, 0.0407664625100967), (3427, 0.04068680746138194), (4123, 0.04050083692829459), (1850, 0.04028131304339497), (1358, 0.04020594154146641), (1203, 0.04006858970043683), (3867, 0.04004053174238181), (1257, 0.03977303894442838), (3209, 0.03968373404095094), (637, 0.03950955613652234), (2869, 0.03913091202058347), (830, 0.039082779091637036), (1292, 0.03901534911068498), (682, 0.03892888671825015), (4588, 0.03885165246031975), (3955, 0.0387287513515503), (3793, 0.03859182470952756), (1302, 0.038463790089139194), (438, 0.03840524748426552), (185, 0.03833000792092079), (2248, 0.038180678441020945), (4739, 0.038041438258658924), (1652, 0.038019714202056985), (2321, 0.037985529854445144), (3409, 0.03793769295004338), (387, 0.037899140038243635), (2212, 0.03781931260681729), (2122, 0.03778327759166608), (2295, 0.03755003718427321), (2971, 0.03740204098796954), (1527, 0.03735962597989158), (108, 0.03735368825679987), (1311, 0.037336851024840315), (3511, 0.037166583440775475), (4396, 0.03712922727294918), (3373, 0.036835124183941456), (774, 0.03661059657075547), (710, 0.03647603083092776), (2316, 0.03645833639057318), (4452, 0.03645038161738959), (1675, 0.03630769504805707), (1085, 0.03620596695319877), (210, 0.036178064666306006), (1241, 0.03602265890472081), (1676, 0.035963799283367646), (89, 0.03584601571666118), (2012, 0.0358246375266432), (2716, 0.035806618126864045), (44, 0.03574766087082105), (4064, 0.03539579092045112), (818, 0.03526463649489129), (2018, 0.03496884799876962), (1369, 0.03494255317646646), (3351, 0.03491408658870568), (4488, 0.03488173433755465), (3731, 0.034760238513255694), (2540, 0.03474183512878131), (1702, 0.03474040663218044), (1713, 0.03468383756783853), (3362, 0.034612718665371786), (2123, 0.034558267122414), (788, 0.03446864367437208), (2371, 0.03433778301802984), (874, 0.034295147360008243), (3947, 0.03429017642221865), (2908, 0.034241810457506974), (721, 0.034156246055567455), (3102, 0.034127129337966966), (4152, 0.03409644751696312), (3315, 0.03397149928243172), (4403, 0.0339587932025869), (3983, 0.03386898832431618), (547, 0.03382641577339508), (109, 0.03378365992636385), (578, 0.0335487336091181), (3486, 0.033494643538334576), (3652, 0.033364888967107376), (1389, 0.03332108800839501), (2014, 0.033302110262261736), (4378, 0.0332981667495658), (1024, 0.03327905159413793), (3004, 0.03326612259077194), (1379, 0.03323031401289379), (1393, 0.03316001753901232), (3255, 0.03311146697604359), (65, 0.0327782046765063), (2622, 0.03275949369216003), (1752, 0.032627183891907365), (166, 0.032203408357742366), (4727, 0.032179896139042305), (126, 0.03217800527828322), (3498, 0.032152698023678254), (2082, 0.03209431739263925), (4165, 0.031858514806550095), (4195, 0.031836877880177514), (462, 0.03179748765166699), (1982, 0.031742827665239726), (1770, 0.03165445263157539), (179, 0.03162834547963475), (1750, 0.03160292364741391), (2868, 0.03160224985415518), (1885, 0.031602001329651436), (1837, 0.03152208512939822), (694, 0.03147467539223093), (4005, 0.03146600115368347), (3572, 0.03117801912807579), (632, 0.031156631399009035), (4641, 0.031109982279977993), (2981, 0.03110803125683505), (3280, 0.031072857325999462), (2365, 0.031008744550214934), (2614, 0.030899522091682487), (4252, 0.030847433474678557), (1195, 0.03083039437556321), (4443, 0.030813460010709393), (174, 0.030810551335530033), (812, 0.030765727519967735), (2109, 0.030746345799770564), (1464, 0.03070335581255367), (2517, 0.030682838409770742), (935, 0.03061884745149171), (3328, 0.030533089819255045), (787, 0.030487510989961275), (2782, 0.03041464090825897), (3880, 0.03037409238449474), (3465, 0.030369435215262322), (673, 0.030264128815029046), (3146, 0.030247530420795796), (3430, 0.030233852476071583), (2100, 0.030186840593630426), (4141, 0.03006060431416674), (1236, 0.030027003941355247), (2706, 0.0299782790794697), (2887, 0.02995482680856157), (1367, 0.02993938977132677), (3556, 0.029924951846484693), (1648, 0.02976850886970754), (3656, 0.02976688335788552), (4209, 0.029764231684610818), (1272, 0.02963054260789802), (1868, 0.029628801046308575), (540, 0.029608111583300505), (2807, 0.02957668803021249), (193, 0.02949694779086573), (4035, 0.029458352058627405), (3330, 0.02938826509085443), (3326, 0.02929427327525351), (4721, 0.029183202581876073), (4668, 0.029140345996421752), (836, 0.029086369519933913), (618, 0.029086191600249136), (2114, 0.029052241962133876), (1568, 0.029008944763872304), (1795, 0.028918653365902075), (2102, 0.028918611709611523), (3767, 0.02886796086717163), (3127, 0.028867335099648096), (3420, 0.028808572707007568), (693, 0.028798266815154856), (3376, 0.028752579222892174), (1068, 0.028748335442002934), (2710, 0.028748082748347423), (4096, 0.028742982025775087), (3470, 0.028701691899851445), (2751, 0.028662585072599348), (4272, 0.0286597856984184), (1063, 0.028609987808731883), (430, 0.02860807730994485), (428, 0.028486734058018055), (465, 0.028477336557813378), (4602, 0.02828652172220984), (2876, 0.02822408583467361), (1398, 0.028155567308752488), (1482, 0.0280587270622998), (1046, 0.028041960215792427), (911, 0.02799325632618228), (2198, 0.027968844119269712), (1405, 0.027907937734155397), (4160, 0.027869303836618974), (4703, 0.027867457456938288), (3377, 0.02785897164844766), (4645, 0.02784148366128425), (823, 0.02783950655943511), (1634, 0.02779113286355215), (4177, 0.027783245670070553), (903, 0.02775822607947087), (4538, 0.02771901996678994), (3447, 0.027428271082922687), (852, 0.02741540715426462), (2343, 0.02740132260789418), (1499, 0.027383297175974083), (2802, 0.027320675094928675), (4533, 0.027302284837114443), (3157, 0.02728429489214132), (1560, 0.02727028859146781), (2037, 0.02726327336714797), (3028, 0.02712347872778545), (2443, 0.027013274388978773), (522, 0.026996678620519306), (421, 0.026968937990123384), (381, 0.026934807542128906), (1146, 0.02686979142811318), (2920, 0.026861192974114784), (3574, 0.02679099077973436), (2476, 0.026767071550423776), (3871, 0.026765420112179528), (1043, 0.026687822030441663), (1095, 0.02656338608119324), (2394, 0.026552864090634225), (3904, 0.02648763242385696), (2687, 0.026431178745916096), (4590, 0.026403309463580178), (2972, 0.026349373551211048), (530, 0.026328563572494492), (1763, 0.026291632470600648), (3313, 0.02625076805664812), (25, 0.02624686872156483), (2467, 0.0261734717335429), (4242, 0.026072955466353874), (1060, 0.025989308761947133), (629, 0.0259799019917321), (2777, 0.025923881635179107), (112, 0.025921184701918835), (1720, 0.025903378123374215), (3961, 0.025827407672560726), (2048, 0.025735432971789932), (2221, 0.025681551110969147), (2481, 0.02568092753531413), (2023, 0.0256750309714067), (3154, 0.025600541799548265), (766, 0.025537076545996115), (2761, 0.0255171339575826), (2762, 0.025494994321182952), (1544, 0.025492104665927863), (4175, 0.025428407213292696), (1205, 0.025414111608836682), (459, 0.025404561840888108), (3688, 0.025377983131984794), (2011, 0.025263282743385046), (657, 0.025202647953740977), (3017, 0.025179679707857103), (864, 0.025156078843596927), (269, 0.025140253887488702), (2560, 0.02512917211167375), (84, 0.02512457750473208), (3720, 0.025047680221070297), (2484, 0.025011212483702652), (3573, 0.025001303969096656), (4402, 0.024964788657780564), (1572, 0.02493934178009425), (824, 0.02488346782107121), (976, 0.024843697506282986), (4294, 0.024830722002436616), (2723, 0.024822031251795492), (3701, 0.02476279944241834), (4663, 0.024635792374836766), (3045, 0.024625871331094024), (3850, 0.024621683214729514), (1707, 0.024605391893079857), (2791, 0.024566007682670886), (3835, 0.024554007235998473), (515, 0.024540512533058945), (952, 0.024481213273291468), (3751, 0.024477064776036325), (176, 0.02446436311356095), (3428, 0.02438548370103725), (2487, 0.024353731585525184), (3174, 0.02434741970822272), (2413, 0.024326193814838647), (4450, 0.02432268854161776), (2276, 0.02425952068801341), (1500, 0.02424416596359605), (3868, 0.02421649008671948), (1585, 0.024158042857380792), (1283, 0.02414680615222883), (3814, 0.024056840276166266), (2408, 0.024050212919922074), (4684, 0.024045216555355214), (2020, 0.024026308421897714), (1186, 0.023969616775523457), (3746, 0.023967309833071552), (3963, 0.023965481444082268), (29, 0.023914941437791694), (4004, 0.023889854705487188), (1999, 0.02386495999486117), (3344, 0.02382510531313308), (1788, 0.023802362741738997), (371, 0.023736738105081544), (1990, 0.02368104088497907), (1845, 0.02367398898269194), (2649, 0.023648167198819226), (593, 0.023616446285302965), (2912, 0.02359086953917902), (3872, 0.023583693887046963), (1976, 0.023556005570924233), (613, 0.02341611694858578), (241, 0.023375888778055857), (167, 0.023316178474414088), (4659, 0.023247410352878337), (2950, 0.023243165554037486), (3167, 0.02323762343277938), (250, 0.023203459478631255), (1314, 0.023148164318718342), (15, 0.02313368596368873), (1059, 0.02307866863942507), (641, 0.023066966879022568), (3913, 0.023050436957434903), (3260, 0.023005262635634613), (670, 0.02297344221116162), (124, 0.022959537333025998), (2157, 0.022956193378451766), (155, 0.02294671915885633), (3839, 0.022926958212520797), (2713, 0.022913556019923793), (3852, 0.02283352083352747), (3773, 0.022818835331104317), (2055, 0.02273817677257145), (3285, 0.02267190792096241), (2699, 0.022643898867791175), (1057, 0.022583662788191326), (2718, 0.02255268521601277), (3778, 0.022502575648491594), (3801, 0.022479960397276646), (1935, 0.022444183159886458), (3466, 0.022386697827488297), (672, 0.02235883856123378), (3891, 0.022290515791770552), (4701, 0.022240112406230115), (4548, 0.02221146883388752), (3605, 0.022197764234812345), (4554, 0.022184768246317647), (942, 0.02218092598404447), (68, 0.02210690351537186), (3488, 0.022075430179638245), (1973, 0.02206064557379606), (832, 0.022037179360893784), (2013, 0.02203258951112728), (4016, 0.02202415478229253), (1351, 0.021930411443647768), (284, 0.021913690682421452), (334, 0.02185743888871102), (3711, 0.021824749783292373), (1430, 0.021789598478945606), (4283, 0.021747035592868814), (4354, 0.021739447988622557), (3492, 0.021723050629520742), (3959, 0.021721343211585725), (2449, 0.02162853885300746), (4007, 0.021621878765443633), (240, 0.021583208291031414), (2621, 0.021543060429140903), (1505, 0.021532164273618946), (4128, 0.021450907072215458), (398, 0.021425518805678844), (2638, 0.021350382200954657), (2995, 0.021329590836718572), (257, 0.02131627665894057), (1757, 0.0212889045694076), (4731, 0.021254194597304894), (566, 0.021245343738866666), (3345, 0.021237278019084094), (1515, 0.021210710358432618), (1492, 0.021103771056421604), (2822, 0.02110261912616997), (2210, 0.02108171413454934), (2173, 0.02099720249167), (4382, 0.020989810569042856), (3927, 0.02093851727621532), (3352, 0.02089535208841117), (706, 0.02088161802129896), (885, 0.02087947878806303), (2646, 0.020859532022317908), (175, 0.020808276321546915), (3068, 0.020801133511447793), (2301, 0.020791846198887035), (3156, 0.020788188740643546), (3916, 0.02074544469331224), (1721, 0.02067022783502681), (1671, 0.02061200196466065), (3254, 0.02060684998668874), (2040, 0.020534955136369083), (967, 0.020518253297307935), (3222, 0.020393862530319946), (1412, 0.020340260787269717), (3319, 0.020293694086011595), (116, 0.020276138176575986), (1861, 0.02025885873951764), (1132, 0.020211147695660334), (138, 0.02017972208406455), (763, 0.02014047228371334), (1052, 0.02013300734672521), (330, 0.02011793954169266), (2094, 0.02009841744376888), (1749, 0.020095083449159782), (4156, 0.020093991496990808), (590, 0.020045278534290566), (3083, 0.020025550687220207), (2362, 0.02001947662661849), (795, 0.020002266787744468), (3692, 0.019977443251865026), (1173, 0.01995333024825067), (691, 0.019940237305293356), (1181, 0.019905723975476783), (1530, 0.01989393054183363), (3469, 0.019865695095971032), (1141, 0.019864159547483544), (2469, 0.01983499714345921), (1865, 0.01975207569589755), (4465, 0.019738314152991904), (3483, 0.01967992462889568), (3923, 0.019640567103084164), (2582, 0.01956071217729912), (4440, 0.019458777144318186), (1657, 0.019356631699145473), (2767, 0.019341788182856305), (1629, 0.019315933233623135), (4608, 0.019303705181509492), (3111, 0.019277060109803856), (4492, 0.019224575720818055), (2867, 0.01915608393364184), (364, 0.019148154613258757), (33, 0.019140593410264396), (2689, 0.01912670404246469), (383, 0.019122179146056604), (3934, 0.019088788607542245), (917, 0.01908791567746917), (4189, 0.019069554501437016), (3153, 0.019062876448772074), (204, 0.019046685268144396), (1942, 0.019029797738823153), (2237, 0.019008060974547034), (1175, 0.01899830711465137), (1397, 0.018962532187377135), (2647, 0.018930765976071844), (1985, 0.01878645793445797), (123, 0.0187801711039925), (3875, 0.018708057259636698), (4640, 0.01868719758226113), (3553, 0.01867719964509626), (1385, 0.01866497206693417), (3446, 0.018636931896977477), (1847, 0.018602236181779128), (3810, 0.01856873357345253), (2035, 0.018565906358112984), (1471, 0.018541458320122994), (1365, 0.01843885958592305), (3403, 0.018434770830819194), (4028, 0.01837248596607622), (4149, 0.018364823011164332), (858, 0.018359912052344413), (3144, 0.018315006788806612), (1033, 0.0183116475258777), (61, 0.018309190952099832), (768, 0.018287135150359974), (796, 0.018280528196105955), (553, 0.01822608604369832), (2553, 0.018192420193897888), (643, 0.01814508951857653), (1386, 0.018143897453757583), (3629, 0.01812316016242055), (870, 0.018089390116699196), (2808, 0.018050966667797284), (1245, 0.018042873517593885), (442, 0.018017041600716932), (2841, 0.017996591330054296), (3665, 0.017973966362947288), (4658, 0.017936722165600796), (85, 0.017912671773970608), (3471, 0.01789233713737253), (2368, 0.01788811418700936), (3504, 0.017873228288474166), (2513, 0.01784400545810527), (2712, 0.017808720797719304), (4321, 0.01771674704073115), (1403, 0.01769375133680538), (3433, 0.017636997712989363), (4088, 0.01763604829222323), (794, 0.017626816671301112), (4534, 0.017623350887623616), (2598, 0.01760524506997957), (2768, 0.017605210667952585), (669, 0.017584852773767125), (3036, 0.017541803064459984), (145, 0.017518236344830913), (2167, 0.017477112169750557), (2149, 0.01745430467333787), (4395, 0.0174160217860099), (4380, 0.01740068336476453), (261, 0.0174002298743053), (1137, 0.017384925930753387), (345, 0.017370016643949937), (757, 0.0173298701987033), (1274, 0.017286536762845757), (1996, 0.01726763046221251), (1098, 0.01724697213761538), (4281, 0.017230622390000016), (551, 0.017217452678096754), (2347, 0.01717163829774681), (2823, 0.017152501269526544), (4176, 0.017132113466158314), (1937, 0.017126995837406723), (1579, 0.017120979589650302), (3119, 0.017058848812441945), (4617, 0.01703576763545995), (181, 0.017019451918873583), (638, 0.01699550510926907), (4012, 0.016994336877305075), (199, 0.016988762501937017), (218, 0.01697359903517683), (4053, 0.016815675944668648), (409, 0.016807144274970483), (2931, 0.016772243322319497), (1216, 0.016732107613849915), (2027, 0.016725732580629652), (2607, 0.016693532858978115), (947, 0.01664922831652934), (3857, 0.01658166554655037), (2760, 0.016561849037625226), (2207, 0.016560189417487693), (106, 0.01653828028244271), (3528, 0.016532121912350515), (3895, 0.016503200531716826), (1270, 0.016502531057272594), (776, 0.016489966849950917), (677, 0.016489420400122416), (2654, 0.016464015535971797), (374, 0.016459626123308903), (4050, 0.01645343996456236), (3541, 0.01643743375282342), (147, 0.016374099738769667), (4246, 0.016372608493611912), (4288, 0.016372265832322323), (1510, 0.016365467451365266), (2932, 0.01634971528823176), (3098, 0.01632883522922127), (2161, 0.01628734368544915), (3978, 0.016286347538155603), (867, 0.016248795949375717), (343, 0.016240356001980465), (4436, 0.01622170462338756), (1817, 0.01616562443440223), (1609, 0.016152140362620575), (2258, 0.0161380153064034), (3976, 0.016073305971635393), (2070, 0.016056583573169154), (1116, 0.016056325991224776), (251, 0.01605491902317483), (1202, 0.01603408816529651), (1377, 0.015918997137131918), (358, 0.01591235897868632), (3095, 0.015860449850643984), (3306, 0.01580475133120341), (1445, 0.015795970948711952), (1838, 0.015765972381798034), (929, 0.015738510501444612), (4610, 0.015725362567803897), (2645, 0.0156306663393525), (437, 0.01562780781601086), (3828, 0.015623092911925537), (3684, 0.015606980654372037), (4469, 0.015570844472594672), (2795, 0.015562174831196492), (2885, 0.0155534824518189), (934, 0.015553212723505972), (586, 0.015532317785786103), (2353, 0.015505949243214811), (1682, 0.015487197291592713), (4466, 0.015461873136206998), (2650, 0.015441704229220738), (779, 0.01538700103521152), (1523, 0.015356304708585764), (142, 0.015335852606658927), (209, 0.015329869207984561), (3000, 0.01527269017683145), (3226, 0.01524174130433954), (2376, 0.015237307849694822), (4679, 0.015229406530368816), (3597, 0.015218240285454689), (3558, 0.01521042646655382), (3284, 0.01520721233493742), (2290, 0.015159774205291769), (1045, 0.015150788392708362), (1872, 0.01513486198030364), (4583, 0.015121285800431414), (1945, 0.015116862435127013), (83, 0.01510900548039918), (1741, 0.0150933429083086), (1361, 0.015086371623723052), (1003, 0.015056840641227007), (1906, 0.015016064929223288), (2501, 0.01501001836208524), (968, 0.014998908921612139), (1064, 0.01498157583450492), (957, 0.01497021542869043), (1512, 0.014963540532487794), (844, 0.014947108375326494), (1074, 0.014945416486675769), (510, 0.014911325795948267), (4081, 0.014903369760760208), (1112, 0.014839922265844113), (3675, 0.014807167319789812), (3766, 0.01480299750352315), (2639, 0.014776553352076734), (3360, 0.01476262058335263), (1128, 0.014760861028141854), (2298, 0.014748592082373944), (3253, 0.01473125935361846), (4349, 0.014722875799342972), (4482, 0.014720792174534654), (1417, 0.014708934712054495), (4637, 0.014704540421742367), (4735, 0.014684562203209182), (3580, 0.014672348257239832), (1927, 0.014646840266118838), (252, 0.014588285946130528), (2440, 0.014560938517653747), (684, 0.014560014121001413), (3375, 0.014537761012955015), (3275, 0.014517455727391028), (222, 0.014510811307975503), (4504, 0.01449159827163441), (144, 0.014470872868375017), (808, 0.014460344732381397), (1880, 0.014458164115860681), (937, 0.014404157646409569), (1278, 0.01439759730878073), (1053, 0.01437615045675697), (2618, 0.014359868062521744), (2406, 0.014356838622585884), (4314, 0.014326483690226073), (1843, 0.014320474543321055), (860, 0.014300589238428259), (2644, 0.01428951933261681), (2736, 0.014285763803299979), (1774, 0.014270604619124385), (496, 0.0142376517988463), (3883, 0.014164653474463981), (3853, 0.014157581104790758), (2346, 0.014147656011421273), (3019, 0.014147333050055876), (203, 0.014147209046182808), (833, 0.014134369540688588), (1275, 0.014130537506662795), (1759, 0.014129642073279196), (4399, 0.014125631767963297), (1895, 0.014074323018978553), (2119, 0.014057547137526915), (287, 0.014042518542312053), (2874, 0.014039509109937518), (2742, 0.014024120042012998), (1184, 0.01400555987005356), (279, 0.013961989349792064), (1152, 0.013944701296724111), (916, 0.013928866365731877), (46, 0.013924303567181476), (212, 0.013900423819245677), (4293, 0.013874432891629318), (1331, 0.013867325094065281), (3043, 0.013857763518759225), (2110, 0.013848088604497747), (2969, 0.013836872027448845), (43, 0.013803708127889362), (1162, 0.013802223724131282), (160, 0.01378057118651671), (4619, 0.013751112129049337), (3861, 0.013749046393798744), (533, 0.013718868734720833), (458, 0.013708786252343987), (3356, 0.013704045678028399), (3992, 0.013701402989502634), (3630, 0.013666312176693528), (701, 0.0136585387970814), (4048, 0.013651937711524044), (1716, 0.013651670302880892), (3295, 0.013636629032634646), (2229, 0.0135718830593132), (433, 0.01356237054647484), (3924, 0.013534695304212233), (48, 0.01352984580435599), (231, 0.013504813877341038), (4551, 0.013481685080184533), (2996, 0.013479900841145925), (2366, 0.013408998829977722), (4722, 0.013400036943554905), (1997, 0.013398085786528713), (450, 0.013397511244701479), (7, 0.013347165800152815), (1401, 0.013335065160523065), (4669, 0.013325804817555381), (896, 0.013312887984817716), (3086, 0.01330258422841244), (1384, 0.013279003917550615), (2522, 0.013277608046511558), (4231, 0.013264217583854883), (3694, 0.013243126763574245), (1853, 0.013235118945467046), (407, 0.01323262016769871), (1119, 0.013213810200540044), (2849, 0.01318556620366406), (2000, 0.013171070529416622), (1443, 0.013154348346768586), (1254, 0.013148776662639973), (21, 0.013146959429531353), (1018, 0.01314659721967989), (2805, 0.01314513858352177), (609, 0.013112473526657425), (3984, 0.013108425357370687), (2097, 0.01310611961469571), (545, 0.013097679716565861), (2254, 0.01308761228792137), (2460, 0.013054230960701452), (2474, 0.013052203772870134), (2177, 0.013037712709019884), (2917, 0.013027451073858205), (814, 0.013018389261978206), (622, 0.013002389641142182), (3777, 0.012990197359582617), (906, 0.012986040491184183), (86, 0.012977197261169592), (879, 0.012959909304568917), (692, 0.012932038064920395), (3612, 0.012927146148206569), (3279, 0.012914049882497192), (1129, 0.012906338298018924), (3958, 0.012905405054388723), (3297, 0.012905035305504681), (4627, 0.012871221718849522), (3129, 0.012844321868856595), (3862, 0.012842836791472176), (3437, 0.01283353759764815), (1239, 0.012820534064862065), (543, 0.012788782810301947), (429, 0.012766733246324673), (270, 0.012763238096992924), (502, 0.012756625038418963), (75, 0.012747429762463128), (1224, 0.012731238331234719), (2334, 0.012724637340201345), (584, 0.012713480507444693), (2053, 0.012699358061125127), (1342, 0.012690259992547668), (1802, 0.01267825730721163), (4379, 0.01267773352586597), (3421, 0.012660086775754465), (806, 0.012654491687595484), (1919, 0.012643197971832706), (120, 0.012616377435152723), (3213, 0.012609677764896621), (13, 0.012602129552264626), (51, 0.012579825680401412), (2784, 0.012579120157358948), (2016, 0.012577285308577556), (3299, 0.012569913683949361), (329, 0.012569101491402878), (3508, 0.012553801021522284), (4068, 0.012544667314098324), (2919, 0.012542154110817362), (2154, 0.012538196847151612), (534, 0.012537894701153953), (1334, 0.012534713932015457), (2489, 0.012530549110243911), (1337, 0.012523213377275657), (452, 0.01251384565971001), (3210, 0.012510355299013754), (1232, 0.0124748145090683), (296, 0.012462164959832099), (2934, 0.012424342869287175), (1621, 0.012409525421205514), (3750, 0.012391219804746084), (2284, 0.012363830532332625), (2695, 0.012354815945453556), (1252, 0.012327115828574353), (986, 0.01231420478383729), (1293, 0.012285595228284716), (1376, 0.012284524018140269), (1654, 0.012264649382194787), (88, 0.012264449355305636), (1988, 0.012264362040232584), (3228, 0.012260851380901737), (5, 0.01224900604638645), (1493, 0.012243924812232142), (2279, 0.012222846822935708), (2568, 0.01221661530435992), (1655, 0.012197594118069057), (620, 0.01218747904867996), (370, 0.012173282319376847), (1317, 0.01217155515261233), (2250, 0.01216437600517944), (2216, 0.01212698070255893), (2512, 0.012126434107995174), (1787, 0.012107157334364993), (988, 0.012097620704421481), (2961, 0.012085544358687084), (1714, 0.012074445358639347), (2910, 0.012068658336535676), (2052, 0.012067764818789094), (3142, 0.012056423084743756), (989, 0.01204024790362479), (4387, 0.012035729919519282), (3949, 0.012012299789467069), (799, 0.01200406329044087), (895, 0.012003468376139702), (1035, 0.01198472649251617), (676, 0.011969583412373277), (1967, 0.0119416111692126), (648, 0.011923180159872052), (3370, 0.011905321387090313), (4032, 0.011901989416592356), (4709, 0.011844534493530453), (87, 0.011824625338907184), (4673, 0.011821655353610249), (3094, 0.011810849445887062), (2769, 0.011810118331246419), (1157, 0.01180877782766602), (3293, 0.011807192282713085), (2275, 0.011801233505542935), (899, 0.011796980720609645), (2024, 0.011793218545779192), (1114, 0.011783719651380633), (4192, 0.01178025834950085), (3524, 0.011767970110309545), (1665, 0.011754754195243862), (1160, 0.011745826717445694), (3171, 0.0117396131455288), (4374, 0.011719818190920231), (52, 0.011718743090276882), (878, 0.011680439560504453), (853, 0.01164926579475672), (2224, 0.011646929780718915), (2886, 0.011642863462181031), (1310, 0.011623034246842627), (130, 0.011602404779181057), (236, 0.011569883746758207), (2145, 0.011556289723512159), (2005, 0.01155036930345059), (434, 0.011542005182901929), (511, 0.011536806252603896), (1183, 0.011526616870829473), (3903, 0.011525992476121533), (276, 0.01152386284543783), (4203, 0.011522453335986567), (866, 0.011447619137925316), (2740, 0.011435040634979335), (2051, 0.011394862871522167), (847, 0.011390888923354566), (1870, 0.011360924890536262), (1658, 0.011353919780061759), (4502, 0.01134191556269713), (1360, 0.0113387830870782), (2915, 0.011290229375898056), (4596, 0.011270490124242976), (3797, 0.01125350347744478), (4475, 0.011222241584942134), (1465, 0.01122221467578118), (1249, 0.011205192944293806), (317, 0.011198463812594872), (2436, 0.011190640186023311), (1237, 0.011189778046092152), (3822, 0.011152633175868995), (1595, 0.011151165339627478), (1090, 0.011143047775161516), (1387, 0.011120034892043084), (1739, 0.011112313725707396), (762, 0.011065423748112814), (1000, 0.011058196749896165), (2688, 0.011033311870668196), (2049, 0.01098901726677583), (0, 0.010961215627523495), (1290, 0.010952991540837571), (2065, 0.010947317884864142), (2494, 0.010947008570847593), (3637, 0.010913398354093232), (2581, 0.01090336192040353), (342, 0.01089483412968082), (4122, 0.010875942719424358), (2116, 0.010848224677975332), (2363, 0.010812876343345407), (3218, 0.010807462497053909), (3945, 0.010773859461479476), (948, 0.010751919660475793), (733, 0.010742961485300358), (1685, 0.010740712022830104), (1798, 0.010740674814045843), (653, 0.01073659095159956), (1957, 0.010720441113047464), (1015, 0.010707344506828226), (1897, 0.010681234467495124), (2939, 0.010668142392906112), (2412, 0.010668035642544305), (2633, 0.010649817294849264), (1779, 0.010647989750131578), (555, 0.010641951199226911), (4371, 0.010638151921629101), (1050, 0.010636324635756655), (3999, 0.010633150538620295), (1619, 0.01061078558754344), (1951, 0.010601923998313483), (3756, 0.010587175997853155), (208, 0.01058686372839758), (1382, 0.010581812817788201), (2096, 0.010581158352803426), (2447, 0.010575531979000363), (2601, 0.010572362551579367), (538, 0.010569525955335635), (3667, 0.010563525140501713), (57, 0.010553686181510051), (3689, 0.010550641537768982), (3919, 0.01054069632143464), (470, 0.010522436298611193), (1971, 0.01051582924201617), (1192, 0.01051150550698529), (1075, 0.010508456993035204), (842, 0.01050385235617568), (1006, 0.010455790376289171), (1058, 0.010455740223113928), (4095, 0.010406328722003873), (173, 0.010400712951183725), (1475, 0.0103959878560146), (482, 0.010367609834717774), (2744, 0.01036460909872666), (2524, 0.010344355217199295), (2798, 0.010326006874800378), (472, 0.010319672647181826), (149, 0.010314476687360383), (2668, 0.010311274894736856), (4255, 0.01030583393747823), (1077, 0.010298118525403323), (3643, 0.01029549733921344), (2988, 0.010294626829565529), (2155, 0.010289349311444354), (3386, 0.010288248161700073), (1876, 0.010286200534596791), (4025, 0.010279669676370225), (2602, 0.010249500645559182), (4511, 0.010243730819681177), (368, 0.010241831589970302), (2277, 0.010238085797532968), (2727, 0.01023448350434012), (104, 0.010227162840748222), (2045, 0.01022437405431037), (406, 0.010220912014095494), (897, 0.010213771696079564), (850, 0.010200273563343592), (3535, 0.010191869381115794), (2468, 0.010191641711032356), (1343, 0.010187438764703769), (2977, 0.0101835141248714), (2486, 0.010176004275699367), (353, 0.010152573424021906), (3312, 0.010139955173054037), (2831, 0.01012704324695191), (697, 0.010119377731155198), (1182, 0.010109382676718197), (1418, 0.010100369357402895), (1678, 0.010094461936901777), (2144, 0.010081184578090317), (689, 0.010081003878569032), (82, 0.010080612675043071), (3708, 0.010075856168197204), (4336, 0.010047520789816236), (4747, 0.010043450426545787), (464, 0.010043267470801573), (280, 0.010042636810131678), (3317, 0.010038830588906344), (1815, 0.010032240801100921), (2174, 0.01002005045083387), (3067, 0.010019111635658348), (527, 0.01001758889073327), (1413, 0.010010708380982357), (3237, 0.009988019416547842), (2087, 0.009987287604457395), (3741, 0.00998719289482713), (1591, 0.009985999154994896), (816, 0.009984370256861465), (461, 0.009979572186527084), (79, 0.009963867959970622), (119, 0.009924158503720195), (3346, 0.009916144647051196), (3645, 0.009914622779181159), (2980, 0.009911674674299705), (2925, 0.009906127209503455), (753, 0.009863069729401094), (2103, 0.009835240647785952), (760, 0.009831653168943388), (2008, 0.009827433238764904), (775, 0.009820265668697519), (905, 0.009816461883204572), (4707, 0.009814934432491462), (2632, 0.009801986553182228), (4512, 0.009788113407728258), (2121, 0.009763747543707298), (2698, 0.009759389310190823), (1020, 0.009756440614366198), (1017, 0.009756163704410343), (4121, 0.009755419425220437), (3240, 0.009753827514751835), (3826, 0.009727031954148209), (4335, 0.009726197908407118), (207, 0.009725746797803836), (3784, 0.009721112698639177), (2383, 0.009705341497953027), (4603, 0.009693683996058954), (19, 0.00968614088316194), (1371, 0.009683820219860908), (1864, 0.00966765316290016), (1148, 0.009663883082316497), (1446, 0.009662729228050454), (4227, 0.009658064148406607), (3151, 0.009653163328036953), (651, 0.009645477992591286), (3110, 0.009640210281811272), (962, 0.009630015032371712), (966, 0.009626682510744482), (683, 0.009613536575849095), (1806, 0.009598103249055393), (332, 0.00959549936015368), (2473, 0.00958517464655046), (1019, 0.009584726035312532), (1674, 0.009580081538776654), (385, 0.009578938235575929), (2143, 0.009577547914849294), (3829, 0.009576298835098373), (281, 0.009574877398250926), (4531, 0.009570058228819083), (1710, 0.009563493808900463), (742, 0.00956149589630644), (1255, 0.009545734795767355), (1858, 0.009514579824187198), (356, 0.009512949117083511), (3954, 0.009497192450044588), (734, 0.009491137655338988), (963, 0.009486692286526537), (838, 0.00948439500717421), (1206, 0.009478827414962228), (4257, 0.00947570669071671), (1730, 0.009467756898592692), (3407, 0.009460122488212373), (3192, 0.009454256660906778), (197, 0.00945210499340781), (2739, 0.009446439656505046), (2812, 0.009446062285333843), (4656, 0.009441060344511466), (2464, 0.009440119742814482), (224, 0.00943606078697368), (1514, 0.00943203745187472), (3399, 0.009400878504666726), (3389, 0.009386004007492897), (3659, 0.009384413749110516), (3453, 0.009371546151878983), (1308, 0.009367142223386273), (1519, 0.009366509689039595), (183, 0.009362194675255004), (1754, 0.009352808541927726), (162, 0.00934587142639465), (900, 0.009345770686034536), (307, 0.009338043746420848), (1477, 0.009317703223972955), (1009, 0.009311624099277318), (675, 0.00930533836678459), (3586, 0.009304463642026903), (485, 0.009295081360947552), (2252, 0.009286231932857715), (1875, 0.009265815314872916), (4205, 0.009257980028569774), (3642, 0.009256736803626306), (1920, 0.00925591714724464), (4118, 0.009245164313317063), (1705, 0.009237210370393985), (463, 0.009229402658885114), (180, 0.009227425173786654), (418, 0.009224451329399386), (2978, 0.009216449911687432), (2196, 0.009189703298303036), (1874, 0.009151508407130084), (800, 0.009136598985566655), (1436, 0.009132181940418774), (1339, 0.009131211603023477), (1220, 0.009128389434296624), (4557, 0.009118251443964259), (2803, 0.009117863201757732), (3018, 0.009093823125660939), (4474, 0.009088456480349909), (1690, 0.009078941660047492), (1185, 0.009076092029125214), (654, 0.009073143463034047), (667, 0.00907211690403597), (2265, 0.009063205154642961), (1762, 0.009061542550286983), (4510, 0.00905114373472355), (1727, 0.009046563472205907), (3382, 0.009046011134745026), (3108, 0.009044510263625608), (201, 0.009034216992618083), (483, 0.009026999035741721), (936, 0.00902558705020409), (1539, 0.009024754738576725), (1234, 0.009024116078733485), (3259, 0.009008475783205903), (1432, 0.00900524151622369), (4233, 0.009003944921446893), (1736, 0.009003246275792728), (2235, 0.008966065588625227), (2546, 0.008952730815285661), (1949, 0.008945296096509178), (1934, 0.008940824383962733), (4134, 0.008929406816387885), (2444, 0.008929026448802705), (32, 0.008927731562398301), (908, 0.008917397025780966), (918, 0.008906769162644396), (1542, 0.008905825242350073), (2780, 0.008901717604506922), (2126, 0.008901253942143514), (2975, 0.008898468281779679), (705, 0.008888518337374259), (1948, 0.008867499911506734), (1136, 0.008865800886207385), (1735, 0.00883950956250753), (732, 0.008834813744962042), (1832, 0.008826668688679987), (3, 0.008826417850093828), (869, 0.008812663019563016), (3634, 0.008793323570483364), (242, 0.008790720221216807), (3699, 0.008790700713991592), (994, 0.0087806987015643), (3096, 0.008775313711766595), (447, 0.008764992239290595), (1440, 0.008764169015261582), (1764, 0.008755884367448959), (3155, 0.008748310680824854), (4581, 0.008733798859558588), (544, 0.008729111247024001), (3245, 0.008724314537307884), (1388, 0.008706272614138746), (924, 0.00868574501074146), (3579, 0.008667125776943826), (4623, 0.008662509555353679), (3670, 0.0086583670426626), (4184, 0.008653326224412483), (494, 0.00864842308321239), (542, 0.008648343446400747), (1419, 0.00863846220591273), (931, 0.00862565186292767), (1215, 0.008617456737270796), (4435, 0.008612555040742178), (2933, 0.008610366005867216), (1743, 0.008608638751201714), (105, 0.008605717181658838), (60, 0.008596251893717226), (1406, 0.00858757150211155), (1455, 0.008578654756503497), (1922, 0.008575478384013933), (2280, 0.008575402170947065), (4344, 0.008571446039720059), (3065, 0.008568811680827217), (4000, 0.008562687968128417), (4060, 0.008559590999405533), (403, 0.00852875520744864), (2211, 0.008494086310415665), (4124, 0.008492308762762064), (244, 0.00848279612792572), (2603, 0.008472527573507515), (500, 0.008408404915375313), (2080, 0.00839165896522093), (4216, 0.008375479402263988), (2918, 0.00836748000513996), (441, 0.00836265723553851), (2563, 0.00836092512863756), (616, 0.008356561553841128), (113, 0.00834755585547118), (396, 0.008342274496773586), (1125, 0.008339097752926974), (2844, 0.00833662242170465), (3582, 0.008327403355851422), (790, 0.008311549087157252), (2752, 0.00830382373169082), (4442, 0.008303753311482042), (843, 0.008299879361016694), (915, 0.008284829694679864), (1231, 0.008282452108614032), (2206, 0.008279451828216856), (1950, 0.0082742326223013), (2897, 0.008270162901960627), (4481, 0.008268709183974132), (2555, 0.008247486934537354), (1630, 0.008233596839684177), (3794, 0.008225825316165886), (1854, 0.008218642086813822), (1230, 0.008215910535739052), (156, 0.008201055723981306), (827, 0.00818136594217087), (939, 0.008172326106374448), (1992, 0.008152643915385414), (360, 0.008137615047637341), (828, 0.008132769334487203), (3941, 0.008131019486901267), (4325, 0.008117349073131165), (719, 0.008078926065389302), (4235, 0.008072069415246732), (309, 0.008061777139425942), (63, 0.00804211693514711), (3993, 0.008022297170991946), (2093, 0.00802225560987365), (3152, 0.008004055318156619), (1797, 0.008003375497483537), (3118, 0.007976958741994547), (2306, 0.007964762990975954), (170, 0.007960242388749915), (285, 0.007953460346803994), (829, 0.007952322243722242), (3842, 0.007943366237811453), (122, 0.007913617088275683), (801, 0.00791030050443881), (4164, 0.007910176797075357), (695, 0.007903593324402946), (3860, 0.007881675810111496), (148, 0.007881610979748918), (4182, 0.007867746108495098), (3418, 0.007862401152539486), (3267, 0.007857530592756613), (1747, 0.007846696926431295), (2264, 0.00781938717074586), (1680, 0.007818239740924599), (3316, 0.007814624509800716), (271, 0.00781380707578604), (4366, 0.007812898365734212), (501, 0.007788191089048659), (1061, 0.007777922862167654), (266, 0.0077577162252196906), (1816, 0.007754163549806514), (1005, 0.007747448037464938), (2871, 0.007721487118541955), (333, 0.007712647142315072), (2809, 0.007708859544692878), (3070, 0.007700547493172432), (402, 0.007696222739646657), (3099, 0.007689347089746107), (1348, 0.007680194053448404), (1694, 0.007651866093634547), (2617, 0.007640271850526353), (1776, 0.007598543140790601), (3232, 0.007595937680975315), (4524, 0.0075956411176260254), (1790, 0.007588963968944751), (4553, 0.007568206463182552), (4232, 0.007565398087789026), (582, 0.007555890081842891), (3384, 0.007549147959055243), (3256, 0.007532255405171404), (949, 0.007449037196839586), (1306, 0.007390760261020308), (125, 0.007389021274884523), (1708, 0.00734806434220585), (283, 0.007343133801790221), (1300, 0.007341295516030126), (3661, 0.007331268025626246), (2873, 0.007319923199936508), (2076, 0.007307806606946271), (3951, 0.007305595057183545), (2403, 0.007299460565582121), (1014, 0.007288345501165227), (3423, 0.0072860244600420985), (3039, 0.007252582962172903), (2936, 0.007235211637018224), (2339, 0.007222075393459631), (1442, 0.007202871945293385), (2101, 0.007202537067704152), (3008, 0.007188759970770698), (537, 0.007184468292476698), (2510, 0.007171772544904387), (737, 0.0071681390241348526), (40, 0.007152672904071673), (2913, 0.007152319256251687), (1069, 0.007149417882359875), (2244, 0.007116678973519604), (2505, 0.007107794474763155), (2209, 0.0071036485939402535), (4061, 0.007102050459189812), (3387, 0.007098637698669507), (940, 0.007095445968663575), (1486, 0.007094751988767809), (4719, 0.007083466617191468), (4605, 0.007065128924862883), (4337, 0.0070607315451602865), (243, 0.007059150470444416), (435, 0.007046861513022462), (4226, 0.0070419708100768605), (1799, 0.007021127145094954), (1583, 0.00701574236632279), (1115, 0.007005145137278306), (2843, 0.0070044739172707565), (3515, 0.007003671493136484), (4077, 0.00699907514875651), (715, 0.006969918813341333), (363, 0.006963590983739732), (635, 0.006910864376765079), (4196, 0.006910490806828204), (668, 0.006892003871210056), (1509, 0.006885305323666359), (340, 0.0068793184165176725), (232, 0.006852251167346151), (341, 0.006839897654004126), (1099, 0.0068376109210649206), (2964, 0.0068286937198943146), (3137, 0.00680646694152536), (1407, 0.0067972428418474305), (1812, 0.0067969097246187975), (1737, 0.006796057764884809), (752, 0.0067887983378390835), (413, 0.00678229868621969), (2565, 0.006772988509733449), (3932, 0.006771955360079668), (3264, 0.006768913088449098), (1359, 0.0067643898205022885), (2418, 0.006764195285794543), (3457, 0.00676294909026577), (386, 0.0067588439765817465), (748, 0.006756845697694812), (1712, 0.006756573224655198), (600, 0.006743231570859606), (4695, 0.0067304344226348945), (1718, 0.00672748208957596), (4351, 0.006714452735410005), (301, 0.006702401158131212), (1396, 0.006688484102013631), (3747, 0.006687530679339797), (4008, 0.00668069066635237), (523, 0.0066545859240754015), (1911, 0.0066539197603009475), (4052, 0.006652977771089452), (369, 0.006650737931397201), (2545, 0.006649369289127982), (2640, 0.006644848345377679), (3599, 0.006638188885097362), (671, 0.006637013325860391), (2816, 0.006636539337247874), (131, 0.006635506539723954), (2691, 0.006635335532699962), (1841, 0.006633852618015292), (1048, 0.006627251796291431), (631, 0.006626909129595782), (4486, 0.006603002538337433), (778, 0.006602555196393074), (4388, 0.006599631649227119), (1860, 0.006599059175478454), (3648, 0.00659207179600241), (4210, 0.0065885147858469545), (313, 0.00658531853066928), (3265, 0.006584760355365435), (1111, 0.006583313238506084), (4467, 0.006575584188121083), (56, 0.006547025026744976), (1124, 0.006544854393177131), (3536, 0.006544492850224935), (3632, 0.006541012651922088), (1250, 0.006540718191208796), (1761, 0.006533831384696031), (809, 0.006533640616395959), (2726, 0.006531204094368574), (1266, 0.006528784517928956), (2732, 0.006521331680605847), (1688, 0.006521021133921937), (1936, 0.006515075202521963), (2309, 0.006514892472165494), (1276, 0.006510219376886426), (1425, 0.00650810095672107), (1986, 0.006506954928618574), (2193, 0.006506500026075831), (1494, 0.006505271747074279), (758, 0.006469477769900313), (4261, 0.0064588799441744355), (1087, 0.006453107078958379), (1262, 0.0064424208448443515), (3416, 0.006441719585066455), (521, 0.006436000789130573), (1908, 0.0064321217184249374), (2503, 0.006431451768135713), (1345, 0.006429638850789374), (2708, 0.006426920661859022), (2421, 0.006424674291429707), (2335, 0.0064245550109508325), (3594, 0.006419880299259305), (182, 0.006417693759574317), (3926, 0.006406621044591542), (22, 0.006399890650068226), (1461, 0.006396596538722102), (1501, 0.006396502446919728), (1612, 0.006384138508712706), (4738, 0.006366488359882989), (1374, 0.006363861546802854), (1696, 0.00636261474824913), (2480, 0.006358825199075367), (3033, 0.006357408061168827), (1172, 0.006343649335045044), (1644, 0.006342741418458348), (1551, 0.006339920601975354), (3596, 0.006339001650563028), (2463, 0.006338428510083485), (4001, 0.006338022971523763), (1226, 0.00633169975112566), (4099, 0.006330683237190724), (322, 0.006329909978479709), (346, 0.006325171755073602), (1867, 0.00632391610111042), (1873, 0.006317782126560061), (1094, 0.006312399525871817), (2239, 0.006309087847125002), (2759, 0.006300759195721767), (1329, 0.006296181573336854), (4685, 0.006294236066482436), (4151, 0.006288116962690947), (1692, 0.006284551882902221), (1012, 0.006279931817631551), (3325, 0.006279402224923149), (446, 0.006274945611362863), (834, 0.006274443933590935), (1773, 0.006273037405415931), (1238, 0.006271940576661228), (1852, 0.006269763753565304), (1420, 0.006259048933595577), (2095, 0.006254544766320271), (4367, 0.006248756559547104), (3288, 0.006248131845522785), (1807, 0.006247581104258103), (1913, 0.006235864373277342), (1849, 0.00623495293039071), (1096, 0.0062180166012057005), (3066, 0.006214374883467868), (3046, 0.0062054469759867), (817, 0.006192941805671259), (4217, 0.006191894933494595), (321, 0.006190211066927403), (2572, 0.006169271480321022), (273, 0.0061657361372136526), (4303, 0.006159761701221869), (230, 0.0061561066654176565), (3085, 0.006152525960034902), (782, 0.006150094490428949), (4576, 0.006144864379613143), (3998, 0.0061413581146696474), (1267, 0.006141147942020618), (3246, 0.006117955810360355), (4564, 0.006115593765302283), (2680, 0.006112237118539194), (3733, 0.0061100542649278585), (164, 0.006104325930405875), (2062, 0.006098298988803578), (1552, 0.006097151706230233), (568, 0.0060966639775656755), (1818, 0.006093303943464315), (4459, 0.0060919414101112375), (3309, 0.00608162168457459), (1327, 0.006080973400593735), (1307, 0.006072482496870005), (835, 0.0060650796464157474), (3864, 0.006063841076473241), (300, 0.00606144474103011), (1526, 0.006059121669224241), (2202, 0.006052086332460206), (2303, 0.006041393743968936), (3909, 0.0060413438398302785), (2056, 0.006040102288433461), (1664, 0.006035226924394635), (1723, 0.006032243030046651), (3566, 0.006031382999189557), (1746, 0.006025009975400682), (468, 0.006024272459828729), (263, 0.006019687444944549), (2205, 0.0059855853329438945), (1793, 0.00597576903981013), (2992, 0.005969536807859159), (2160, 0.0059675412483603555), (3426, 0.005957632222214056), (2678, 0.005953577279349389), (4236, 0.0059482233884306035), (1903, 0.0059422978045691995), (3114, 0.005938927841473645), (921, 0.0059364940573671445), (1650, 0.005925336545978523), (1316, 0.0059195346401491504), (9, 0.00590848407862745), (248, 0.00590842650551317), (2175, 0.005906537137248308), (1662, 0.005906351674579284), (4571, 0.005895188626911534), (4009, 0.005890899518855098), (2426, 0.005874577676537819), (3329, 0.005869172904179705), (2203, 0.0058690101210595496), (3825, 0.005856644904299076), (2935, 0.005853078212457845), (3244, 0.005845948557541334), (4649, 0.005839677170720716), (354, 0.005837984296931327), (35, 0.005833504726710022), (583, 0.005820422275796998), (821, 0.005817525044650341), (4342, 0.005817023910938572), (1538, 0.005816562754596756), (3178, 0.00581603741639273), (597, 0.005812419533488609), (2236, 0.00580561901064015), (449, 0.005800179439246207), (2058, 0.0057845490810245325), (4106, 0.005779106507689895), (2299, 0.00577888086822472), (958, 0.00577306466251768), (664, 0.005762310139098254), (4110, 0.005760293261838848), (2185, 0.005746697505368246), (1715, 0.0057449143581102275), (3865, 0.00574185360013139), (1567, 0.00574128523153795), (327, 0.005740429647502462), (3752, 0.005735864477240065), (4055, 0.005726524863100577), (3598, 0.00572405877260065), (2285, 0.005719791620922815), (2929, 0.005714076352570198), (4057, 0.0057079834521630065), (1833, 0.005702222452909721), (2757, 0.005687567907096036), (3512, 0.0056860161575328656), (979, 0.005677612889730115), (2156, 0.0056671386964203254), (1194, 0.005662625308161833), (2074, 0.005658589438877414), (2587, 0.005651391483291485), (1553, 0.005648551242325066), (1571, 0.005647284687179219), (1684, 0.005627038410960801), (2820, 0.005603038263199891), (3748, 0.005596360933546709), (277, 0.005581170997553145), (2098, 0.005579189574050868), (2998, 0.005553873053179697), (2291, 0.005546701258820587), (4748, 0.005545901811065711), (3509, 0.005532954544579349), (4385, 0.005520645179856042), (2942, 0.00550906209287472), (4158, 0.005497560807764455), (1863, 0.005488159043979143), (4555, 0.005480358934714086), (445, 0.005460887075714381), (2197, 0.005452173308778254), (177, 0.005450718056955113), (3164, 0.005422031871929177), (78, 0.00542115539511423), (970, 0.0054038158704432715), (3215, 0.005403754393071712), (1279, 0.005395242604481313), (288, 0.005387866739559479), (1312, 0.005386022522471747), (3821, 0.005383663869564292), (4607, 0.005376525319488935), (2490, 0.005350300647408002), (2529, 0.005345338823732229), (2379, 0.005341453690102556), (3523, 0.005328012352893028), (2789, 0.005318344899488255), (3713, 0.005312312465940245), (3925, 0.005307802056173287), (2665, 0.0052922550055577436), (3940, 0.0052847346652364425), (2858, 0.005262010121547259), (2137, 0.005261717916283053), (3051, 0.005261448291019885), (2764, 0.005252345577663416), (4726, 0.005244598676388418), (2439, 0.005238426580781853), (3957, 0.005237537911277353), (1037, 0.005232862475942), (4082, 0.005214953699892721), (1453, 0.005185730023677928), (2774, 0.005178860057121489), (2989, 0.005177145400237149), (3040, 0.005174743218354855), (2022, 0.005171462286913971), (3410, 0.005169096859818828), (2251, 0.005152999401260088), (477, 0.005152566020120609), (4202, 0.00514328779809163), (168, 0.0051272642011734385), (1144, 0.005120455331531268), (3990, 0.005116840404687826), (3166, 0.005116357000700818), (2889, 0.0051001652910848865), (2407, 0.005095484670309311), (2349, 0.005088849507102093), (3052, 0.005077289189145313), (735, 0.005051945204385328), (2404, 0.005050418888262926), (1695, 0.005048953838994511), (1701, 0.0050471883869903445), (4704, 0.00502968027346581), (159, 0.005018980913977356), (2870, 0.005007580951231826), (3030, 0.0050042262166460705), (2113, 0.0050030563951399725), (3635, 0.004997684914236607), (2775, 0.004991924666002734), (4221, 0.0049682517801114805), (2731, 0.004966788989493388), (3939, 0.004950017781653031), (4222, 0.004949684691472477), (2673, 0.004922682486330237), (3205, 0.004922585463119991), (2883, 0.004921439951658732), (627, 0.004921333017898251), (3291, 0.004921301952868922), (4172, 0.004914639217122296), (2655, 0.0049037614942850135), (4652, 0.004890856345937183), (4407, 0.004857918307711889), (3479, 0.004854789949962483), (2392, 0.0048540581236085545), (4373, 0.00485358495213735), (4444, 0.004847280948683364), (3762, 0.004843347172843781), (2832, 0.004840107259739961), (414, 0.004828583916521356), (4423, 0.004820669217966345), (4484, 0.004819748840478361), (2425, 0.004818290447042986), (3892, 0.004816476074492086), (3282, 0.004796615099993735), (3322, 0.004783721779236151), (2257, 0.004771720271044026), (2255, 0.004768882617563183), (4230, 0.0047636572862773735), (3262, 0.004762497493799764), (2901, 0.004762150231420963), (2559, 0.00475645673191761), (2643, 0.004754676408465176), (561, 0.00475381825690802), (3763, 0.0047388263725502274), (2064, 0.0047351897017078), (3076, 0.004729391100686403), (2075, 0.004728287884544699), (2838, 0.004720220266044545), (2199, 0.004717664645507538), (4710, 0.004711893811850236), (3219, 0.004708439471018783), (2448, 0.004696576134130751), (2423, 0.004670604986272597), (3015, 0.004654152221266267), (2286, 0.004647678153679468), (2350, 0.004645521784573992), (1208, 0.004617150150263969), (336, 0.0046139110578803915), (3638, 0.0046128040182088), (3616, 0.004607521430624024), (4546, 0.004601742676445921), (4107, 0.0045898806116563716), (3922, 0.00458578208541319), (2834, 0.004584304425924427), (3363, 0.0045736008362586775), (4572, 0.0045632830313399346), (2438, 0.004557876663494904), (2266, 0.004554437238298528), (3577, 0.0045513693554103075), (4660, 0.004549879105312094), (2857, 0.004544446042214427), (2957, 0.0045427720641925745), (3140, 0.004537994327816813), (1711, 0.004528332986536904), (3832, 0.004523193156088096), (2188, 0.004510997545845542), (4521, 0.004509719003079502), (2488, 0.004509568651561734), (3613, 0.004507580142132465), (3074, 0.00449901603279113), (2454, 0.004489950968461977), (4723, 0.00448877704622986), (2778, 0.004478223236376241), (2966, 0.004474361049729202), (3521, 0.004473183468527398), (2797, 0.004471176448830228), (3357, 0.004448693538637465), (2415, 0.004442054667737427), (326, 0.004435104659921359), (1264, 0.004428675621435868), (2459, 0.004420147072325737), (4458, 0.004413129018118831), (3302, 0.004407898959008013), (2848, 0.004405342695356419), (2434, 0.004404179054990891), (3123, 0.004403195167292048), (3620, 0.004402058913613947), (3456, 0.0043986543458437895), (3458, 0.004395776353668686), (2879, 0.004392636917570173), (2772, 0.004389812791829671), (4490, 0.004377251260623723), (3308, 0.004375442758857328), (4717, 0.004374844733601695), (1049, 0.004374664872949052), (4632, 0.00436297795788508), (2707, 0.004360718380436755), (4030, 0.004352404505712789), (3413, 0.004348295250113953), (2388, 0.004347576938525113), (2796, 0.004345033696908137), (4589, 0.004342678399852535), (2986, 0.004332475484793227), (3257, 0.004331432586585307), (3884, 0.004315217984852977), (3754, 0.004307792614069613), (1187, 0.004307125696745113), (3901, 0.00430270962286883), (2570, 0.004300792841937971), (3745, 0.004293376067101466), (3359, 0.004290038783102944), (4412, 0.004289910062252805), (3396, 0.004289250179179353), (2696, 0.0042833808232325635), (2089, 0.004282692422358141), (2320, 0.004280520158915391), (1429, 0.004280420626561164), (4295, 0.004278828617330931), (1748, 0.0042751196205236515), (1995, 0.004270792034678288), (3425, 0.004269800954572835), (3364, 0.004268648915774446), (2269, 0.004266359534511935), (431, 0.004263071883571191), (4163, 0.004262400633731417), (4117, 0.004260902014614124), (2872, 0.004257740562783004), (3081, 0.004256442005114786), (1968, 0.004254345136490324), (1947, 0.004253764836780929), (3651, 0.004253400410267977), (4477, 0.004253399832471792), (419, 0.004251717978200306), (3165, 0.004250615808950267), (3506, 0.004245394433436818), (3952, 0.004241994005259278), (4753, 0.004240360818493656), (1547, 0.00423960793491521), (925, 0.0042395831932548304), (3072, 0.004235441092621617), (4713, 0.00422549367627356), (3355, 0.004224702739021188), (2924, 0.004224498778614994), (448, 0.004219026296335558), (4243, 0.004214647528026664), (443, 0.004213426008969548), (3296, 0.0042107843814392825), (3639, 0.004209067733916368), (3960, 0.004205720331718278), (2625, 0.004203880511052642), (2623, 0.0042035492773468625), (2400, 0.004200807683736147), (4650, 0.004200763421266327), (3866, 0.004199532338584982), (2660, 0.0041990779206013155), (4507, 0.004198396461352517), (2176, 0.0041967787274383725), (2427, 0.004194466565491888), (4092, 0.004194302248529302), (4244, 0.004192358780550709), (2702, 0.004182996128531461), (1909, 0.004178333607322561), (3012, 0.004177573740586545), (4369, 0.004177336170708055), (2914, 0.004172878159838208), (3274, 0.004171795209549619), (3148, 0.004168446777190273), (4699, 0.004168101886151584), (3680, 0.004167349774832021), (4516, 0.004164532951915019), (3772, 0.0041641792680903265), (2881, 0.004162504502986478), (3013, 0.004161827626441777), (2302, 0.004151589924269096), (2478, 0.004149958622976269), (2134, 0.004147289962059223), (2916, 0.004146959228911838), (4187, 0.004145905423774452), (614, 0.0041438595875447955), (4333, 0.004143258450406185), (998, 0.004140632125367261), (2629, 0.004140342249899992), (1924, 0.0041399075734786395), (813, 0.004138813695679005), (999, 0.004137044052392402), (985, 0.004133978634175158), (2840, 0.004133722181999984), (739, 0.004132137758337539), (274, 0.004130901316732914), (3804, 0.00413070692336949), (4494, 0.004127442064191275), (2223, 0.004122063086116878), (1923, 0.004118530815505191), (107, 0.004115423371461947), (1349, 0.0041153416628912365), (2854, 0.004113934876540297), (4706, 0.004112811828488888), (2592, 0.004110321823412844), (4593, 0.004108106770630535), (2437, 0.0041074364982591535), (3062, 0.004106221986112447), (3560, 0.004105179893809334), (876, 0.004102746901250771), (2974, 0.004102625792956958), (596, 0.004100988818238588), (2535, 0.00410031169130615), (4368, 0.004098541481105528), (3196, 0.004096849443366992), (2428, 0.004095593689017456), (1474, 0.004093656175694926), (3273, 0.004093474549421763), (576, 0.004091960954323807), (2411, 0.00408340838368521), (4113, 0.004082610044841321), (1489, 0.004077043881282569), (3032, 0.004075997111945807), (2890, 0.004074193234953252), (436, 0.004073241122486912), (4051, 0.00407258569719447), (729, 0.004072312148693841), (3962, 0.004070520672831138), (3391, 0.0040679014766892355), (4263, 0.004066349693777989), (3116, 0.004062497531593739), (3640, 0.004059695614472004), (2830, 0.004059209122554018), (1498, 0.004058293455358512), (688, 0.004055859155120908), (3234, 0.0040552988187061365), (4718, 0.0040551803154743075), (4535, 0.004050975230844235), (41, 0.0040498942554862685), (3813, 0.004049632061737497), (1109, 0.00404929146673415), (4138, 0.0040485032739697455), (2159, 0.004046952332942529), (2108, 0.004044269939399369), (4087, 0.004044124457209338), (3417, 0.0040439306785768885), (3044, 0.004041008467985572), (587, 0.004038967102157331), (4522, 0.004038050100076043), (1454, 0.004035463502348407), (4259, 0.004028827352459785), (4446, 0.004026585322333314), (4401, 0.004025615205262014), (3097, 0.004025087531816833), (3258, 0.004024819291443212), (2390, 0.00402395733074591), (8, 0.004017450245536821), (318, 0.004015858795179664), (888, 0.004015599220490802), (4601, 0.004011770156235583), (2260, 0.004010546488541742), (3183, 0.004008593249519105), (2888, 0.004005899518393274), (3749, 0.004002545853209263), (2705, 0.004000716991000788), (4133, 0.003999280203936027), (4046, 0.003998395391698513), (4540, 0.003996166340547568), (2748, 0.003995797901045707), (857, 0.003995667128886725), (4101, 0.003993996658225098), (4024, 0.003992094267467931), (4130, 0.00398993351750204), (1325, 0.003986082966377888), (3893, 0.003985440495730945), (350, 0.003980709941235974), (3915, 0.003973479274801563), (2475, 0.003973391265065702), (481, 0.003965134923659639), (3873, 0.003963366731993787), (4169, 0.003961250311085407), (1537, 0.003958147554636253), (2661, 0.003954321437907962), (4734, 0.003952895494761252), (4528, 0.003952753925270374), (728, 0.003952685994134895), (3601, 0.003948264461134151), (2664, 0.003946940401355239), (3449, 0.0039466643757891835), (12, 0.003946224748454261), (192, 0.0039449726792644725), (3771, 0.0039440336330330865), (3235, 0.003943043967165551), (178, 0.0039423595387133), (2776, 0.003942224861237718), (3704, 0.003940515873522192), (1905, 0.003938189488309925), (1960, 0.003937874705919531), (1896, 0.003937264374226331), (2288, 0.0039339304936005645), (1518, 0.003931727453595505), (1866, 0.003927934904133024), (3590, 0.003927224307618485), (2104, 0.003926633841003019), (3902, 0.003926242209034963), (3112, 0.003925991322384048), (3496, 0.003925360585731481), (3037, 0.003923231995530039), (1007, 0.003922024463613113), (826, 0.003921995568272864), (4269, 0.00392152791923444), (2477, 0.003921093095276053), (3516, 0.003920475636816774), (1570, 0.003919838630740108), (612, 0.003919798353975019), (4038, 0.003917498083012722), (1907, 0.003917354629883741), (4357, 0.003916475491520285), (2391, 0.0039153125620246965), (4657, 0.0039146405648516494), (2821, 0.003913350798240974), (1687, 0.003912544762454103), (2083, 0.00391250688712872), (3184, 0.003911564392086748), (623, 0.0039101348399192565), (783, 0.003907435979627587), (4448, 0.0039056482296275915), (4225, 0.0039041881243492824), (3780, 0.0039027209434261316), (1324, 0.0039025509734333472), (3618, 0.0039010653731378193), (2949, 0.003900876456217355), (4111, 0.0039005765838463456), (1140, 0.003898597938720688), (2162, 0.0038985144016056962), (1822, 0.003897355573770159), (1071, 0.0038969757577010608), (2105, 0.003896656220133012), (872, 0.0038946184351922168), (991, 0.0038913428471218994), (2609, 0.003890221006491504), (1916, 0.003888823684355875), (2755, 0.0038885705853308602), (3493, 0.0038857136111798488), (2393, 0.0038857120641831865), (2361, 0.003885676752304497), (3920, 0.0038833979742104677), (11, 0.0038816005764963214), (3314, 0.0038814159624065148), (2561, 0.0038745024794576153), (1918, 0.003872116075845725), (74, 0.0038695375807596254), (1893, 0.0038689101550615206), (4054, 0.0038674891459586323), (1703, 0.0038671223391214173), (1643, 0.0038652913135739015), (1225, 0.003863882326828622), (930, 0.0038621736979158636), (3654, 0.003861647640450332), (3353, 0.0038608260777851272), (456, 0.0038604644958041955), (1902, 0.0038599782918595075), (4286, 0.003858098097612717), (4566, 0.0038562697914044037), (3388, 0.003856201023066876), (792, 0.0038558867393641604), (4489, 0.0038545434939528445), (206, 0.00385363257487111), (2926, 0.003852316387676692), (4033, 0.0038523032693990357), (4575, 0.003851551453080613), (2531, 0.003850374149296245), (2088, 0.0038503485915116664), (4756, 0.00384992081787873), (3187, 0.0038494410782561445), (1364, 0.0038468407452670046), (2911, 0.003845628268848182), (716, 0.003844684920155928), (2714, 0.0038442746137436635), (3349, 0.003843669754786735), (493, 0.0038426591404800217), (3527, 0.003841471608682464), (2943, 0.003840749123542772), (3406, 0.0038388586274688335), (2405, 0.0038370812925663995), (255, 0.003835784652717187), (4178, 0.003834996571399209), (34, 0.003833863083513596), (3845, 0.0038322116092991067), (1400, 0.0038315542115124326), (4079, 0.0038307830696860056), (4430, 0.0038291057591764532), (3882, 0.003827477335145767), (1851, 0.0038272158209219837), (4420, 0.0038240655398806677), (564, 0.0038236611121257053), (3666, 0.0038228431914769235), (1188, 0.0038217567650993705), (2999, 0.003816865270676326), (2904, 0.003816829557346305), (2878, 0.0038151270712955265), (216, 0.003813407771186041), (1463, 0.003812664682796639), (1513, 0.003811479745846859), (4422, 0.003809469003066415), (3241, 0.0038091292239106397), (2466, 0.003809108383515584), (3233, 0.003808546744990578), (4419, 0.003808429806086257), (4625, 0.0038052501052476865), (4643, 0.0038032503049739773), (2319, 0.0038017481504425675), (4624, 0.003800577970369672), (1229, 0.0037991975614255365), (4629, 0.00379021125884715), (3198, 0.0037900499695541667), (660, 0.0037894345527515264), (4563, 0.0037870181183668355), (4334, 0.00378300971920546), (580, 0.0037781532101350945), (980, 0.003777759325866877), (606, 0.0037758608938954913), (3624, 0.003775483843517041), (750, 0.003773939676714182), (1946, 0.003772248039528178), (1131, 0.00377207031249115), (1176, 0.0037678576723713703), (4470, 0.0037675108942384888), (1083, 0.0037661403910242103), (588, 0.0037656147953632983), (3809, 0.0037639096524753704), (2894, 0.0037634182615072873), (4249, 0.0037630734372605316), (1983, 0.0037608936529299032), (871, 0.0037608378202841214), (743, 0.00376079059609699), (4287, 0.0037567003465023515), (865, 0.0037565177941392388), (4014, 0.003753425029122346), (1768, 0.003751932535720566), (3623, 0.0037507307524331512), (2386, 0.003749962145452412), (3526, 0.0037494795882992804), (1931, 0.0037488097336902124), (4098, 0.0037467094397576764), (71, 0.0037453671369610925), (3571, 0.0037436165093465475), (4266, 0.0037393115015907094), (1717, 0.0037381237975898916), (23, 0.003737735874160319), (3445, 0.003736317661676819), (1722, 0.0037362394999635013), (3542, 0.00373554157777732), (3227, 0.0037346240203950604), (2652, 0.003734617563328137), (3551, 0.0037345541789046), (652, 0.0037312382871318886), (4501, 0.0037301111470796422), (4135, 0.003728969841900501), (2067, 0.0037284518251195606), (3739, 0.0037278663693348785), (2313, 0.003726194895824368), (2492, 0.003725604661143502), (1122, 0.003724983033828432), (579, 0.0037174309398211856), (509, 0.003714202809617355), (3564, 0.003713293805456845), (2073, 0.003711811546065682), (636, 0.0037096622263937196), (198, 0.003707295339160878), (3182, 0.0037047656130881922), (1740, 0.0037038620401476773), (3125, 0.0037027454547185388), (3653, 0.0037025660071545), (1891, 0.0036983988938961107), (1410, 0.00369836672999396), (238, 0.003697868830035465), (3501, 0.0036966532839299657), (2344, 0.003695876114167939), (4284, 0.0036956849465640176), (504, 0.0036955481899412558), (1706, 0.00369381450969932), (3707, 0.003693807772348537), (3303, 0.0036926271355325773), (2397, 0.0036923329549989675), (1138, 0.003689684634137426), (1335, 0.0036882393203597503), (3436, 0.0036879146325927), (1472, 0.003687609055991208), (1191, 0.0036872548928371623), (2289, 0.0036859793019930302), (1476, 0.0036833176562674668), (969, 0.003683023026603653), (1533, 0.003682977072625212), (4517, 0.0036820769521017202), (2061, 0.003681820306566687), (2554, 0.003680864853195991), (1163, 0.003679207492170295), (4520, 0.00367793483989571), (4394, 0.003677758487331638), (2091, 0.0036752885753107735), (1488, 0.0036747366228013197), (3727, 0.0036709313315729276), (2569, 0.003669960654378185), (2230, 0.0036695729414171485), (3888, 0.0036690533566835484), (2746, 0.0036672400395275704), (4330, 0.0036653743147766916), (2169, 0.003664369594449892), (2606, 0.0036643594605142047), (3876, 0.003661807094390694), (3477, 0.003657743145934577), (696, 0.0036573251257878132), (2430, 0.0036556669505878893), (490, 0.0036542422873827377), (923, 0.0036536076846288477), (348, 0.0036518881173985916), (1170, 0.0036473077844918545), (4056, 0.003642237916262437), (1223, 0.003641526155299692), (169, 0.003641386596873517), (2226, 0.003641373622358552), (1448, 0.0036404164971974877), (3827, 0.0036394749781768505), (2195, 0.0036394381561435088), (1179, 0.0036345738440388964), (1378, 0.0036335469337327223), (1483, 0.0036323102861783203), (749, 0.003632245126741845), (3673, 0.0036294865891957884), (114, 0.0036288885680379897), (3557, 0.003628575341147381), (3807, 0.003620957475220253), (3195, 0.0036202152526725647), (1422, 0.0036194985112170696), (1286, 0.0036184824358071114), (3435, 0.0036184058471795196), (1666, 0.003617983635684323), (894, 0.0036165000413242976), (4693, 0.0036131636741865455), (1882, 0.0036102868556594854), (880, 0.0036094644249227803), (4020, 0.003608187853753541), (1438, 0.0036047118711375332), (400, 0.003603061358553217), (2461, 0.003602181181173067), (1408, 0.0036018210149341722), (3220, 0.0036012389259924248), (2069, 0.0035988862246564258), (3890, 0.003598879268601651), (727, 0.003597028037973829), (4530, 0.0035960663509219484), (3379, 0.003594865641672789), (1026, 0.0035944699504287855), (4487, 0.003594183843722023), (4036, 0.003593887071659987), (1044, 0.003592574248271484), (3075, 0.003592452305610679), (215, 0.0035923382519836514), (2946, 0.003591111099138859), (2945, 0.00359069021654171), (2612, 0.0035888893868660297), (1421, 0.003588153519732557), (1598, 0.0035874759424965957), (769, 0.003585739119406237), (1084, 0.0035843534262247605), (1313, 0.0035836138999806783), (1338, 0.003579765309449951), (4309, 0.0035734053780456464), (755, 0.003572978943874477), (1645, 0.003572813944418449), (3402, 0.0035718908701999493), (1247, 0.0035701710594256714), (959, 0.003568801732245562), (1620, 0.0035687003764882843), (1969, 0.003565212871601662), (4362, 0.0035650967009020567), (3765, 0.0035640971639726506), (1813, 0.0035639462157048265), (3641, 0.0035637787977870427), (2029, 0.0035622866916832445), (127, 0.003560877759379862), (798, 0.003559801395880443), (4183, 0.0035582036947464832), (1653, 0.0035579774933306844), (475, 0.003556975786122076), (1350, 0.003553814916212314), (3696, 0.003551227349593928), (2422, 0.003550656954310075), (698, 0.0035489473240098825), (3170, 0.003548227287479232), (488, 0.0035476076536778193), (3660, 0.003545435485162634), (3917, 0.0035436773933958782), (1481, 0.003542187063061245), (4069, 0.003539785638555584), (349, 0.003539482095417661), (1001, 0.0035387235761308593), (2131, 0.0035372808390303255), (3298, 0.0035349102525715267), (3035, 0.003533156990893121), (4573, 0.003532677754953113), (3214, 0.00353211949591394), (2642, 0.0035317055924050642), (2965, 0.003531570807809051), (1597, 0.003530895964356312), (3706, 0.003528155373312455), (1034, 0.0035250736292585447), (854, 0.0035231268161894417), (3503, 0.0035218106826022627), (3487, 0.0035208101009879715), (3799, 0.0035204160442713676), (3900, 0.003518796441056428), (1582, 0.0035137405493223064), (2892, 0.0035131965954597606), (1027, 0.0035109760861059807), (4472, 0.003510508736233188), (3268, 0.0035083283597831722), (1558, 0.003507085373205521), (1123, 0.0035037741202507645), (3122, 0.0035035710016839646), (2779, 0.003502455890373644), (2068, 0.0034997048492622185), (221, 0.0034993521918670234), (2482, 0.0034979561579713526), (1002, 0.0034973987436609975), (4670, 0.0034972694247828984), (2800, 0.003496725233125922), (2117, 0.0034958862644079687), (644, 0.003495486943603115), (4085, 0.003495269963393967), (3819, 0.003493894354816904), (2367, 0.003491759502856296), (3014, 0.003487999676213792), (18, 0.0034867761230448534), (1375, 0.00348651088592406), (388, 0.003484806088628709), (3898, 0.0034835254679159945), (1478, 0.0034829559924728737), (2496, 0.003481505197969633), (1744, 0.003480557924166798), (325, 0.003478814902512024), (2634, 0.003477467576035964), (598, 0.0034709525320572054), (3300, 0.0034691147978778356), (4536, 0.003469014527538484), (3646, 0.003467439885334171), (2242, 0.0034641229544744904), (2004, 0.0034621628015578656), (3734, 0.0034606655557644066), (1760, 0.0034603035120339973), (4523, 0.00345977535227739), (373, 0.003458461725120286), (2862, 0.003458385735594839), (3194, 0.003453578453273532), (1884, 0.003453004432136265), (886, 0.0034511951916120455), (975, 0.0034501085427269514), (1177, 0.003443671768267472), (1273, 0.0034431272608316916), (2899, 0.00344237731826481), (2348, 0.003441064531693201), (2201, 0.0034407373621938965), (1372, 0.0034406865221253908), (4591, 0.0034400052870232414), (1819, 0.0034347413323372543), (4011, 0.003434713090737377), (372, 0.0034322562711006114), (96, 0.00342920453226191), (3811, 0.003428687987246901), (655, 0.003427130060658445), (4356, 0.0034257527944049366), (1107, 0.0034253316223089945), (1041, 0.003423470078808213), (3071, 0.0034217909777337473), (111, 0.0034213231298955774), (2907, 0.0034208243416542937), (471, 0.003419499468473757), (3278, 0.0034162766980993606), (1667, 0.003415473113029507), (3342, 0.003414222602761802), (1693, 0.0034136133731739954), (3147, 0.0034126063190062965), (2593, 0.003412551896708745), (31, 0.0034121360873364094), (2453, 0.0034114277283508977), (659, 0.003409950074881654), (4345, 0.0034055771898598907), (1543, 0.003400622929205988), (3500, 0.0033979295210958254), (2528, 0.0033969820695313), (944, 0.0033952474082299573), (2556, 0.0033946978875129927), (3120, 0.0033914215531978082), (416, 0.0033909287408350817), (4282, 0.003384537996787223), (3742, 0.003384042650903412), (410, 0.0033828202673623054), (355, 0.003382455876181617), (1628, 0.0033814141519847374), (3705, 0.003380474580210621), (589, 0.0033779068408823685), (2674, 0.0033777717031482995), (910, 0.0033761490524318793), (744, 0.0033759808521579564), (2399, 0.003375948615139349), (3050, 0.0033753579929792473), (1079, 0.0033738054288966063), (457, 0.0033729127761908053), (3311, 0.0033718275849348046), (4479, 0.0033687155667603587), (359, 0.0033668917152327054), (4638, 0.0033648824118629184), (1462, 0.0033643100127824033), (1782, 0.0033620180449139914), (1161, 0.003361095737843456), (907, 0.0033610261347703143), (3460, 0.0033594950336784004), (558, 0.0033594351414441004), (804, 0.003358761082523088), (2845, 0.0033579601950517383), (121, 0.0033563935713802236), (3614, 0.003353683830602288), (1892, 0.0033535932240296787), (1357, 0.0033514513852147647), (604, 0.0033512691230427392), (3563, 0.0033508261707328184), (136, 0.003343925400372752), (2402, 0.0033376174412629712), (1869, 0.0033344262782667327), (1827, 0.0033321513675938154), (3474, 0.0033303571938811507), (722, 0.003330065857356616), (1964, 0.0033291593266749297), (2031, 0.0033289862642276965), (2457, 0.0033271457281490945), (1796, 0.0033268742687383467), (1065, 0.0033265886755793174), (563, 0.0033261165801492937), (4074, 0.003325558807990533), (4350, 0.0033238047244476274), (2591, 0.0033226326749302855), (594, 0.003322311147727184), (3304, 0.0033212813456078606), (2338, 0.003320656583450372), (608, 0.0033191386078984114), (4154, 0.0033189370558778034), (1219, 0.0033158355542492308), (3318, 0.003315292603546218), (2743, 0.0033152925139028505), (1719, 0.003311652386150406), (1503, 0.003310730605993667), (3027, 0.0033098151350277986), (981, 0.003308839333373717), (2741, 0.0033077057157193386), (4712, 0.0033044678653144834), (1318, 0.0033039792541371283), (3953, 0.003302407358881815), (1080, 0.0032977087056886246), (1605, 0.003292443131933979), (951, 0.0032865109180504545), (1414, 0.0032844145369855843), (184, 0.0032833836078927673), (3327, 0.003282541018304341), (3956, 0.0032816197553031056), (4143, 0.003277011101018866), (856, 0.0032751875952308314), (357, 0.0032710113518321193), (3755, 0.003270127379535433), (703, 0.0032675123692914683), (2520, 0.003261468454417381), (815, 0.0032576082027763005), (2580, 0.0032567805045285456), (495, 0.003256398272849925), (1830, 0.0032562561197937603), (1423, 0.0032556846701904704), (2724, 0.0032545242389533805), (3380, 0.0032532883473974953), (1199, 0.0032506484894413022), (1394, 0.003250503105067343), (2976, 0.00324950018164485), (605, 0.003249371160981983), (2240, 0.0032492670969235756), (200, 0.0032491470611826713), (92, 0.0032476344236845), (97, 0.0032450456678398626), (4066, 0.003240754061899357), (1608, 0.0032392904691507874), (132, 0.0032374145478449045), (4432, 0.003236950228033327), (286, 0.003234911211204053), (2502, 0.003228948441759572), (1251, 0.0032260130451519722), (1616, 0.0032228809500670047), (4247, 0.003221028528768985), (480, 0.0032169611196389645), (3569, 0.0032151407547352166), (712, 0.003210740801159154), (1217, 0.003207392958325523), (3910, 0.003203784498247342), (1943, 0.0032034238698016426), (1828, 0.003202727502326881), (3393, 0.0032026780560724167), (851, 0.0032018087829372125), (1370, 0.003201422884241601), (4429, 0.003192849605754455), (2747, 0.0031841415968796756), (4473, 0.0031822998784876715), (1088, 0.0031817999006380875), (2287, 0.0031796461420304394), (1565, 0.0031717786835972657), (2527, 0.003167310621522509), (861, 0.0031659481748844485), (103, 0.0031656869549003294), (2611, 0.003162490564586722), (642, 0.003152752043136478), (1340, 0.0031505624126255114), (626, 0.003145506703228644), (165, 0.0031326040300888327), (4411, 0.0031311285100501093), (3200, 0.0031309457694425804), (1627, 0.003129881658958042), (707, 0.0031285494520375805), (1352, 0.00312747553347528), (2758, 0.0031274136267854164), (2127, 0.0031238564330988744), (190, 0.0031220983208952576), (3669, 0.0031199181511356363), (3928, 0.003114756062458944), (3855, 0.0031118890340959674), (2771, 0.003109983192050421), (3657, 0.0031077715135496915), (617, 0.0031056370327584948), (1078, 0.003105569447010643), (267, 0.0031039786596997083), (3347, 0.003102395173578108), (4636, 0.0031007121549739346), (195, 0.0030925506740184907), (2039, 0.0030923311931930907), (2132, 0.003087387756210392), (1356, 0.0030849991359327414), (4733, 0.0030841907598617487), (3331, 0.0030821889914786483), (2355, 0.0030815605353980936), (1209, 0.0030797182167512363), (2359, 0.0030735183588496413), (16, 0.00306608522471475), (3024, 0.003055455781653479), (194, 0.0030544638735806075), (2509, 0.0030507655505213715), (3056, 0.0030443948286313686), (4626, 0.0030442075063063624), (1305, 0.003043093543765488), (3534, 0.003036233146033502), (1427, 0.003035744060566549), (2034, 0.0030222245911979357), (1415, 0.00301640090330198), (2526, 0.0030128432765512596), (2441, 0.0030098947168832393), (1624, 0.003002725765900284), (3301, 0.003000364857239182), (611, 0.0029986306220988646), (2697, 0.002998521809003517), (4311, 0.0029826024423369644), (1989, 0.0029709920601255204), (953, 0.002968662730544475), (3575, 0.0029683115153199694), (4674, 0.002960875438341696), (1303, 0.0029566584968688065), (2010, 0.002948758823194811), (2766, 0.002921556299043084), (1677, 0.002905358625208288), (571, 0.0028945796435728265), (1040, 0.0028775211999161397), (562, 0.0028711584283846706), (3199, 0.0028522888576601483), (228, 0.002836387218261541), (3626, 0.0028340199565726437), (607, 0.0028307176284486737), (453, 0.002824454449571875), (351, 0.002805240895438522), (3546, 0.0027794502899397538), (256, 0.0027422188561995646), (4752, 0.002644577101730223), (3365, 0.002629768447068813), (831, 0.002602426547560047), (4171, 0.002600105982721428), (129, 0.002590833642195761), (202, 0.002404822643045215), (2534, 0.0016593192154271254), (1, 0.0), (2, 0.0), (4, 0.0), (6, 0.0), (10, 0.0), (14, 0.0), (17, 0.0), (20, 0.0), (24, 0.0), (26, 0.0), (27, 0.0), (28, 0.0), (30, 0.0), (36, 0.0), (37, 0.0), (38, 0.0), (39, 0.0), (42, 0.0), (47, 0.0), (49, 0.0), (50, 0.0), (53, 0.0), (54, 0.0), (55, 0.0), (58, 0.0), (59, 0.0), (64, 0.0), (66, 0.0), (69, 0.0), (70, 0.0), (72, 0.0), (73, 0.0), (76, 0.0), (77, 0.0), (80, 0.0), (81, 0.0), (90, 0.0), (91, 0.0), (93, 0.0), (94, 0.0), (95, 0.0), (98, 0.0), (99, 0.0), (100, 0.0), (101, 0.0), (102, 0.0), (115, 0.0), (117, 0.0), (118, 0.0), (128, 0.0), (133, 0.0), (134, 0.0), (135, 0.0), (139, 0.0), (140, 0.0), (141, 0.0), (143, 0.0), (146, 0.0), (150, 0.0), (151, 0.0), (152, 0.0), (153, 0.0), (154, 0.0), (157, 0.0), (158, 0.0), (163, 0.0), (171, 0.0), (186, 0.0), (187, 0.0), (188, 0.0), (189, 0.0), (191, 0.0), (196, 0.0), (205, 0.0), (211, 0.0), (214, 0.0), (217, 0.0), (219, 0.0), (220, 0.0), (223, 0.0), (225, 0.0), (226, 0.0), (229, 0.0), (233, 0.0), (234, 0.0), (235, 0.0), (237, 0.0), (239, 0.0), (245, 0.0), (246, 0.0), (247, 0.0), (249, 0.0), (253, 0.0), (258, 0.0), (259, 0.0), (260, 0.0), (262, 0.0), (264, 0.0), (265, 0.0), (268, 0.0), (272, 0.0), (275, 0.0), (278, 0.0), (289, 0.0), (290, 0.0), (291, 0.0), (293, 0.0), (294, 0.0), (295, 0.0), (297, 0.0), (298, 0.0), (299, 0.0), (302, 0.0), (303, 0.0), (304, 0.0), (305, 0.0), (306, 0.0), (308, 0.0), (310, 0.0), (311, 0.0), (312, 0.0), (314, 0.0), (315, 0.0), (316, 0.0), (319, 0.0), (320, 0.0), (323, 0.0), (324, 0.0), (331, 0.0), (335, 0.0), (337, 0.0), (338, 0.0), (339, 0.0), (344, 0.0), (347, 0.0), (352, 0.0), (361, 0.0), (362, 0.0), (365, 0.0), (366, 0.0), (367, 0.0), (375, 0.0), (376, 0.0), (377, 0.0), (378, 0.0), (379, 0.0), (380, 0.0), (382, 0.0), (389, 0.0), (390, 0.0), (391, 0.0), (392, 0.0), (393, 0.0), (394, 0.0), (395, 0.0), (397, 0.0), (399, 0.0), (401, 0.0), (404, 0.0), (405, 0.0), (411, 0.0), (415, 0.0), (417, 0.0), (420, 0.0), (422, 0.0), (423, 0.0), (425, 0.0), (426, 0.0), (427, 0.0), (432, 0.0), (439, 0.0), (440, 0.0), (444, 0.0), (451, 0.0), (454, 0.0), (460, 0.0), (466, 0.0), (467, 0.0), (469, 0.0), (473, 0.0), (474, 0.0), (476, 0.0), (478, 0.0), (484, 0.0), (486, 0.0), (487, 0.0), (489, 0.0), (491, 0.0), (492, 0.0), (497, 0.0), (498, 0.0), (499, 0.0), (503, 0.0), (505, 0.0), (506, 0.0), (507, 0.0), (508, 0.0), (512, 0.0), (513, 0.0), (514, 0.0), (516, 0.0), (517, 0.0), (518, 0.0), (520, 0.0), (524, 0.0), (525, 0.0), (526, 0.0), (528, 0.0), (529, 0.0), (531, 0.0), (532, 0.0), (535, 0.0), (536, 0.0), (539, 0.0), (541, 0.0), (546, 0.0), (548, 0.0), (549, 0.0), (550, 0.0), (552, 0.0), (554, 0.0), (556, 0.0), (557, 0.0), (559, 0.0), (560, 0.0), (565, 0.0), (567, 0.0), (569, 0.0), (570, 0.0), (572, 0.0), (573, 0.0), (574, 0.0), (575, 0.0), (577, 0.0), (581, 0.0), (585, 0.0), (591, 0.0), (592, 0.0), (595, 0.0), (599, 0.0), (601, 0.0), (602, 0.0), (603, 0.0), (610, 0.0), (619, 0.0), (621, 0.0), (624, 0.0), (625, 0.0), (630, 0.0), (633, 0.0), (634, 0.0), (639, 0.0), (640, 0.0), (645, 0.0), (646, 0.0), (647, 0.0), (649, 0.0), (650, 0.0), (656, 0.0), (658, 0.0), (661, 0.0), (662, 0.0), (663, 0.0), (665, 0.0), (666, 0.0), (674, 0.0), (678, 0.0), (679, 0.0), (680, 0.0), (681, 0.0), (685, 0.0), (686, 0.0), (687, 0.0), (690, 0.0), (699, 0.0), (700, 0.0), (702, 0.0), (704, 0.0), (708, 0.0), (709, 0.0), (711, 0.0), (713, 0.0), (714, 0.0), (717, 0.0), (718, 0.0), (720, 0.0), (723, 0.0), (724, 0.0), (725, 0.0), (726, 0.0), (730, 0.0), (731, 0.0), (736, 0.0), (738, 0.0), (740, 0.0), (741, 0.0), (745, 0.0), (746, 0.0), (747, 0.0), (751, 0.0), (754, 0.0), (756, 0.0), (759, 0.0), (764, 0.0), (765, 0.0), (767, 0.0), (770, 0.0), (771, 0.0), (772, 0.0), (773, 0.0), (777, 0.0), (780, 0.0), (781, 0.0), (784, 0.0), (785, 0.0), (786, 0.0), (789, 0.0), (791, 0.0), (793, 0.0), (797, 0.0), (802, 0.0), (803, 0.0), (805, 0.0), (807, 0.0), (810, 0.0), (811, 0.0), (819, 0.0), (820, 0.0), (822, 0.0), (825, 0.0), (837, 0.0), (839, 0.0), (840, 0.0), (841, 0.0), (845, 0.0), (846, 0.0), (848, 0.0), (849, 0.0), (855, 0.0), (859, 0.0), (862, 0.0), (863, 0.0), (868, 0.0), (875, 0.0), (881, 0.0), (882, 0.0), (883, 0.0), (884, 0.0), (887, 0.0), (889, 0.0), (890, 0.0), (891, 0.0), (892, 0.0), (893, 0.0), (898, 0.0), (901, 0.0), (902, 0.0), (909, 0.0), (912, 0.0), (913, 0.0), (914, 0.0), (919, 0.0), (920, 0.0), (922, 0.0), (926, 0.0), (927, 0.0), (928, 0.0), (932, 0.0), (933, 0.0), (938, 0.0), (941, 0.0), (943, 0.0), (945, 0.0), (946, 0.0), (950, 0.0), (954, 0.0), (955, 0.0), (956, 0.0), (960, 0.0), (961, 0.0), (964, 0.0), (965, 0.0), (971, 0.0), (972, 0.0), (973, 0.0), (974, 0.0), (977, 0.0), (978, 0.0), (982, 0.0), (983, 0.0), (984, 0.0), (987, 0.0), (990, 0.0), (992, 0.0), (993, 0.0), (995, 0.0), (996, 0.0), (997, 0.0), (1004, 0.0), (1008, 0.0), (1010, 0.0), (1011, 0.0), (1013, 0.0), (1016, 0.0), (1022, 0.0), (1025, 0.0), (1028, 0.0), (1029, 0.0), (1031, 0.0), (1032, 0.0), (1036, 0.0), (1038, 0.0), (1039, 0.0), (1042, 0.0), (1047, 0.0), (1051, 0.0), (1054, 0.0), (1055, 0.0), (1056, 0.0), (1062, 0.0), (1066, 0.0), (1067, 0.0), (1072, 0.0), (1073, 0.0), (1076, 0.0), (1081, 0.0), (1082, 0.0), (1086, 0.0), (1089, 0.0), (1091, 0.0), (1092, 0.0), (1093, 0.0), (1097, 0.0), (1100, 0.0), (1101, 0.0), (1103, 0.0), (1104, 0.0), (1105, 0.0), (1106, 0.0), (1108, 0.0), (1110, 0.0), (1113, 0.0), (1117, 0.0), (1120, 0.0), (1121, 0.0), (1126, 0.0), (1127, 0.0), (1130, 0.0), (1133, 0.0), (1135, 0.0), (1139, 0.0), (1142, 0.0), (1143, 0.0), (1145, 0.0), (1147, 0.0), (1149, 0.0), (1150, 0.0), (1151, 0.0), (1153, 0.0), (1154, 0.0), (1155, 0.0), (1156, 0.0), (1158, 0.0), (1159, 0.0), (1164, 0.0), (1165, 0.0), (1166, 0.0), (1167, 0.0), (1168, 0.0), (1169, 0.0), (1171, 0.0), (1174, 0.0), (1178, 0.0), (1180, 0.0), (1189, 0.0), (1190, 0.0), (1193, 0.0), (1196, 0.0), (1197, 0.0), (1198, 0.0), (1200, 0.0), (1201, 0.0), (1204, 0.0), (1207, 0.0), (1210, 0.0), (1211, 0.0), (1212, 0.0), (1213, 0.0), (1214, 0.0), (1218, 0.0), (1221, 0.0), (1222, 0.0), (1227, 0.0), (1228, 0.0), (1233, 0.0), (1235, 0.0), (1240, 0.0), (1242, 0.0), (1244, 0.0), (1246, 0.0), (1253, 0.0), (1256, 0.0), (1258, 0.0), (1259, 0.0), (1260, 0.0), (1263, 0.0), (1265, 0.0), (1268, 0.0), (1269, 0.0), (1271, 0.0), (1277, 0.0), (1280, 0.0), (1281, 0.0), (1282, 0.0), (1284, 0.0), (1285, 0.0), (1287, 0.0), (1288, 0.0), (1289, 0.0), (1291, 0.0), (1294, 0.0), (1295, 0.0), (1296, 0.0), (1297, 0.0), (1298, 0.0), (1299, 0.0), (1301, 0.0), (1304, 0.0), (1309, 0.0), (1315, 0.0), (1319, 0.0), (1321, 0.0), (1322, 0.0), (1323, 0.0), (1326, 0.0), (1328, 0.0), (1330, 0.0), (1332, 0.0), (1333, 0.0), (1336, 0.0), (1344, 0.0), (1346, 0.0), (1347, 0.0), (1353, 0.0), (1354, 0.0), (1355, 0.0), (1362, 0.0), (1363, 0.0), (1366, 0.0), (1368, 0.0), (1373, 0.0), (1380, 0.0), (1381, 0.0), (1390, 0.0), (1391, 0.0), (1392, 0.0), (1395, 0.0), (1399, 0.0), (1402, 0.0), (1404, 0.0), (1409, 0.0), (1411, 0.0), (1416, 0.0), (1424, 0.0), (1426, 0.0), (1428, 0.0), (1431, 0.0), (1433, 0.0), (1434, 0.0), (1435, 0.0), (1437, 0.0), (1439, 0.0), (1441, 0.0), (1444, 0.0), (1447, 0.0), (1449, 0.0), (1450, 0.0), (1451, 0.0), (1452, 0.0), (1456, 0.0), (1457, 0.0), (1458, 0.0), (1459, 0.0), (1460, 0.0), (1466, 0.0), (1467, 0.0), (1468, 0.0), (1469, 0.0), (1470, 0.0), (1473, 0.0), (1479, 0.0), (1480, 0.0), (1484, 0.0), (1485, 0.0), (1487, 0.0), (1490, 0.0), (1491, 0.0), (1495, 0.0), (1496, 0.0), (1497, 0.0), (1502, 0.0), (1504, 0.0), (1507, 0.0), (1508, 0.0), (1511, 0.0), (1516, 0.0), (1517, 0.0), (1520, 0.0), (1521, 0.0), (1522, 0.0), (1524, 0.0), (1525, 0.0), (1528, 0.0), (1529, 0.0), (1531, 0.0), (1532, 0.0), (1534, 0.0), (1535, 0.0), (1536, 0.0), (1540, 0.0), (1541, 0.0), (1545, 0.0), (1546, 0.0), (1548, 0.0), (1549, 0.0), (1550, 0.0), (1554, 0.0), (1555, 0.0), (1556, 0.0), (1557, 0.0), (1559, 0.0), (1561, 0.0), (1562, 0.0), (1563, 0.0), (1564, 0.0), (1566, 0.0), (1569, 0.0), (1573, 0.0), (1574, 0.0), (1575, 0.0), (1576, 0.0), (1577, 0.0), (1578, 0.0), (1580, 0.0), (1581, 0.0), (1584, 0.0), (1586, 0.0), (1587, 0.0), (1588, 0.0), (1589, 0.0), (1590, 0.0), (1592, 0.0), (1593, 0.0), (1594, 0.0), (1596, 0.0), (1599, 0.0), (1600, 0.0), (1601, 0.0), (1602, 0.0), (1603, 0.0), (1604, 0.0), (1606, 0.0), (1607, 0.0), (1610, 0.0), (1611, 0.0), (1613, 0.0), (1614, 0.0), (1615, 0.0), (1617, 0.0), (1618, 0.0), (1622, 0.0), (1623, 0.0), (1625, 0.0), (1626, 0.0), (1631, 0.0), (1632, 0.0), (1633, 0.0), (1635, 0.0), (1636, 0.0), (1637, 0.0), (1638, 0.0), (1639, 0.0), (1640, 0.0), (1641, 0.0), (1642, 0.0), (1646, 0.0), (1649, 0.0), (1651, 0.0), (1656, 0.0), (1659, 0.0), (1660, 0.0), (1661, 0.0), (1663, 0.0), (1668, 0.0), (1669, 0.0), (1670, 0.0), (1672, 0.0), (1673, 0.0), (1679, 0.0), (1681, 0.0), (1683, 0.0), (1686, 0.0), (1689, 0.0), (1691, 0.0), (1697, 0.0), (1698, 0.0), (1699, 0.0), (1700, 0.0), (1704, 0.0), (1709, 0.0), (1724, 0.0), (1725, 0.0), (1726, 0.0), (1728, 0.0), (1729, 0.0), (1731, 0.0), (1732, 0.0), (1733, 0.0), (1734, 0.0), (1738, 0.0), (1742, 0.0), (1745, 0.0), (1751, 0.0), (1753, 0.0), (1755, 0.0), (1756, 0.0), (1758, 0.0), (1765, 0.0), (1766, 0.0), (1767, 0.0), (1769, 0.0), (1771, 0.0), (1772, 0.0), (1775, 0.0), (1777, 0.0), (1778, 0.0), (1780, 0.0), (1781, 0.0), (1783, 0.0), (1784, 0.0), (1785, 0.0), (1786, 0.0), (1789, 0.0), (1791, 0.0), (1792, 0.0), (1794, 0.0), (1800, 0.0), (1801, 0.0), (1803, 0.0), (1804, 0.0), (1805, 0.0), (1808, 0.0), (1810, 0.0), (1811, 0.0), (1814, 0.0), (1820, 0.0), (1823, 0.0), (1824, 0.0), (1825, 0.0), (1826, 0.0), (1829, 0.0), (1831, 0.0), (1834, 0.0), (1835, 0.0), (1836, 0.0), (1839, 0.0), (1840, 0.0), (1842, 0.0), (1844, 0.0), (1846, 0.0), (1848, 0.0), (1855, 0.0), (1856, 0.0), (1857, 0.0), (1859, 0.0), (1862, 0.0), (1877, 0.0), (1879, 0.0), (1881, 0.0), (1883, 0.0), (1887, 0.0), (1888, 0.0), (1889, 0.0), (1890, 0.0), (1894, 0.0), (1898, 0.0), (1899, 0.0), (1900, 0.0), (1901, 0.0), (1904, 0.0), (1910, 0.0), (1912, 0.0), (1914, 0.0), (1915, 0.0), (1917, 0.0), (1921, 0.0), (1925, 0.0), (1926, 0.0), (1928, 0.0), (1929, 0.0), (1930, 0.0), (1932, 0.0), (1933, 0.0), (1938, 0.0), (1939, 0.0), (1940, 0.0), (1941, 0.0), (1944, 0.0), (1952, 0.0), (1953, 0.0), (1954, 0.0), (1955, 0.0), (1956, 0.0), (1958, 0.0), (1959, 0.0), (1961, 0.0), (1962, 0.0), (1963, 0.0), (1965, 0.0), (1966, 0.0), (1972, 0.0), (1974, 0.0), (1975, 0.0), (1978, 0.0), (1979, 0.0), (1980, 0.0), (1981, 0.0), (1984, 0.0), (1987, 0.0), (1991, 0.0), (1993, 0.0), (1998, 0.0), (2001, 0.0), (2002, 0.0), (2003, 0.0), (2006, 0.0), (2007, 0.0), (2009, 0.0), (2015, 0.0), (2017, 0.0), (2019, 0.0), (2021, 0.0), (2025, 0.0), (2028, 0.0), (2030, 0.0), (2032, 0.0), (2033, 0.0), (2036, 0.0), (2038, 0.0), (2041, 0.0), (2042, 0.0), (2043, 0.0), (2044, 0.0), (2046, 0.0), (2047, 0.0), (2050, 0.0), (2054, 0.0), (2057, 0.0), (2059, 0.0), (2060, 0.0), (2063, 0.0), (2066, 0.0), (2071, 0.0), (2072, 0.0), (2077, 0.0), (2078, 0.0), (2079, 0.0), (2081, 0.0), (2084, 0.0), (2085, 0.0), (2086, 0.0), (2090, 0.0), (2092, 0.0), (2099, 0.0), (2106, 0.0), (2107, 0.0), (2111, 0.0), (2115, 0.0), (2118, 0.0), (2120, 0.0), (2124, 0.0), (2125, 0.0), (2128, 0.0), (2129, 0.0), (2130, 0.0), (2135, 0.0), (2136, 0.0), (2138, 0.0), (2139, 0.0), (2140, 0.0), (2141, 0.0), (2142, 0.0), (2146, 0.0), (2147, 0.0), (2148, 0.0), (2150, 0.0), (2152, 0.0), (2153, 0.0), (2158, 0.0), (2163, 0.0), (2164, 0.0), (2165, 0.0), (2166, 0.0), (2168, 0.0), (2170, 0.0), (2171, 0.0), (2172, 0.0), (2178, 0.0), (2179, 0.0), (2180, 0.0), (2181, 0.0), (2182, 0.0), (2183, 0.0), (2184, 0.0), (2186, 0.0), (2187, 0.0), (2189, 0.0), (2190, 0.0), (2192, 0.0), (2194, 0.0), (2200, 0.0), (2204, 0.0), (2208, 0.0), (2213, 0.0), (2215, 0.0), (2217, 0.0), (2218, 0.0), (2219, 0.0), (2220, 0.0), (2222, 0.0), (2225, 0.0), (2227, 0.0), (2228, 0.0), (2231, 0.0), (2232, 0.0), (2233, 0.0), (2234, 0.0), (2238, 0.0), (2241, 0.0), (2243, 0.0), (2245, 0.0), (2246, 0.0), (2247, 0.0), (2249, 0.0), (2253, 0.0), (2256, 0.0), (2259, 0.0), (2261, 0.0), (2262, 0.0), (2263, 0.0), (2267, 0.0), (2268, 0.0), (2270, 0.0), (2271, 0.0), (2272, 0.0), (2273, 0.0), (2274, 0.0), (2278, 0.0), (2281, 0.0), (2282, 0.0), (2283, 0.0), (2292, 0.0), (2293, 0.0), (2296, 0.0), (2297, 0.0), (2300, 0.0), (2304, 0.0), (2305, 0.0), (2307, 0.0), (2308, 0.0), (2310, 0.0), (2311, 0.0), (2312, 0.0), (2314, 0.0), (2315, 0.0), (2317, 0.0), (2322, 0.0), (2323, 0.0), (2324, 0.0), (2325, 0.0), (2326, 0.0), (2327, 0.0), (2328, 0.0), (2329, 0.0), (2330, 0.0), (2331, 0.0), (2332, 0.0), (2333, 0.0), (2336, 0.0), (2337, 0.0), (2340, 0.0), (2341, 0.0), (2342, 0.0), (2345, 0.0), (2351, 0.0), (2352, 0.0), (2354, 0.0), (2356, 0.0), (2357, 0.0), (2360, 0.0), (2364, 0.0), (2369, 0.0), (2370, 0.0), (2372, 0.0), (2373, 0.0), (2377, 0.0), (2378, 0.0), (2380, 0.0), (2381, 0.0), (2382, 0.0), (2384, 0.0), (2385, 0.0), (2387, 0.0), (2389, 0.0), (2395, 0.0), (2396, 0.0), (2398, 0.0), (2401, 0.0), (2409, 0.0), (2410, 0.0), (2414, 0.0), (2416, 0.0), (2419, 0.0), (2420, 0.0), (2424, 0.0), (2429, 0.0), (2431, 0.0), (2432, 0.0), (2433, 0.0), (2435, 0.0), (2442, 0.0), (2445, 0.0), (2446, 0.0), (2450, 0.0), (2451, 0.0), (2452, 0.0), (2455, 0.0), (2456, 0.0), (2458, 0.0), (2462, 0.0), (2465, 0.0), (2470, 0.0), (2471, 0.0), (2472, 0.0), (2479, 0.0), (2483, 0.0), (2485, 0.0), (2491, 0.0), (2493, 0.0), (2495, 0.0), (2497, 0.0), (2498, 0.0), (2499, 0.0), (2500, 0.0), (2504, 0.0), (2506, 0.0), (2507, 0.0), (2508, 0.0), (2511, 0.0), (2514, 0.0), (2515, 0.0), (2516, 0.0), (2518, 0.0), (2519, 0.0), (2521, 0.0), (2523, 0.0), (2525, 0.0), (2532, 0.0), (2533, 0.0), (2536, 0.0), (2537, 0.0), (2539, 0.0), (2541, 0.0), (2542, 0.0), (2543, 0.0), (2544, 0.0), (2547, 0.0), (2548, 0.0), (2549, 0.0), (2551, 0.0), (2552, 0.0), (2557, 0.0), (2562, 0.0), (2564, 0.0), (2566, 0.0), (2567, 0.0), (2571, 0.0), (2573, 0.0), (2574, 0.0), (2575, 0.0), (2576, 0.0), (2577, 0.0), (2578, 0.0), (2583, 0.0), (2584, 0.0), (2585, 0.0), (2586, 0.0), (2588, 0.0), (2589, 0.0), (2590, 0.0), (2594, 0.0), (2595, 0.0), (2596, 0.0), (2597, 0.0), (2599, 0.0), (2600, 0.0), (2604, 0.0), (2605, 0.0), (2608, 0.0), (2610, 0.0), (2613, 0.0), (2615, 0.0), (2616, 0.0), (2619, 0.0), (2620, 0.0), (2624, 0.0), (2626, 0.0), (2627, 0.0), (2628, 0.0), (2631, 0.0), (2635, 0.0), (2636, 0.0), (2637, 0.0), (2641, 0.0), (2648, 0.0), (2651, 0.0), (2656, 0.0), (2657, 0.0), (2658, 0.0), (2659, 0.0), (2662, 0.0), (2663, 0.0), (2666, 0.0), (2667, 0.0), (2669, 0.0), (2670, 0.0), (2671, 0.0), (2672, 0.0), (2675, 0.0), (2676, 0.0), (2677, 0.0), (2679, 0.0), (2681, 0.0), (2682, 0.0), (2683, 0.0), (2684, 0.0), (2685, 0.0), (2686, 0.0), (2690, 0.0), (2693, 0.0), (2700, 0.0), (2701, 0.0), (2703, 0.0), (2704, 0.0), (2709, 0.0), (2711, 0.0), (2715, 0.0), (2717, 0.0), (2719, 0.0), (2720, 0.0), (2721, 0.0), (2722, 0.0), (2725, 0.0), (2728, 0.0), (2729, 0.0), (2730, 0.0), (2733, 0.0), (2734, 0.0), (2735, 0.0), (2737, 0.0), (2738, 0.0), (2749, 0.0), (2750, 0.0), (2753, 0.0), (2754, 0.0), (2756, 0.0), (2763, 0.0), (2765, 0.0), (2770, 0.0), (2773, 0.0), (2781, 0.0), (2783, 0.0), (2785, 0.0), (2786, 0.0), (2787, 0.0), (2788, 0.0), (2790, 0.0), (2792, 0.0), (2793, 0.0), (2794, 0.0), (2799, 0.0), (2801, 0.0), (2804, 0.0), (2806, 0.0), (2810, 0.0), (2811, 0.0), (2813, 0.0), (2814, 0.0), (2815, 0.0), (2817, 0.0), (2818, 0.0), (2819, 0.0), (2824, 0.0), (2825, 0.0), (2826, 0.0), (2827, 0.0), (2828, 0.0), (2829, 0.0), (2833, 0.0), (2835, 0.0), (2836, 0.0), (2837, 0.0), (2839, 0.0), (2842, 0.0), (2846, 0.0), (2847, 0.0), (2850, 0.0), (2851, 0.0), (2852, 0.0), (2853, 0.0), (2855, 0.0), (2856, 0.0), (2860, 0.0), (2861, 0.0), (2863, 0.0), (2864, 0.0), (2865, 0.0), (2866, 0.0), (2875, 0.0), (2877, 0.0), (2880, 0.0), (2882, 0.0), (2884, 0.0), (2891, 0.0), (2895, 0.0), (2896, 0.0), (2898, 0.0), (2900, 0.0), (2902, 0.0), (2905, 0.0), (2906, 0.0), (2909, 0.0), (2921, 0.0), (2922, 0.0), (2923, 0.0), (2927, 0.0), (2928, 0.0), (2930, 0.0), (2937, 0.0), (2938, 0.0), (2940, 0.0), (2941, 0.0), (2947, 0.0), (2948, 0.0), (2951, 0.0), (2952, 0.0), (2953, 0.0), (2954, 0.0), (2955, 0.0), (2956, 0.0), (2958, 0.0), (2959, 0.0), (2960, 0.0), (2962, 0.0), (2963, 0.0), (2967, 0.0), (2968, 0.0), (2970, 0.0), (2973, 0.0), (2979, 0.0), (2982, 0.0), (2983, 0.0), (2984, 0.0), (2987, 0.0), (2990, 0.0), (2991, 0.0), (2993, 0.0), (2994, 0.0), (2997, 0.0), (3001, 0.0), (3002, 0.0), (3003, 0.0), (3005, 0.0), (3006, 0.0), (3007, 0.0), (3009, 0.0), (3011, 0.0), (3016, 0.0), (3020, 0.0), (3021, 0.0), (3022, 0.0), (3025, 0.0), (3026, 0.0), (3029, 0.0), (3031, 0.0), (3034, 0.0), (3038, 0.0), (3041, 0.0), (3042, 0.0), (3047, 0.0), (3048, 0.0), (3049, 0.0), (3054, 0.0), (3055, 0.0), (3057, 0.0), (3058, 0.0), (3059, 0.0), (3060, 0.0), (3061, 0.0), (3063, 0.0), (3064, 0.0), (3069, 0.0), (3073, 0.0), (3077, 0.0), (3078, 0.0), (3079, 0.0), (3080, 0.0), (3082, 0.0), (3084, 0.0), (3087, 0.0), (3088, 0.0), (3089, 0.0), (3090, 0.0), (3092, 0.0), (3093, 0.0), (3100, 0.0), (3101, 0.0), (3103, 0.0), (3104, 0.0), (3105, 0.0), (3106, 0.0), (3107, 0.0), (3109, 0.0), (3113, 0.0), (3115, 0.0), (3117, 0.0), (3121, 0.0), (3124, 0.0), (3126, 0.0), (3128, 0.0), (3130, 0.0), (3131, 0.0), (3132, 0.0), (3133, 0.0), (3134, 0.0), (3135, 0.0), (3136, 0.0), (3138, 0.0), (3139, 0.0), (3141, 0.0), (3143, 0.0), (3145, 0.0), (3149, 0.0), (3150, 0.0), (3158, 0.0), (3159, 0.0), (3160, 0.0), (3161, 0.0), (3162, 0.0), (3163, 0.0), (3168, 0.0), (3169, 0.0), (3172, 0.0), (3173, 0.0), (3175, 0.0), (3176, 0.0), (3177, 0.0), (3179, 0.0), (3180, 0.0), (3181, 0.0), (3185, 0.0), (3186, 0.0), (3188, 0.0), (3189, 0.0), (3190, 0.0), (3191, 0.0), (3193, 0.0), (3197, 0.0), (3201, 0.0), (3202, 0.0), (3204, 0.0), (3206, 0.0), (3207, 0.0), (3208, 0.0), (3211, 0.0), (3212, 0.0), (3216, 0.0), (3217, 0.0), (3221, 0.0), (3223, 0.0), (3224, 0.0), (3225, 0.0), (3229, 0.0), (3230, 0.0), (3231, 0.0), (3236, 0.0), (3238, 0.0), (3239, 0.0), (3242, 0.0), (3243, 0.0), (3247, 0.0), (3250, 0.0), (3251, 0.0), (3252, 0.0), (3261, 0.0), (3263, 0.0), (3266, 0.0), (3269, 0.0), (3270, 0.0), (3271, 0.0), (3272, 0.0), (3277, 0.0), (3281, 0.0), (3283, 0.0), (3286, 0.0), (3287, 0.0), (3289, 0.0), (3290, 0.0), (3292, 0.0), (3305, 0.0), (3307, 0.0), (3310, 0.0), (3320, 0.0), (3321, 0.0), (3323, 0.0), (3324, 0.0), (3332, 0.0), (3333, 0.0), (3335, 0.0), (3336, 0.0), (3337, 0.0), (3338, 0.0), (3339, 0.0), (3340, 0.0), (3341, 0.0), (3343, 0.0), (3348, 0.0), (3350, 0.0), (3354, 0.0), (3358, 0.0), (3361, 0.0), (3366, 0.0), (3367, 0.0), (3368, 0.0), (3369, 0.0), (3371, 0.0), (3372, 0.0), (3378, 0.0), (3381, 0.0), (3383, 0.0), (3390, 0.0), (3392, 0.0), (3394, 0.0), (3397, 0.0), (3398, 0.0), (3400, 0.0), (3401, 0.0), (3404, 0.0), (3405, 0.0), (3411, 0.0), (3412, 0.0), (3414, 0.0), (3415, 0.0), (3419, 0.0), (3422, 0.0), (3424, 0.0), (3429, 0.0), (3431, 0.0), (3432, 0.0), (3434, 0.0), (3438, 0.0), (3439, 0.0), (3440, 0.0), (3441, 0.0), (3442, 0.0), (3443, 0.0), (3444, 0.0), (3448, 0.0), (3451, 0.0), (3452, 0.0), (3454, 0.0), (3455, 0.0), (3459, 0.0), (3461, 0.0), (3464, 0.0), (3467, 0.0), (3468, 0.0), (3472, 0.0), (3473, 0.0), (3475, 0.0), (3476, 0.0), (3478, 0.0), (3481, 0.0), (3482, 0.0), (3484, 0.0), (3485, 0.0), (3489, 0.0), (3490, 0.0), (3491, 0.0), (3494, 0.0), (3495, 0.0), (3497, 0.0), (3499, 0.0), (3502, 0.0), (3505, 0.0), (3507, 0.0), (3510, 0.0), (3513, 0.0), (3514, 0.0), (3517, 0.0), (3519, 0.0), (3520, 0.0), (3522, 0.0), (3525, 0.0), (3529, 0.0), (3530, 0.0), (3531, 0.0), (3532, 0.0), (3533, 0.0), (3537, 0.0), (3538, 0.0), (3539, 0.0), (3540, 0.0), (3543, 0.0), (3544, 0.0), (3545, 0.0), (3547, 0.0), (3548, 0.0), (3549, 0.0), (3550, 0.0), (3554, 0.0), (3555, 0.0), (3561, 0.0), (3562, 0.0), (3565, 0.0), (3567, 0.0), (3568, 0.0), (3570, 0.0), (3576, 0.0), (3578, 0.0), (3581, 0.0), (3583, 0.0), (3584, 0.0), (3585, 0.0), (3587, 0.0), (3588, 0.0), (3589, 0.0), (3591, 0.0), (3592, 0.0), (3593, 0.0), (3595, 0.0), (3600, 0.0), (3602, 0.0), (3603, 0.0), (3604, 0.0), (3606, 0.0), (3607, 0.0), (3608, 0.0), (3609, 0.0), (3610, 0.0), (3611, 0.0), (3615, 0.0), (3617, 0.0), (3619, 0.0), (3621, 0.0), (3622, 0.0), (3625, 0.0), (3627, 0.0), (3628, 0.0), (3631, 0.0), (3633, 0.0), (3636, 0.0), (3644, 0.0), (3647, 0.0), (3649, 0.0), (3650, 0.0), (3658, 0.0), (3662, 0.0), (3663, 0.0), (3664, 0.0), (3668, 0.0), (3671, 0.0), (3672, 0.0), (3674, 0.0), (3676, 0.0), (3677, 0.0), (3678, 0.0), (3679, 0.0), (3681, 0.0), (3682, 0.0), (3683, 0.0), (3685, 0.0), (3686, 0.0), (3687, 0.0), (3690, 0.0), (3691, 0.0), (3693, 0.0), (3695, 0.0), (3697, 0.0), (3698, 0.0), (3700, 0.0), (3702, 0.0), (3703, 0.0), (3709, 0.0), (3710, 0.0), (3712, 0.0), (3714, 0.0), (3715, 0.0), (3716, 0.0), (3717, 0.0), (3718, 0.0), (3719, 0.0), (3721, 0.0), (3722, 0.0), (3723, 0.0), (3724, 0.0), (3725, 0.0), (3726, 0.0), (3729, 0.0), (3730, 0.0), (3732, 0.0), (3735, 0.0), (3736, 0.0), (3737, 0.0), (3738, 0.0), (3740, 0.0), (3743, 0.0), (3744, 0.0), (3757, 0.0), (3758, 0.0), (3759, 0.0), (3760, 0.0), (3761, 0.0), (3764, 0.0), (3768, 0.0), (3769, 0.0), (3770, 0.0), (3774, 0.0), (3775, 0.0), (3776, 0.0), (3781, 0.0), (3782, 0.0), (3783, 0.0), (3785, 0.0), (3786, 0.0), (3787, 0.0), (3788, 0.0), (3789, 0.0), (3790, 0.0), (3791, 0.0), (3792, 0.0), (3795, 0.0), (3796, 0.0), (3798, 0.0), (3800, 0.0), (3802, 0.0), (3803, 0.0), (3805, 0.0), (3806, 0.0), (3808, 0.0), (3812, 0.0), (3815, 0.0), (3816, 0.0), (3817, 0.0), (3818, 0.0), (3820, 0.0), (3823, 0.0), (3824, 0.0), (3830, 0.0), (3831, 0.0), (3833, 0.0), (3834, 0.0), (3836, 0.0), (3837, 0.0), (3838, 0.0), (3840, 0.0), (3841, 0.0), (3843, 0.0), (3844, 0.0), (3846, 0.0), (3847, 0.0), (3848, 0.0), (3849, 0.0), (3851, 0.0), (3856, 0.0), (3858, 0.0), (3859, 0.0), (3863, 0.0), (3869, 0.0), (3870, 0.0), (3874, 0.0), (3877, 0.0), (3878, 0.0), (3879, 0.0), (3881, 0.0), (3885, 0.0), (3886, 0.0), (3887, 0.0), (3889, 0.0), (3894, 0.0), (3896, 0.0), (3897, 0.0), (3899, 0.0), (3905, 0.0), (3906, 0.0), (3907, 0.0), (3908, 0.0), (3911, 0.0), (3912, 0.0), (3914, 0.0), (3918, 0.0), (3921, 0.0), (3929, 0.0), (3930, 0.0), (3931, 0.0), (3933, 0.0), (3935, 0.0), (3936, 0.0), (3937, 0.0), (3938, 0.0), (3942, 0.0), (3943, 0.0), (3944, 0.0), (3948, 0.0), (3950, 0.0), (3964, 0.0), (3965, 0.0), (3966, 0.0), (3967, 0.0), (3968, 0.0), (3969, 0.0), (3970, 0.0), (3971, 0.0), (3972, 0.0), (3975, 0.0), (3977, 0.0), (3979, 0.0), (3980, 0.0), (3981, 0.0), (3982, 0.0), (3985, 0.0), (3986, 0.0), (3987, 0.0), (3988, 0.0), (3989, 0.0), (3991, 0.0), (3994, 0.0), (3995, 0.0), (3996, 0.0), (3997, 0.0), (4002, 0.0), (4003, 0.0), (4006, 0.0), (4010, 0.0), (4013, 0.0), (4015, 0.0), (4017, 0.0), (4018, 0.0), (4019, 0.0), (4021, 0.0), (4022, 0.0), (4026, 0.0), (4027, 0.0), (4029, 0.0), (4031, 0.0), (4034, 0.0), (4037, 0.0), (4039, 0.0), (4040, 0.0), (4041, 0.0), (4042, 0.0), (4043, 0.0), (4044, 0.0), (4045, 0.0), (4047, 0.0), (4049, 0.0), (4058, 0.0), (4059, 0.0), (4063, 0.0), (4065, 0.0), (4067, 0.0), (4070, 0.0), (4071, 0.0), (4072, 0.0), (4073, 0.0), (4075, 0.0), (4076, 0.0), (4078, 0.0), (4080, 0.0), (4083, 0.0), (4084, 0.0), (4086, 0.0), (4089, 0.0), (4090, 0.0), (4091, 0.0), (4093, 0.0), (4094, 0.0), (4097, 0.0), (4100, 0.0), (4102, 0.0), (4103, 0.0), (4105, 0.0), (4108, 0.0), (4109, 0.0), (4112, 0.0), (4114, 0.0), (4115, 0.0), (4119, 0.0), (4120, 0.0), (4125, 0.0), (4126, 0.0), (4127, 0.0), (4129, 0.0), (4131, 0.0), (4132, 0.0), (4136, 0.0), (4139, 0.0), (4140, 0.0), (4142, 0.0), (4144, 0.0), (4145, 0.0), (4146, 0.0), (4147, 0.0), (4148, 0.0), (4150, 0.0), (4153, 0.0), (4155, 0.0), (4157, 0.0), (4159, 0.0), (4161, 0.0), (4162, 0.0), (4166, 0.0), (4167, 0.0), (4168, 0.0), (4170, 0.0), (4173, 0.0), (4174, 0.0), (4179, 0.0), (4180, 0.0), (4181, 0.0), (4185, 0.0), (4186, 0.0), (4188, 0.0), (4190, 0.0), (4191, 0.0), (4193, 0.0), (4194, 0.0), (4197, 0.0), (4198, 0.0), (4199, 0.0), (4200, 0.0), (4201, 0.0), (4204, 0.0), (4206, 0.0), (4207, 0.0), (4208, 0.0), (4211, 0.0), (4212, 0.0), (4213, 0.0), (4214, 0.0), (4215, 0.0), (4218, 0.0), (4219, 0.0), (4220, 0.0), (4223, 0.0), (4224, 0.0), (4228, 0.0), (4229, 0.0), (4234, 0.0), (4237, 0.0), (4238, 0.0), (4239, 0.0), (4240, 0.0), (4241, 0.0), (4245, 0.0), (4248, 0.0), (4250, 0.0), (4251, 0.0), (4253, 0.0), (4254, 0.0), (4256, 0.0), (4258, 0.0), (4260, 0.0), (4262, 0.0), (4264, 0.0), (4265, 0.0), (4267, 0.0), (4270, 0.0), (4271, 0.0), (4273, 0.0), (4274, 0.0), (4275, 0.0), (4276, 0.0), (4277, 0.0), (4278, 0.0), (4279, 0.0), (4280, 0.0), (4285, 0.0), (4289, 0.0), (4290, 0.0), (4291, 0.0), (4292, 0.0), (4296, 0.0), (4297, 0.0), (4298, 0.0), (4299, 0.0), (4300, 0.0), (4301, 0.0), (4302, 0.0), (4304, 0.0), (4305, 0.0), (4306, 0.0), (4307, 0.0), (4308, 0.0), (4310, 0.0), (4312, 0.0), (4313, 0.0), (4315, 0.0), (4316, 0.0), (4317, 0.0), (4318, 0.0), (4319, 0.0), (4320, 0.0), (4322, 0.0), (4323, 0.0), (4324, 0.0), (4326, 0.0), (4327, 0.0), (4328, 0.0), (4329, 0.0), (4331, 0.0), (4332, 0.0), (4338, 0.0), (4339, 0.0), (4340, 0.0), (4341, 0.0), (4343, 0.0), (4346, 0.0), (4347, 0.0), (4348, 0.0), (4352, 0.0), (4353, 0.0), (4355, 0.0), (4358, 0.0), (4359, 0.0), (4360, 0.0), (4361, 0.0), (4363, 0.0), (4364, 0.0), (4365, 0.0), (4370, 0.0), (4372, 0.0), (4376, 0.0), (4377, 0.0), (4381, 0.0), (4383, 0.0), (4384, 0.0), (4386, 0.0), (4390, 0.0), (4391, 0.0), (4392, 0.0), (4393, 0.0), (4397, 0.0), (4400, 0.0), (4404, 0.0), (4405, 0.0), (4406, 0.0), (4408, 0.0), (4409, 0.0), (4410, 0.0), (4413, 0.0), (4414, 0.0), (4415, 0.0), (4416, 0.0), (4417, 0.0), (4418, 0.0), (4421, 0.0), (4424, 0.0), (4425, 0.0), (4426, 0.0), (4427, 0.0), (4428, 0.0), (4431, 0.0), (4433, 0.0), (4434, 0.0), (4437, 0.0), (4438, 0.0), (4439, 0.0), (4441, 0.0), (4445, 0.0), (4447, 0.0), (4449, 0.0), (4451, 0.0), (4453, 0.0), (4454, 0.0), (4455, 0.0), (4457, 0.0), (4460, 0.0), (4461, 0.0), (4462, 0.0), (4463, 0.0), (4464, 0.0), (4468, 0.0), (4471, 0.0), (4476, 0.0), (4478, 0.0), (4480, 0.0), (4483, 0.0), (4485, 0.0), (4491, 0.0), (4493, 0.0), (4495, 0.0), (4496, 0.0), (4497, 0.0), (4498, 0.0), (4499, 0.0), (4500, 0.0), (4505, 0.0), (4506, 0.0), (4508, 0.0), (4509, 0.0), (4513, 0.0), (4514, 0.0), (4515, 0.0), (4518, 0.0), (4519, 0.0), (4525, 0.0), (4526, 0.0), (4527, 0.0), (4529, 0.0), (4532, 0.0), (4537, 0.0), (4539, 0.0), (4541, 0.0), (4542, 0.0), (4543, 0.0), (4544, 0.0), (4545, 0.0), (4547, 0.0), (4549, 0.0), (4550, 0.0), (4552, 0.0), (4556, 0.0), (4558, 0.0), (4559, 0.0), (4560, 0.0), (4561, 0.0), (4562, 0.0), (4565, 0.0), (4567, 0.0), (4568, 0.0), (4569, 0.0), (4570, 0.0), (4574, 0.0), (4577, 0.0), (4578, 0.0), (4579, 0.0), (4580, 0.0), (4582, 0.0), (4584, 0.0), (4585, 0.0), (4586, 0.0), (4587, 0.0), (4592, 0.0), (4595, 0.0), (4597, 0.0), (4598, 0.0), (4599, 0.0), (4600, 0.0), (4604, 0.0), (4606, 0.0), (4609, 0.0), (4611, 0.0), (4612, 0.0), (4613, 0.0), (4615, 0.0), (4616, 0.0), (4618, 0.0), (4620, 0.0), (4621, 0.0), (4622, 0.0), (4628, 0.0), (4630, 0.0), (4631, 0.0), (4633, 0.0), (4634, 0.0), (4635, 0.0), (4639, 0.0), (4642, 0.0), (4644, 0.0), (4646, 0.0), (4647, 0.0), (4648, 0.0), (4651, 0.0), (4653, 0.0), (4654, 0.0), (4655, 0.0), (4661, 0.0), (4662, 0.0), (4664, 0.0), (4665, 0.0), (4666, 0.0), (4667, 0.0), (4671, 0.0), (4672, 0.0), (4675, 0.0), (4676, 0.0), (4677, 0.0), (4678, 0.0), (4680, 0.0), (4681, 0.0), (4683, 0.0), (4686, 0.0), (4687, 0.0), (4688, 0.0), (4689, 0.0), (4690, 0.0), (4691, 0.0), (4692, 0.0), (4694, 0.0), (4696, 0.0), (4697, 0.0), (4698, 0.0), (4700, 0.0), (4702, 0.0), (4705, 0.0), (4708, 0.0), (4711, 0.0), (4714, 0.0), (4715, 0.0), (4716, 0.0), (4720, 0.0), (4725, 0.0), (4728, 0.0), (4729, 0.0), (4730, 0.0), (4732, 0.0), (4736, 0.0), (4737, 0.0), (4740, 0.0), (4741, 0.0), (4742, 0.0), (4743, 0.0), (4744, 0.0), (4745, 0.0), (4746, 0.0), (4749, 0.0), (4750, 0.0), (4751, 0.0), (4754, 0.0), (4755, 0.0), (4757, 0.0), (4758, 0.0), (4759, 0.0)]\n"
          ]
        }
      ]
    },
    {
      "cell_type": "markdown",
      "source": [
        "Printed Name of Similar Movies Based on Index"
      ],
      "metadata": {
        "id": "rxJFSCGRZcVt"
      }
    },
    {
      "cell_type": "code",
      "source": [
        "i=1\n",
        "for movie in Sorted_Similar_Movies:\n",
        "  index=movie[0]\n",
        "  title_from_index= df[df.index==index]['Movie_Title'].values[0]\n",
        "\n",
        "  if(i<30):\n",
        "    print(i,'.',title_from_index)\n",
        "    i+=1"
      ],
      "metadata": {
        "colab": {
          "base_uri": "https://localhost:8080/"
        },
        "id": "prpX-E__ZhvN",
        "outputId": "dbf29068-8d6b-43e3-cc8e-c0b1bc438a37"
      },
      "execution_count": 32,
      "outputs": [
        {
          "output_type": "stream",
          "name": "stdout",
          "text": [
            "1 . Niagara\n",
            "2 . Caravans\n",
            "3 . Brokeback Mountain\n",
            "4 . My Week with Marilyn\n",
            "5 . Night of the Living Dead\n",
            "6 . The Boy Next Door\n",
            "7 . The Kentucky Fried Movie\n",
            "8 . Some Like It Hot\n",
            "9 . Enough\n",
            "10 . The Juror\n",
            "11 . Eye for an Eye\n",
            "12 . Superman III\n",
            "13 . The Misfits\n",
            "14 . Duel in the Sun\n",
            "15 . All That Jazz\n",
            "16 . Camping Sauvage\n",
            "17 . Beyond the Black Rainbow\n",
            "18 . Tora! Tora! Tora!\n",
            "19 . We Are Your Friends\n",
            "20 . Harry Brown\n",
            "21 . Master and Commander: The Far Side of the World\n",
            "22 . The Dark Knight Rises\n",
            "23 . To Kill a Mockingbird\n",
            "24 . Dallas Buyers Club\n",
            "25 . Man of Steel\n",
            "26 . Sabotage\n",
            "27 . Broken Vessels\n",
            "28 . Savages\n",
            "29 . Edge of Darkness\n"
          ]
        }
      ]
    }
  ]
}